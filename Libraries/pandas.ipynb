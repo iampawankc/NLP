{
 "cells": [
  {
   "attachments": {},
   "cell_type": "markdown",
   "metadata": {},
   "source": [
    "# Pandas\n",
    "- Pandas is a python library that is used to manipulate the data\n",
    "- Pandas stands for Panel data\n",
    "\n",
    "# In Pandas we work on 2 types of objects\n",
    "- Series\n",
    "- Datarame \n",
    "\n",
    "# Series\n",
    "- A series is like a 1D structure\n",
    "- It can be considered as a column from an excel table\n",
    "- A column without headre is series\n",
    "\n"
   ]
  },
  {
   "cell_type": "code",
   "execution_count": 2,
   "metadata": {},
   "outputs": [
    {
     "data": {
      "text/plain": [
       "'1.5.3'"
      ]
     },
     "execution_count": 2,
     "metadata": {},
     "output_type": "execute_result"
    }
   ],
   "source": [
    "import pandas as pd\n",
    "pd.__version__"
   ]
  },
  {
   "attachments": {},
   "cell_type": "markdown",
   "metadata": {},
   "source": [
    "## Creating series\n",
    "pd.series()\n",
    "\n",
    "### Creating series using a list or tuple\n",
    "- Series contains 2 objects \n",
    "1. Index object\n",
    "2. Values\n",
    "- In series, we cannot have headers"
   ]
  },
  {
   "cell_type": "code",
   "execution_count": 4,
   "metadata": {},
   "outputs": [
    {
     "data": {
      "text/plain": [
       "0    10\n",
       "1    20\n",
       "2    30\n",
       "3    40\n",
       "4    50\n",
       "5    60\n",
       "6    70\n",
       "7    80\n",
       "dtype: int64"
      ]
     },
     "execution_count": 4,
     "metadata": {},
     "output_type": "execute_result"
    }
   ],
   "source": [
    "lst=[10,20,30,40,50,60,70,80]\n",
    "s=pd.Series(lst)\n",
    "s\n",
    "#First object displayed is index, second one is data"
   ]
  },
  {
   "attachments": {},
   "cell_type": "markdown",
   "metadata": {},
   "source": [
    "## Attributes on a series\n",
    "\n",
    "### Size\n",
    "- It returns number of elements from a series\n",
    "\n",
    "### dtype\n",
    "- It returns the datatype of values that the series contains\n",
    "\n",
    "### ndim\n",
    "- It returns the dimention os the array\n",
    "\n",
    "### shape\n",
    "- It returns the shape of the array\n",
    "\n",
    "### index\n",
    "- It returns the index object that contains indeces of the series\n",
    "\n",
    "### values\n",
    "- It returns an array that contains the values from the series\n",
    "\n",
    "### name\n",
    "- It is used to name a series"
   ]
  },
  {
   "cell_type": "code",
   "execution_count": 5,
   "metadata": {},
   "outputs": [
    {
     "data": {
      "text/plain": [
       "8"
      ]
     },
     "execution_count": 5,
     "metadata": {},
     "output_type": "execute_result"
    }
   ],
   "source": [
    "s.size"
   ]
  },
  {
   "cell_type": "code",
   "execution_count": 6,
   "metadata": {},
   "outputs": [
    {
     "data": {
      "text/plain": [
       "dtype('int64')"
      ]
     },
     "execution_count": 6,
     "metadata": {},
     "output_type": "execute_result"
    }
   ],
   "source": [
    "s.dtype"
   ]
  },
  {
   "cell_type": "code",
   "execution_count": 7,
   "metadata": {},
   "outputs": [
    {
     "data": {
      "text/plain": [
       "1"
      ]
     },
     "execution_count": 7,
     "metadata": {},
     "output_type": "execute_result"
    }
   ],
   "source": [
    "s.ndim"
   ]
  },
  {
   "cell_type": "code",
   "execution_count": 8,
   "metadata": {},
   "outputs": [
    {
     "data": {
      "text/plain": [
       "(8,)"
      ]
     },
     "execution_count": 8,
     "metadata": {},
     "output_type": "execute_result"
    }
   ],
   "source": [
    "s.shape"
   ]
  },
  {
   "cell_type": "code",
   "execution_count": 9,
   "metadata": {},
   "outputs": [
    {
     "data": {
      "text/plain": [
       "RangeIndex(start=0, stop=8, step=1)"
      ]
     },
     "execution_count": 9,
     "metadata": {},
     "output_type": "execute_result"
    }
   ],
   "source": [
    "s.index"
   ]
  },
  {
   "cell_type": "code",
   "execution_count": 10,
   "metadata": {},
   "outputs": [
    {
     "data": {
      "text/plain": [
       "array([10, 20, 30, 40, 50, 60, 70, 80])"
      ]
     },
     "execution_count": 10,
     "metadata": {},
     "output_type": "execute_result"
    }
   ],
   "source": [
    "s.values"
   ]
  },
  {
   "cell_type": "code",
   "execution_count": 15,
   "metadata": {},
   "outputs": [
    {
     "data": {
      "text/plain": [
       "0    10\n",
       "1    20\n",
       "2    30\n",
       "3    40\n",
       "4    50\n",
       "5    60\n",
       "6    70\n",
       "7    80\n",
       "Name: Numbers, dtype: int64"
      ]
     },
     "execution_count": 15,
     "metadata": {},
     "output_type": "execute_result"
    }
   ],
   "source": [
    "s.name = 'Numbers'\n",
    "s.name\n",
    "s"
   ]
  },
  {
   "attachments": {},
   "cell_type": "markdown",
   "metadata": {},
   "source": [
    "# Creating series using dictionaties\n",
    "\n",
    "- When we create series using a dict, then keys of the dict becomes index and the values of dict is the series values"
   ]
  },
  {
   "cell_type": "code",
   "execution_count": 11,
   "metadata": {},
   "outputs": [
    {
     "data": {
      "text/plain": [
       "ID            101\n",
       "Name       Suresh\n",
       "age            31\n",
       "company        MS\n",
       "dtype: object"
      ]
     },
     "execution_count": 11,
     "metadata": {},
     "output_type": "execute_result"
    }
   ],
   "source": [
    "dict = {'ID':101, 'Name':'Suresh', 'age':31, 'company':'MS'}\n",
    "ds = pd.Series(dict)\n",
    "ds"
   ]
  },
  {
   "cell_type": "code",
   "execution_count": 12,
   "metadata": {},
   "outputs": [
    {
     "data": {
      "text/plain": [
       "Index(['ID', 'Name', 'age', 'company'], dtype='object')"
      ]
     },
     "execution_count": 12,
     "metadata": {},
     "output_type": "execute_result"
    }
   ],
   "source": [
    "# Unlike earlier list object, index property returns the actual key value instead of range value\n",
    "ds.index"
   ]
  },
  {
   "attachments": {},
   "cell_type": "markdown",
   "metadata": {},
   "source": [
    "# Indexes of a series \n",
    "\n",
    "1. Implicit indexes (Pandas defined) length = 0 to len(ser)-1\n",
    "2. Explicit indexes (User defined). These are also called as labels"
   ]
  },
  {
   "cell_type": "code",
   "execution_count": 18,
   "metadata": {},
   "outputs": [
    {
     "data": {
      "text/plain": [
       "0    A\n",
       "1    B\n",
       "2    C\n",
       "3    D\n",
       "4    E\n",
       "5    F\n",
       "dtype: object"
      ]
     },
     "execution_count": 18,
     "metadata": {},
     "output_type": "execute_result"
    }
   ],
   "source": [
    "names = ('A', 'B', 'C', 'D', 'E', 'F')\n",
    "s = pd.Series(names)\n",
    "s"
   ]
  },
  {
   "cell_type": "code",
   "execution_count": 19,
   "metadata": {},
   "outputs": [
    {
     "data": {
      "text/plain": [
       "RangeIndex(start=0, stop=6, step=1)"
      ]
     },
     "execution_count": 19,
     "metadata": {},
     "output_type": "execute_result"
    }
   ],
   "source": [
    "s.index #Implicit index"
   ]
  },
  {
   "cell_type": "code",
   "execution_count": 20,
   "metadata": {},
   "outputs": [
    {
     "data": {
      "text/plain": [
       "Index(['ID', 'Name', 'age', 'company'], dtype='object')"
      ]
     },
     "execution_count": 20,
     "metadata": {},
     "output_type": "execute_result"
    }
   ],
   "source": [
    "ds.index #Explicit index"
   ]
  },
  {
   "cell_type": "markdown",
   "metadata": {},
   "source": [
    "### How to pass user defined indexes(labels)"
   ]
  },
  {
   "cell_type": "code",
   "execution_count": 21,
   "metadata": {},
   "outputs": [
    {
     "data": {
      "text/plain": [
       "('A', 'B', 'C', 'D', 'E', 'F')"
      ]
     },
     "execution_count": 21,
     "metadata": {},
     "output_type": "execute_result"
    }
   ],
   "source": [
    "names"
   ]
  },
  {
   "cell_type": "code",
   "execution_count": 22,
   "metadata": {},
   "outputs": [
    {
     "data": {
      "text/plain": [
       "[1, 2, 103, 4, 5, 106]"
      ]
     },
     "execution_count": 22,
     "metadata": {},
     "output_type": "execute_result"
    }
   ],
   "source": [
    "id = [1,2,103,4,5,106]\n",
    "id"
   ]
  },
  {
   "cell_type": "code",
   "execution_count": 23,
   "metadata": {},
   "outputs": [
    {
     "data": {
      "text/plain": [
       "1      A\n",
       "2      B\n",
       "103    C\n",
       "4      D\n",
       "5      E\n",
       "106    F\n",
       "dtype: object"
      ]
     },
     "execution_count": 23,
     "metadata": {},
     "output_type": "execute_result"
    }
   ],
   "source": [
    "s = pd.Series(names, index=id)\n",
    "s"
   ]
  },
  {
   "cell_type": "code",
   "execution_count": 24,
   "metadata": {},
   "outputs": [
    {
     "data": {
      "text/plain": [
       "a    A\n",
       "b    B\n",
       "c    C\n",
       "d    D\n",
       "e    E\n",
       "f    F\n",
       "dtype: object"
      ]
     },
     "execution_count": 24,
     "metadata": {},
     "output_type": "execute_result"
    }
   ],
   "source": [
    "s = pd.Series(names, index=['a','b','c','d','e','f'])\n",
    "s"
   ]
  },
  {
   "cell_type": "code",
   "execution_count": 26,
   "metadata": {},
   "outputs": [
    {
     "name": "stdout",
     "output_type": "stream",
     "text": [
      "RangeIndex(start=0, stop=5, step=1)\n",
      "0    1000\n",
      "1    2000\n",
      "2    3000\n",
      "3    4000\n",
      "4    5000\n",
      "dtype: int64\n"
     ]
    }
   ],
   "source": [
    "#Index for arrays using series\n",
    "import numpy as np\n",
    "ser = pd.Series(np.array([1000,2000,3000,4000,5000]))\n",
    "print(ser.index)\n",
    "print(ser)"
   ]
  },
  {
   "cell_type": "code",
   "execution_count": 27,
   "metadata": {},
   "outputs": [
    {
     "data": {
      "text/plain": [
       "Delhi          India\n",
       "Moscow        Russia\n",
       "Hanoi       Vietname\n",
       "Beijing        China\n",
       "London            UK\n",
       "Tokyo          Japan\n",
       "Jakarta    Indonesia\n",
       "dtype: object"
      ]
     },
     "execution_count": 27,
     "metadata": {},
     "output_type": "execute_result"
    }
   ],
   "source": [
    "countries = ['India', 'Russia', 'Vietname', 'China', 'UK', 'Japan', 'Indonesia']\n",
    "capitals = ['Delhi', 'Moscow', 'Hanoi', 'Beijing', 'London', 'Tokyo', 'Jakarta']\n",
    "\n",
    "#Countries should be the index, capitals values\n",
    "s_capital = pd.Series(countries, index=capitals)\n",
    "s_capital"
   ]
  },
  {
   "attachments": {},
   "cell_type": "markdown",
   "metadata": {},
   "source": [
    "# Accessing elements from a series\n",
    "\n",
    "## s[index] : Has limitations\n",
    "\n",
    "## iloc\n",
    "- It stands for index location\n",
    "- It is used to fetch values on basis of implicit index\n",
    "\n",
    "## loc\n",
    "- It stands for location\n",
    "- It is used to fetch values on basis of explicit index\n"
   ]
  },
  {
   "cell_type": "code",
   "execution_count": 31,
   "metadata": {},
   "outputs": [
    {
     "data": {
      "text/plain": [
       "Delhi          India\n",
       "Moscow        Russia\n",
       "Hanoi       Vietname\n",
       "Beijing        China\n",
       "London            UK\n",
       "Tokyo          Japan\n",
       "Jakarta    Indonesia\n",
       "dtype: object"
      ]
     },
     "execution_count": 31,
     "metadata": {},
     "output_type": "execute_result"
    }
   ],
   "source": [
    "s_capital"
   ]
  },
  {
   "cell_type": "code",
   "execution_count": 38,
   "metadata": {},
   "outputs": [
    {
     "name": "stdout",
     "output_type": "stream",
     "text": [
      "India\n",
      "Vietname\n"
     ]
    }
   ],
   "source": [
    "print(s_capital.loc['Delhi'])\n",
    "\n",
    "print(s_capital.iloc[2])"
   ]
  },
  {
   "attachments": {},
   "cell_type": "markdown",
   "metadata": {},
   "source": [
    "# Slicing\n",
    "- s.iloc[start:stop:step] for implicit indexes\n",
    "- s.loc[start:stop:step] for explicit indexes, stop is excluded\n",
    "\n",
    "### IMP\n",
    "### Series created using explicit indeces (dict) also have implicit index along with explicit index(iloc) which can be accessed via loc"
   ]
  },
  {
   "cell_type": "code",
   "execution_count": 41,
   "metadata": {},
   "outputs": [
    {
     "data": {
      "text/plain": [
       "0    1000\n",
       "1    2000\n",
       "2    3000\n",
       "3    4000\n",
       "4    5000\n",
       "dtype: int64"
      ]
     },
     "execution_count": 41,
     "metadata": {},
     "output_type": "execute_result"
    }
   ],
   "source": [
    "ser"
   ]
  },
  {
   "cell_type": "code",
   "execution_count": 40,
   "metadata": {},
   "outputs": [
    {
     "data": {
      "text/plain": [
       "0    1000\n",
       "1    2000\n",
       "2    3000\n",
       "dtype: int64"
      ]
     },
     "execution_count": 40,
     "metadata": {},
     "output_type": "execute_result"
    }
   ],
   "source": [
    "ser.loc[0:2]"
   ]
  },
  {
   "cell_type": "code",
   "execution_count": 42,
   "metadata": {},
   "outputs": [
    {
     "data": {
      "text/plain": [
       "Jakarta    Indonesia\n",
       "Tokyo          Japan\n",
       "London            UK\n",
       "Beijing        China\n",
       "Hanoi       Vietname\n",
       "Moscow        Russia\n",
       "Delhi          India\n",
       "dtype: object"
      ]
     },
     "execution_count": 42,
     "metadata": {},
     "output_type": "execute_result"
    }
   ],
   "source": [
    "s_capital.iloc[::-1]"
   ]
  },
  {
   "cell_type": "code",
   "execution_count": 48,
   "metadata": {},
   "outputs": [
    {
     "data": {
      "text/plain": [
       "Moscow       Russia\n",
       "Hanoi      Vietname\n",
       "Beijing       China\n",
       "London           UK\n",
       "Tokyo         Japan\n",
       "dtype: object"
      ]
     },
     "execution_count": 48,
     "metadata": {},
     "output_type": "execute_result"
    }
   ],
   "source": [
    "s_capital.loc['Moscow':'Tokyo']"
   ]
  },
  {
   "cell_type": "code",
   "execution_count": 50,
   "metadata": {},
   "outputs": [
    {
     "data": {
      "text/plain": [
       "Series([], dtype: object)"
      ]
     },
     "execution_count": 50,
     "metadata": {},
     "output_type": "execute_result"
    }
   ],
   "source": [
    "s_capital.loc['Moscow':'Tokyo': -1]"
   ]
  },
  {
   "attachments": {},
   "cell_type": "markdown",
   "metadata": {},
   "source": [
    "# Operations on series"
   ]
  },
  {
   "cell_type": "code",
   "execution_count": 51,
   "metadata": {},
   "outputs": [
    {
     "data": {
      "text/plain": [
       "0     15\n",
       "1     23\n",
       "2     46\n",
       "3     77\n",
       "4     76\n",
       "5     97\n",
       "6     56\n",
       "7     99\n",
       "8     72\n",
       "9     83\n",
       "10    99\n",
       "11    34\n",
       "12    53\n",
       "13    41\n",
       "14    67\n",
       "15    50\n",
       "16    72\n",
       "17    52\n",
       "18    16\n",
       "19    96\n",
       "dtype: int64"
      ]
     },
     "execution_count": 51,
     "metadata": {},
     "output_type": "execute_result"
    }
   ],
   "source": [
    "arr = np.random.randint(10,100, 20)\n",
    "num = pd.Series(arr)\n",
    "num"
   ]
  },
  {
   "cell_type": "code",
   "execution_count": 54,
   "metadata": {},
   "outputs": [
    {
     "name": "stdout",
     "output_type": "stream",
     "text": [
      "1224\n",
      "15\n",
      "99\n"
     ]
    }
   ],
   "source": [
    "print(num.sum())\n",
    "print(num.min())\n",
    "print(num.max())"
   ]
  },
  {
   "attachments": {},
   "cell_type": "markdown",
   "metadata": {},
   "source": [
    "# Sorting a series"
   ]
  },
  {
   "cell_type": "code",
   "execution_count": 55,
   "metadata": {},
   "outputs": [
    {
     "data": {
      "text/plain": [
       "0     15\n",
       "18    16\n",
       "1     23\n",
       "11    34\n",
       "13    41\n",
       "2     46\n",
       "15    50\n",
       "17    52\n",
       "12    53\n",
       "6     56\n",
       "14    67\n",
       "16    72\n",
       "8     72\n",
       "4     76\n",
       "3     77\n",
       "9     83\n",
       "19    96\n",
       "5     97\n",
       "7     99\n",
       "10    99\n",
       "dtype: int64"
      ]
     },
     "execution_count": 55,
     "metadata": {},
     "output_type": "execute_result"
    }
   ],
   "source": [
    "num.sort_values()\n",
    "#Indexes are also shifted while sorting, here data is not changes"
   ]
  },
  {
   "cell_type": "code",
   "execution_count": 56,
   "metadata": {},
   "outputs": [
    {
     "data": {
      "text/plain": [
       "0     15\n",
       "1     23\n",
       "2     46\n",
       "3     77\n",
       "4     76\n",
       "5     97\n",
       "6     56\n",
       "7     99\n",
       "8     72\n",
       "9     83\n",
       "10    99\n",
       "11    34\n",
       "12    53\n",
       "13    41\n",
       "14    67\n",
       "15    50\n",
       "16    72\n",
       "17    52\n",
       "18    16\n",
       "19    96\n",
       "dtype: int64"
      ]
     },
     "execution_count": 56,
     "metadata": {},
     "output_type": "execute_result"
    }
   ],
   "source": [
    "num.sort_index()"
   ]
  },
  {
   "cell_type": "code",
   "execution_count": 57,
   "metadata": {},
   "outputs": [
    {
     "data": {
      "text/plain": [
       "0     15\n",
       "1     16\n",
       "2     23\n",
       "3     34\n",
       "4     41\n",
       "5     46\n",
       "6     50\n",
       "7     52\n",
       "8     53\n",
       "9     56\n",
       "10    67\n",
       "11    72\n",
       "12    72\n",
       "13    76\n",
       "14    77\n",
       "15    83\n",
       "16    96\n",
       "17    97\n",
       "18    99\n",
       "19    99\n",
       "dtype: int64"
      ]
     },
     "execution_count": 57,
     "metadata": {},
     "output_type": "execute_result"
    }
   ],
   "source": [
    "num.sort_values(ignore_index=True)\n",
    "#Here indexes are redifined, but underneath data is not changed"
   ]
  },
  {
   "cell_type": "code",
   "execution_count": 58,
   "metadata": {},
   "outputs": [
    {
     "data": {
      "text/plain": [
       "0     15\n",
       "1     23\n",
       "2     46\n",
       "3     77\n",
       "4     76\n",
       "5     97\n",
       "6     56\n",
       "7     99\n",
       "8     72\n",
       "9     83\n",
       "10    99\n",
       "11    34\n",
       "12    53\n",
       "13    41\n",
       "14    67\n",
       "15    50\n",
       "16    72\n",
       "17    52\n",
       "18    16\n",
       "19    96\n",
       "dtype: int64"
      ]
     },
     "execution_count": 58,
     "metadata": {},
     "output_type": "execute_result"
    }
   ],
   "source": [
    "num"
   ]
  },
  {
   "cell_type": "code",
   "execution_count": 59,
   "metadata": {},
   "outputs": [
    {
     "data": {
      "text/plain": [
       "0     99\n",
       "1     99\n",
       "2     97\n",
       "3     96\n",
       "4     83\n",
       "5     77\n",
       "6     76\n",
       "7     72\n",
       "8     72\n",
       "9     67\n",
       "10    56\n",
       "11    53\n",
       "12    52\n",
       "13    50\n",
       "14    46\n",
       "15    41\n",
       "16    34\n",
       "17    23\n",
       "18    16\n",
       "19    15\n",
       "dtype: int64"
      ]
     },
     "execution_count": 59,
     "metadata": {},
     "output_type": "execute_result"
    }
   ],
   "source": [
    "num.sort_values(ascending=False, ignore_index=True)"
   ]
  }
 ],
 "metadata": {
  "kernelspec": {
   "display_name": "Python 3",
   "language": "python",
   "name": "python3"
  },
  "language_info": {
   "codemirror_mode": {
    "name": "ipython",
    "version": 3
   },
   "file_extension": ".py",
   "mimetype": "text/x-python",
   "name": "python",
   "nbconvert_exporter": "python",
   "pygments_lexer": "ipython3",
   "version": "3.11.1"
  },
  "orig_nbformat": 4
 },
 "nbformat": 4,
 "nbformat_minor": 2
}
