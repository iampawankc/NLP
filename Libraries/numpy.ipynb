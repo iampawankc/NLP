{
 "cells": [
  {
   "attachments": {},
   "cell_type": "markdown",
   "metadata": {},
   "source": [
    "# Numpy\n",
    "\n",
    "1. Numpy stands for numerical python\n",
    "2. Numpy is used to perform advanced numerical computations on large datasets\n",
    "3. Numpy can perform complex operations with less lines of code\n",
    "4. It provides a very useful datastructure called array\n",
    "\n",
    "syntax\n",
    "import numpy\n",
    "\n",
    "check version of numpy\n",
    "np.__version__\n",
    "\n",
    "Documentation available at numpy.org"
   ]
  },
  {
   "cell_type": "code",
   "execution_count": 2,
   "metadata": {},
   "outputs": [
    {
     "data": {
      "text/plain": [
       "'1.24.2'"
      ]
     },
     "execution_count": 2,
     "metadata": {},
     "output_type": "execute_result"
    }
   ],
   "source": [
    "import numpy as np\n",
    "\n",
    "np.__version__"
   ]
  },
  {
   "attachments": {},
   "cell_type": "markdown",
   "metadata": {},
   "source": [
    "# Array\n",
    "- Array is the collection of homohenous(same type) elements.\n",
    "\n",
    "# np.array\n",
    "Creation of array use np.array"
   ]
  },
  {
   "cell_type": "code",
   "execution_count": 5,
   "metadata": {},
   "outputs": [
    {
     "name": "stdout",
     "output_type": "stream",
     "text": [
      "[10 20 30 40 50] <class 'numpy.ndarray'>\n"
     ]
    }
   ],
   "source": [
    "lst = [10,20,30,40,50]\n",
    "arr = np.array(lst)\n",
    "print(arr, type(arr))"
   ]
  },
  {
   "attachments": {},
   "cell_type": "markdown",
   "metadata": {},
   "source": [
    "# List vs array\n",
    "- With list we have to apply loop to perform element by elemnt operation.\n",
    "    with array we can easily perform some operation rather than list\n",
    "- A list has to store a lot of information for each element seperately bacause each element behaves differently in a list(heterogenous elments). Array is a collection of homogenous elements, so no need to manage elements individually.\n",
    "- Arrays are faster than list"
   ]
  },
  {
   "cell_type": "code",
   "execution_count": 7,
   "metadata": {},
   "outputs": [
    {
     "name": "stdout",
     "output_type": "stream",
     "text": [
      "[10, 20, 30, 40, 50, 60] <class 'list'>\n",
      "[50, 100, 150, 200, 250, 300]\n"
     ]
    }
   ],
   "source": [
    "#Multiply each element of following list by 5\n",
    "\n",
    "#List approach\n",
    "lst=[10,20,30,40,50,60]\n",
    "print(lst, type(lst))\n",
    "for i in range(len(lst)):\n",
    "    lst[i]*=5\n",
    "print(lst)"
   ]
  },
  {
   "cell_type": "code",
   "execution_count": 8,
   "metadata": {},
   "outputs": [
    {
     "data": {
      "text/plain": [
       "array([ 50, 100, 150, 200, 250, 300])"
      ]
     },
     "execution_count": 8,
     "metadata": {},
     "output_type": "execute_result"
    }
   ],
   "source": [
    "#Array approach\n",
    "lst=[10,20,30,40,50,60]\n",
    "arr = np.array(lst)\n",
    "arr*5"
   ]
  },
  {
   "attachments": {},
   "cell_type": "markdown",
   "metadata": {},
   "source": [
    "# Why are array faster than list\n",
    "- On list we have to use loops to perform some operation. Loops make the process slow\n",
    "- Array's use vectorised operations by using array broadcasting and this process is much faster than loops.\n",
    "- A list is a caoolection of heterogenous elements, whereas array is a collection of homogenous elements.\n",
    "\n",
    "# Array upcasting\n",
    "When we pass heterogenous elements to an array, it converts them to one type. This process is known as array upcasting\n",
    "\n",
    "Array upcasting is using below hierarchy while upasting as below:\n",
    "int -> float -> complex -> string -> object"
   ]
  },
  {
   "cell_type": "code",
   "execution_count": 10,
   "metadata": {},
   "outputs": [
    {
     "data": {
      "text/plain": [
       "dtype('int64')"
      ]
     },
     "execution_count": 10,
     "metadata": {},
     "output_type": "execute_result"
    }
   ],
   "source": [
    "arr = np.array([10,20,30,40,50])\n",
    "arr.dtype"
   ]
  },
  {
   "cell_type": "code",
   "execution_count": 11,
   "metadata": {},
   "outputs": [
    {
     "data": {
      "text/plain": [
       "dtype('float64')"
      ]
     },
     "execution_count": 11,
     "metadata": {},
     "output_type": "execute_result"
    }
   ],
   "source": [
    "arr = np.array([10,20,30,40,50.0])\n",
    "arr.dtype"
   ]
  },
  {
   "cell_type": "code",
   "execution_count": 15,
   "metadata": {},
   "outputs": [
    {
     "name": "stdout",
     "output_type": "stream",
     "text": [
      "complex128\n",
      "[10. +0.j 20. +5.j 30. +0.j 40.7+0.j 50. +0.j]\n"
     ]
    }
   ],
   "source": [
    "arr = np.array([10,20+5j,30,40.7,50])\n",
    "print(arr.dtype)\n",
    "print(arr)"
   ]
  },
  {
   "cell_type": "code",
   "execution_count": 18,
   "metadata": {},
   "outputs": [
    {
     "name": "stdout",
     "output_type": "stream",
     "text": [
      "<U64\n",
      "['10.5' '(20+5j)' '30' '40.7' '50']\n"
     ]
    }
   ],
   "source": [
    "# In numpy, string are not available. It is represented by u representation. u=unicode\n",
    "arr = np.array([10.5,20+5j,30,40.7,'50'])\n",
    "print(arr.dtype)\n",
    "print(arr)"
   ]
  },
  {
   "cell_type": "code",
   "execution_count": 21,
   "metadata": {},
   "outputs": [
    {
     "ename": "ValueError",
     "evalue": "setting an array element with a sequence. The requested array has an inhomogeneous shape after 1 dimensions. The detected shape was (5,) + inhomogeneous part.",
     "output_type": "error",
     "traceback": [
      "\u001b[0;31m---------------------------------------------------------------------------\u001b[0m",
      "\u001b[0;31mValueError\u001b[0m                                Traceback (most recent call last)",
      "Cell \u001b[0;32mIn[21], line 2\u001b[0m\n\u001b[1;32m      1\u001b[0m \u001b[39m# In numpy, string are not available. It is represented by u representation. u=unicode\u001b[39;00m\n\u001b[0;32m----> 2\u001b[0m arr \u001b[39m=\u001b[39m np\u001b[39m.\u001b[39;49marray([\u001b[39m10.5\u001b[39;49m,\u001b[39m20\u001b[39;49m\u001b[39m+\u001b[39;49m\u001b[39m5\u001b[39;49mj,\u001b[39m30\u001b[39;49m,[\u001b[39m40.7\u001b[39;49m,\u001b[39m60.1\u001b[39;49m],\u001b[39m'\u001b[39;49m\u001b[39m50\u001b[39;49m\u001b[39m'\u001b[39;49m])\n\u001b[1;32m      3\u001b[0m \u001b[39mprint\u001b[39m(arr\u001b[39m.\u001b[39mdtype)\n\u001b[1;32m      4\u001b[0m \u001b[39mprint\u001b[39m(arr)\n",
      "\u001b[0;31mValueError\u001b[0m: setting an array element with a sequence. The requested array has an inhomogeneous shape after 1 dimensions. The detected shape was (5,) + inhomogeneous part."
     ]
    }
   ],
   "source": [
    "#When using derived datatype, compiler throws an array, to supress this defing dtype=object\n",
    "arr = np.array([10.5,20+5j,30,[40.7,60.1],'50'])\n",
    "print(arr.dtype)\n",
    "print(arr)"
   ]
  },
  {
   "cell_type": "code",
   "execution_count": 22,
   "metadata": {},
   "outputs": [
    {
     "name": "stdout",
     "output_type": "stream",
     "text": [
      "object\n",
      "[10.5 (20+5j) 30 list([40.7, 60.1]) '50']\n"
     ]
    }
   ],
   "source": [
    "arr = np.array([10.5,20+5j,30,[40.7,60.1],'50'], dtype=object)\n",
    "print(arr.dtype)\n",
    "print(arr)"
   ]
  },
  {
   "cell_type": "code",
   "execution_count": 24,
   "metadata": {},
   "outputs": [
    {
     "name": "stdout",
     "output_type": "stream",
     "text": [
      "object\n",
      "[10.5 (20+5j) 30 40.7 60 '50' None True]\n"
     ]
    }
   ],
   "source": [
    "arr = np.array([10.5,20+5j,30,40.7,60,'50',None, True])\n",
    "print(arr.dtype)\n",
    "print(arr)"
   ]
  },
  {
   "attachments": {},
   "cell_type": "markdown",
   "metadata": {},
   "source": [
    "# Attributes on arrays\n",
    "\n",
    "- dtype: Returns type of the elements an array contains\n",
    "- size: Returns the number of elements an array contains\n",
    "- shape: Returns a tuple. If tuple has single elements it represents number of elements\n",
    "        If tuple has two elements, then first element is number of rows and second is number of columns.\n",
    "- ndim : Returns the dimention of the array. 1d is called a vector"
   ]
  },
  {
   "cell_type": "code",
   "execution_count": 31,
   "metadata": {},
   "outputs": [
    {
     "name": "stdout",
     "output_type": "stream",
     "text": [
      "int64\n",
      "5\n",
      "(5,)\n",
      "1\n"
     ]
    }
   ],
   "source": [
    "arr = np.array([10,20,30,40,50])\n",
    "print(arr.dtype)\n",
    "print(arr.size)\n",
    "print(arr.shape)\n",
    "print(arr.ndim)"
   ]
  },
  {
   "cell_type": "code",
   "execution_count": 33,
   "metadata": {},
   "outputs": [
    {
     "name": "stdout",
     "output_type": "stream",
     "text": [
      "(2, 3)\n",
      "2\n"
     ]
    }
   ],
   "source": [
    "arr = np.array([[1,2,3],[4,5,6]])\n",
    "print(arr.shape)\n",
    "print(arr.ndim)"
   ]
  },
  {
   "attachments": {},
   "cell_type": "markdown",
   "metadata": {},
   "source": [
    "# Creating different types of arrays\n",
    "\n",
    "1. np.arange()\n",
    "syntax: np.arrange(start, stop, step)\n",
    "\n",
    "2. np.linspace()\n",
    "Used to create an array of equally spaced values within a range of values\n",
    "Difference between any two consequtive values is same across the elements of array \n",
    "syntax: np.linspace(start, stop, number of values)\n",
    "\n",
    "3. np.zeros()\n",
    "Returns an array of given shape where all elements of array is zero. The dimention of array needs to be passed in a tuple\n",
    "\n",
    "4. np.ones()\n",
    "Returns an array of given shape where all elements of array is one.\n",
    "\n",
    "5. np.eye()\n",
    "Returns identity matrix\n",
    "\n",
    "6. np.zeros_like()\n",
    "It returns an array of zeros of the shape of given matrix\n",
    "\n",
    "7. np.ones_like()\n",
    "It returns an array of ones of the shape of given matrix\n",
    "\n",
    "8. np.full_like()\n",
    "It returns an array of the shape of given array and given value\n",
    "\n",
    "9. np.diagonal()\n",
    "It returns the principle diagonal from the array\n",
    "\n",
    "10. np.diag()\n",
    "It returns diagonal array. \n",
    "In a diagonal array, diagonal are non-zeros where rest of the elements are zeros\n",
    "\n",
    "11. np.trace()\n",
    "It returns the sum of the diagonal of an array\n"
   ]
  },
  {
   "cell_type": "code",
   "execution_count": 37,
   "metadata": {},
   "outputs": [
    {
     "name": "stdout",
     "output_type": "stream",
     "text": [
      "[1 2 3 4 5 6 7 8 9]\n",
      "[ 1  2  3  4  5  6  7  8  9 10]\n",
      "[ 2  4  6  8 10 12 14 16 18 20]\n"
     ]
    }
   ],
   "source": [
    "#Create a array that has the number 1 to 10\n",
    "lst=[i for i in range(1,10)]\n",
    "print(np.array(lst))\n",
    "\n",
    "print(np.arange(1,11))\n",
    "\n",
    "#Create a array of even numbers frpm 2 to 20\n",
    "print(np.arange(2,21,2))"
   ]
  },
  {
   "cell_type": "code",
   "execution_count": 41,
   "metadata": {},
   "outputs": [
    {
     "name": "stdout",
     "output_type": "stream",
     "text": [
      "[1.  1.5 2.  2.5 3. ]\n",
      "[ 1.          1.47368421  1.94736842  2.42105263  2.89473684  3.36842105\n",
      "  3.84210526  4.31578947  4.78947368  5.26315789  5.73684211  6.21052632\n",
      "  6.68421053  7.15789474  7.63157895  8.10526316  8.57894737  9.05263158\n",
      "  9.52631579 10.        ]\n"
     ]
    }
   ],
   "source": [
    "# np.linspace()\n",
    "#Create  an array of 5 equally spaced values between 1 and 3\n",
    "\n",
    "print(np.linspace(1,3,5))\n",
    "\n",
    "print(np.linspace(1,10,20))"
   ]
  },
  {
   "cell_type": "code",
   "execution_count": 43,
   "metadata": {},
   "outputs": [
    {
     "data": {
      "text/plain": [
       "array([[0., 0., 0.],\n",
       "       [0., 0., 0.],\n",
       "       [0., 0., 0.]])"
      ]
     },
     "execution_count": 43,
     "metadata": {},
     "output_type": "execute_result"
    }
   ],
   "source": [
    "#Create a 3X3 matrix where all elements are 0\n",
    "np.zeros((3,3))"
   ]
  },
  {
   "cell_type": "code",
   "execution_count": 44,
   "metadata": {},
   "outputs": [
    {
     "data": {
      "text/plain": [
       "array([[0, 0, 0],\n",
       "       [0, 0, 0],\n",
       "       [0, 0, 0]])"
      ]
     },
     "execution_count": 44,
     "metadata": {},
     "output_type": "execute_result"
    }
   ],
   "source": [
    "np.zeros((3,3), dtype=int)"
   ]
  },
  {
   "cell_type": "code",
   "execution_count": 47,
   "metadata": {},
   "outputs": [
    {
     "name": "stdout",
     "output_type": "stream",
     "text": [
      "int64\n",
      "[[1 1 1]\n",
      " [1 1 1]\n",
      " [1 1 1]]\n"
     ]
    }
   ],
   "source": [
    "x= np.ones((3,3), dtype=int)\n",
    "print(x.dtype)\n",
    "print(x)"
   ]
  },
  {
   "attachments": {},
   "cell_type": "markdown",
   "metadata": {},
   "source": [
    "Class record Aoril 27\n"
   ]
  },
  {
   "cell_type": "code",
   "execution_count": 4,
   "metadata": {},
   "outputs": [
    {
     "data": {
      "text/plain": [
       "array([[1, 0, 0, 0],\n",
       "       [0, 1, 0, 0],\n",
       "       [0, 0, 1, 0],\n",
       "       [0, 0, 0, 1]])"
      ]
     },
     "execution_count": 4,
     "metadata": {},
     "output_type": "execute_result"
    }
   ],
   "source": [
    "import numpy as np\n",
    "np.eye(4,4, dtype=int)"
   ]
  },
  {
   "cell_type": "code",
   "execution_count": 6,
   "metadata": {},
   "outputs": [
    {
     "name": "stdout",
     "output_type": "stream",
     "text": [
      "[[0 0 0]\n",
      " [0 0 0]]\n",
      "[[1 1 1]\n",
      " [1 1 1]]\n"
     ]
    }
   ],
   "source": [
    "array=([[2,4,6],[6,8,0]])\n",
    "print(np.zeros_like(array))\n",
    "\n",
    "print(np.ones_like(array))"
   ]
  },
  {
   "cell_type": "code",
   "execution_count": 8,
   "metadata": {},
   "outputs": [
    {
     "name": "stdout",
     "output_type": "stream",
     "text": [
      "[[50 50 50]\n",
      " [50 50 50]]\n",
      "[[50.5 50.5 50.5]\n",
      " [50.5 50.5 50.5]]\n"
     ]
    }
   ],
   "source": [
    "print(np.full_like(array, 50))\n",
    "\n",
    "print(np.full_like(array, 50.5, dtype=float))"
   ]
  },
  {
   "cell_type": "code",
   "execution_count": 10,
   "metadata": {},
   "outputs": [
    {
     "name": "stdout",
     "output_type": "stream",
     "text": [
      "[[74 72 14 20 44]\n",
      " [10 37 90 39 58]\n",
      " [75 67 37 31 38]\n",
      " [93 71 98 86 51]\n",
      " [28 23 24 59 97]]\n"
     ]
    }
   ],
   "source": [
    "arr = np.random.randint(10,100,25).reshape(5,5)\n",
    "print(arr)"
   ]
  },
  {
   "cell_type": "code",
   "execution_count": 11,
   "metadata": {},
   "outputs": [
    {
     "data": {
      "text/plain": [
       "array([74, 37, 37, 86, 97])"
      ]
     },
     "execution_count": 11,
     "metadata": {},
     "output_type": "execute_result"
    }
   ],
   "source": [
    "np.diagonal(arr)"
   ]
  },
  {
   "cell_type": "code",
   "execution_count": 12,
   "metadata": {},
   "outputs": [
    {
     "data": {
      "text/plain": [
       "array([72, 90, 31, 51])"
      ]
     },
     "execution_count": 12,
     "metadata": {},
     "output_type": "execute_result"
    }
   ],
   "source": [
    "# To get one upper diagonal ude offset=1 and so on\n",
    "np.diagonal(arr, offset=1)"
   ]
  },
  {
   "cell_type": "code",
   "execution_count": 13,
   "metadata": {},
   "outputs": [
    {
     "data": {
      "text/plain": [
       "array([[2, 0, 0, 0],\n",
       "       [0, 4, 0, 0],\n",
       "       [0, 0, 6, 0],\n",
       "       [0, 0, 0, 8]])"
      ]
     },
     "execution_count": 13,
     "metadata": {},
     "output_type": "execute_result"
    }
   ],
   "source": [
    "#Only pass the diagonal elements\n",
    "np.diag([2,4,6,8])"
   ]
  },
  {
   "cell_type": "code",
   "execution_count": 17,
   "metadata": {},
   "outputs": [
    {
     "name": "stdout",
     "output_type": "stream",
     "text": [
      "[[74 72 14 20 44]\n",
      " [10 37 90 39 58]\n",
      " [75 67 37 31 38]\n",
      " [93 71 98 86 51]\n",
      " [28 23 24 59 97]]\n",
      "[[74  0  0  0  0]\n",
      " [ 0 37  0  0  0]\n",
      " [ 0  0 37  0  0]\n",
      " [ 0  0  0 86  0]\n",
      " [ 0  0  0  0 97]]\n"
     ]
    }
   ],
   "source": [
    "#Convert an array in to a diagonal matrix\n",
    "print(arr)\n",
    "print(np.diag(arr.diagonal()))"
   ]
  },
  {
   "cell_type": "code",
   "execution_count": 22,
   "metadata": {},
   "outputs": [
    {
     "name": "stdout",
     "output_type": "stream",
     "text": [
      "331\n",
      "331\n",
      "244\n"
     ]
    }
   ],
   "source": [
    "print(np.diagonal(arr).sum())\n",
    "\n",
    "print(np.trace(arr))\n",
    "\n",
    "print(np.trace(arr, offset=1))"
   ]
  },
  {
   "cell_type": "code",
   "execution_count": 23,
   "metadata": {},
   "outputs": [
    {
     "name": "stdout",
     "output_type": "stream",
     "text": [
      "Help on function trace in module numpy:\n",
      "\n",
      "trace(a, offset=0, axis1=0, axis2=1, dtype=None, out=None)\n",
      "    Return the sum along diagonals of the array.\n",
      "    \n",
      "    If `a` is 2-D, the sum along its diagonal with the given offset\n",
      "    is returned, i.e., the sum of elements ``a[i,i+offset]`` for all i.\n",
      "    \n",
      "    If `a` has more than two dimensions, then the axes specified by axis1 and\n",
      "    axis2 are used to determine the 2-D sub-arrays whose traces are returned.\n",
      "    The shape of the resulting array is the same as that of `a` with `axis1`\n",
      "    and `axis2` removed.\n",
      "    \n",
      "    Parameters\n",
      "    ----------\n",
      "    a : array_like\n",
      "        Input array, from which the diagonals are taken.\n",
      "    offset : int, optional\n",
      "        Offset of the diagonal from the main diagonal. Can be both positive\n",
      "        and negative. Defaults to 0.\n",
      "    axis1, axis2 : int, optional\n",
      "        Axes to be used as the first and second axis of the 2-D sub-arrays\n",
      "        from which the diagonals should be taken. Defaults are the first two\n",
      "        axes of `a`.\n",
      "    dtype : dtype, optional\n",
      "        Determines the data-type of the returned array and of the accumulator\n",
      "        where the elements are summed. If dtype has the value None and `a` is\n",
      "        of integer type of precision less than the default integer\n",
      "        precision, then the default integer precision is used. Otherwise,\n",
      "        the precision is the same as that of `a`.\n",
      "    out : ndarray, optional\n",
      "        Array into which the output is placed. Its type is preserved and\n",
      "        it must be of the right shape to hold the output.\n",
      "    \n",
      "    Returns\n",
      "    -------\n",
      "    sum_along_diagonals : ndarray\n",
      "        If `a` is 2-D, the sum along the diagonal is returned.  If `a` has\n",
      "        larger dimensions, then an array of sums along diagonals is returned.\n",
      "    \n",
      "    See Also\n",
      "    --------\n",
      "    diag, diagonal, diagflat\n",
      "    \n",
      "    Examples\n",
      "    --------\n",
      "    >>> np.trace(np.eye(3))\n",
      "    3.0\n",
      "    >>> a = np.arange(8).reshape((2,2,2))\n",
      "    >>> np.trace(a)\n",
      "    array([6, 8])\n",
      "    \n",
      "    >>> a = np.arange(24).reshape((2,2,2,3))\n",
      "    >>> np.trace(a).shape\n",
      "    (2, 3)\n",
      "\n"
     ]
    }
   ],
   "source": [
    "help(np.trace)"
   ]
  },
  {
   "attachments": {},
   "cell_type": "markdown",
   "metadata": {},
   "source": [
    "# Reshaping of array\n",
    "\n",
    "1. reshape()\n",
    "It reshapes the given array as per given dimention\n",
    "It returns a new array of given shape\n",
    "\n",
    "2. shape()\n",
    "It converts the array into the array of given shape \n",
    "It makes the changes in the existing array\n",
    "syntax: arr.shape(roes, cols)\n",
    "\n",
    "3. T()\n",
    "Transpose of a matrix"
   ]
  },
  {
   "cell_type": "code",
   "execution_count": 28,
   "metadata": {},
   "outputs": [
    {
     "name": "stdout",
     "output_type": "stream",
     "text": [
      "[1 2 3 4 5 6 7 8 9]\n",
      "[[1 2 3]\n",
      " [4 5 6]\n",
      " [7 8 9]]\n"
     ]
    }
   ],
   "source": [
    "# Create a new array and reshape it to a 3X3 array\n",
    "x=np.arange(1,10)\n",
    "print(x)\n",
    "print(x.reshape(3,3))"
   ]
  },
  {
   "cell_type": "code",
   "execution_count": 29,
   "metadata": {},
   "outputs": [
    {
     "name": "stdout",
     "output_type": "stream",
     "text": [
      "[ 1  2  3  4  5  6  7  8  9 10]\n"
     ]
    },
    {
     "ename": "ValueError",
     "evalue": "cannot reshape array of size 10 into shape (3,3)",
     "output_type": "error",
     "traceback": [
      "\u001b[0;31m---------------------------------------------------------------------------\u001b[0m",
      "\u001b[0;31mValueError\u001b[0m                                Traceback (most recent call last)",
      "Cell \u001b[0;32mIn[29], line 3\u001b[0m\n\u001b[1;32m      1\u001b[0m x\u001b[39m=\u001b[39mnp\u001b[39m.\u001b[39marange(\u001b[39m1\u001b[39m,\u001b[39m11\u001b[39m)\n\u001b[1;32m      2\u001b[0m \u001b[39mprint\u001b[39m(x)\n\u001b[0;32m----> 3\u001b[0m \u001b[39mprint\u001b[39m(x\u001b[39m.\u001b[39;49mreshape(\u001b[39m3\u001b[39;49m,\u001b[39m3\u001b[39;49m))\n",
      "\u001b[0;31mValueError\u001b[0m: cannot reshape array of size 10 into shape (3,3)"
     ]
    }
   ],
   "source": [
    "# If rows*cols is equal to number of elements in matrix only then reshaping is possible\n",
    "x=np.arange(1,11)\n",
    "print(x)\n",
    "print(x.reshape(3,3))"
   ]
  },
  {
   "cell_type": "code",
   "execution_count": 37,
   "metadata": {},
   "outputs": [
    {
     "name": "stdout",
     "output_type": "stream",
     "text": [
      "[[1 2 3]\n",
      " [4 5 6]\n",
      " [7 8 9]]\n"
     ]
    }
   ],
   "source": [
    "x = np.arange(1,10)\n",
    "x.shape=(3,3)\n",
    "print(x)"
   ]
  },
  {
   "attachments": {},
   "cell_type": "markdown",
   "metadata": {},
   "source": [
    "# Transpose of an array\n",
    "Converting rows into colummns\n",
    "syntax: x.T"
   ]
  },
  {
   "cell_type": "code",
   "execution_count": 41,
   "metadata": {},
   "outputs": [
    {
     "data": {
      "text/plain": [
       "array([[ 0,  1,  2,  3,  4,  5],\n",
       "       [ 6,  7,  8,  9, 10, 11],\n",
       "       [12, 13, 14, 15, 16, 17],\n",
       "       [18, 19, 20, 21, 22, 23]])"
      ]
     },
     "execution_count": 41,
     "metadata": {},
     "output_type": "execute_result"
    }
   ],
   "source": [
    "x"
   ]
  },
  {
   "cell_type": "code",
   "execution_count": 42,
   "metadata": {},
   "outputs": [
    {
     "data": {
      "text/plain": [
       "(4, 6)"
      ]
     },
     "execution_count": 42,
     "metadata": {},
     "output_type": "execute_result"
    }
   ],
   "source": [
    "x.shape"
   ]
  },
  {
   "cell_type": "code",
   "execution_count": 43,
   "metadata": {},
   "outputs": [
    {
     "data": {
      "text/plain": [
       "array([[ 0,  6, 12, 18],\n",
       "       [ 1,  7, 13, 19],\n",
       "       [ 2,  8, 14, 20],\n",
       "       [ 3,  9, 15, 21],\n",
       "       [ 4, 10, 16, 22],\n",
       "       [ 5, 11, 17, 23]])"
      ]
     },
     "execution_count": 43,
     "metadata": {},
     "output_type": "execute_result"
    }
   ],
   "source": [
    "#It returns a new array which is the transpose of the given array\n",
    "x.T"
   ]
  },
  {
   "attachments": {},
   "cell_type": "markdown",
   "metadata": {},
   "source": [
    "# Creating of 2D array\n",
    "\n",
    "1. By using a 2D list\n",
    "[[10,8,6], [6,8,0], [1,5,0]]\n",
    "\n",
    "2. By reshaping tha array"
   ]
  },
  {
   "cell_type": "code",
   "execution_count": 46,
   "metadata": {},
   "outputs": [
    {
     "name": "stdout",
     "output_type": "stream",
     "text": [
      "(3, 3)\n",
      "2\n"
     ]
    }
   ],
   "source": [
    "x=np.array([[10,8,6], [6,8,0], [1,5,0]])\n",
    "print(x.shape)\n",
    "\n",
    "print(x.ndim)"
   ]
  },
  {
   "cell_type": "code",
   "execution_count": 50,
   "metadata": {},
   "outputs": [
    {
     "data": {
      "text/plain": [
       "array([[1, 2, 3],\n",
       "       [4, 5, 6]])"
      ]
     },
     "execution_count": 50,
     "metadata": {},
     "output_type": "execute_result"
    }
   ],
   "source": [
    "x=np.array([1,2,3,4,5,6]).reshape(2,3)\n",
    "x"
   ]
  },
  {
   "attachments": {},
   "cell_type": "markdown",
   "metadata": {},
   "source": [
    "# Creating a 3D array\n",
    "\n",
    "When we repeate a 2D array then it becomes a 3D array\n",
    "\n",
    "1. By using a 3D array\n",
    "\n",
    "2. By reshaping the array\n",
    "reshape(number of arrays, rows, cols)\n",
    "shape(number of arrays, rows, cols)"
   ]
  },
  {
   "cell_type": "code",
   "execution_count": 56,
   "metadata": {},
   "outputs": [
    {
     "name": "stdout",
     "output_type": "stream",
     "text": [
      "3\n",
      "(3, 3, 3)\n",
      "[[[10  8  6]\n",
      "  [ 6  8  0]\n",
      "  [ 1  5  0]]\n",
      "\n",
      " [[10  8  6]\n",
      "  [ 6  8  0]\n",
      "  [ 1  5  0]]\n",
      "\n",
      " [[10  8  6]\n",
      "  [ 6  8  0]\n",
      "  [ 1  5  0]]]\n"
     ]
    }
   ],
   "source": [
    "array3d = [ [[10,8,6], [6,8,0], [1,5,0]] , [[10,8,6], [6,8,0], [1,5,0]] , [[10,8,6], [6,8,0], [1,5,0]] ]\n",
    "\n",
    "x=np.array(array3d)\n",
    "print(x.ndim)\n",
    "print(x.shape)\n",
    "print(x)"
   ]
  },
  {
   "cell_type": "code",
   "execution_count": 59,
   "metadata": {},
   "outputs": [
    {
     "name": "stdout",
     "output_type": "stream",
     "text": [
      "3\n",
      "(2, 4, 6)\n",
      "[[[ 0  1  2  3  4  5]\n",
      "  [ 6  7  8  9 10 11]\n",
      "  [12 13 14 15 16 17]\n",
      "  [18 19 20 21 22 23]]\n",
      "\n",
      " [[24 25 26 27 28 29]\n",
      "  [30 31 32 33 34 35]\n",
      "  [36 37 38 39 40 41]\n",
      "  [42 43 44 45 46 47]]]\n"
     ]
    }
   ],
   "source": [
    "#Create a 3D array with shape 2X4X6\n",
    "# @ arrays, each of shape 4X6\n",
    "\n",
    "arr = np.arange(48).reshape(2,4,6)\n",
    "print(arr.ndim)\n",
    "print(arr.shape)\n",
    "print(arr)"
   ]
  },
  {
   "attachments": {},
   "cell_type": "markdown",
   "metadata": {},
   "source": [
    "# Slicing and Indexing of arrays\n",
    "\n",
    "# 1D Array\n",
    "The slicing and indexing of 1D array is exactly similar to slicing anf indexing of a list\n",
    "Arrays support positive and negative indexing\n",
    "\n",
    "# Slicing\n",
    "arr[start : Stop : step]"
   ]
  },
  {
   "cell_type": "code",
   "execution_count": 69,
   "metadata": {},
   "outputs": [
    {
     "name": "stdout",
     "output_type": "stream",
     "text": [
      "(5,)\n",
      "10\n",
      "50\n"
     ]
    }
   ],
   "source": [
    "arr = np.array([10,20,30,40,50])\n",
    "print(arr.shape)\n",
    "\n",
    "#Fetch first and last item from array\n",
    "print(arr[0])\n",
    "print(arr[len(arr)-1])"
   ]
  },
  {
   "cell_type": "code",
   "execution_count": 71,
   "metadata": {},
   "outputs": [
    {
     "name": "stdout",
     "output_type": "stream",
     "text": [
      "[10 30]\n"
     ]
    }
   ],
   "source": [
    "print(arr[0:4:2])"
   ]
  },
  {
   "cell_type": "code",
   "execution_count": 73,
   "metadata": {},
   "outputs": [
    {
     "data": {
      "text/plain": [
       "array([50, 30, 10])"
      ]
     },
     "execution_count": 73,
     "metadata": {},
     "output_type": "execute_result"
    }
   ],
   "source": [
    "#Every second element in reverse order\n",
    "arr[::-2]"
   ]
  },
  {
   "attachments": {},
   "cell_type": "markdown",
   "metadata": {},
   "source": [
    "# Slicing and Indexing of 2D arrays"
   ]
  },
  {
   "cell_type": "code",
   "execution_count": 76,
   "metadata": {},
   "outputs": [
    {
     "data": {
      "text/plain": [
       "array([[10, 20, 30],\n",
       "       [40, 50, 60],\n",
       "       [70, 80, 90]])"
      ]
     },
     "execution_count": 76,
     "metadata": {},
     "output_type": "execute_result"
    }
   ],
   "source": [
    "arr = np.array([[10,20,30],[40,50,60],[70,80,90]])\n",
    "arr"
   ]
  },
  {
   "cell_type": "code",
   "execution_count": 77,
   "metadata": {},
   "outputs": [
    {
     "data": {
      "text/plain": [
       "array([10, 20, 30])"
      ]
     },
     "execution_count": 77,
     "metadata": {},
     "output_type": "execute_result"
    }
   ],
   "source": [
    "arr[0]"
   ]
  },
  {
   "cell_type": "code",
   "execution_count": 78,
   "metadata": {},
   "outputs": [
    {
     "data": {
      "text/plain": [
       "array([70, 80, 90])"
      ]
     },
     "execution_count": 78,
     "metadata": {},
     "output_type": "execute_result"
    }
   ],
   "source": [
    "arr[len(arr)-1]"
   ]
  },
  {
   "cell_type": "code",
   "execution_count": 83,
   "metadata": {},
   "outputs": [
    {
     "name": "stdout",
     "output_type": "stream",
     "text": [
      "20\n",
      "90\n",
      "90\n",
      "90\n",
      "90\n"
     ]
    }
   ],
   "source": [
    "#Fetch 20 from array\n",
    "print(arr[0,1])\n",
    "\n",
    "#Fetch 90\n",
    "print(arr[2,2])\n",
    "print(arr[-1,-1])\n",
    "print(arr[2,-1])\n",
    "print(arr[-1,2])"
   ]
  },
  {
   "attachments": {},
   "cell_type": "markdown",
   "metadata": {},
   "source": [
    "Class record April 28, 2023\n",
    "# Slicing and indexing 2D array\n",
    "\n"
   ]
  },
  {
   "attachments": {},
   "cell_type": "markdown",
   "metadata": {},
   "source": [
    "# Slicing and indexing 3D array\n",
    "\n",
    "Syntax\n",
    "arr[array_index]\n",
    "arr[array_index, row_index]\n",
    "arr[array_index, row_index, col_index]"
   ]
  },
  {
   "cell_type": "code",
   "execution_count": 7,
   "metadata": {},
   "outputs": [
    {
     "data": {
      "text/plain": [
       "array([[[82, 43, 17, 44, 32],\n",
       "        [88, 64, 35, 36, 41],\n",
       "        [59, 59, 26, 16, 77],\n",
       "        [27, 30, 17, 73, 33]],\n",
       "\n",
       "       [[88, 36, 90, 56, 18],\n",
       "        [82, 98, 33, 25, 47],\n",
       "        [92, 49, 25, 85, 94],\n",
       "        [84, 17, 59, 77, 16]],\n",
       "\n",
       "       [[67, 17, 29, 16, 27],\n",
       "        [51, 33, 87, 65, 88],\n",
       "        [87, 60, 59, 33, 45],\n",
       "        [81, 77, 45, 85, 35]]])"
      ]
     },
     "execution_count": 7,
     "metadata": {},
     "output_type": "execute_result"
    }
   ],
   "source": [
    "import numpy as np\n",
    "#arr= np.arange(10,100,60).reshape(3,3,3)\n",
    "arr = np.random.randint(10,100,60).reshape(3,4,5)\n",
    "arr"
   ]
  },
  {
   "attachments": {},
   "cell_type": "markdown",
   "metadata": {},
   "source": [
    "# Slicing 3D array\n",
    "\n",
    "arr[array_slicing]\n",
    "arr[start: stop: step]\n",
    "\n",
    "arr[array_slicing, row_slicing]\n",
    "arr[start: stop: step, start: stop: step]\n",
    "\n",
    "arr[array_slicing, row_slicing, col_slicing]\n",
    "arr[start: stop: step, start: stop: step, start: stop: step ]"
   ]
  },
  {
   "cell_type": "code",
   "execution_count": 10,
   "metadata": {},
   "outputs": [
    {
     "data": {
      "text/plain": [
       "array([[82, 43, 17, 44, 32],\n",
       "       [88, 64, 35, 36, 41]])"
      ]
     },
     "execution_count": 10,
     "metadata": {},
     "output_type": "execute_result"
    }
   ],
   "source": [
    "#Fetch first 2 rows from fitsr array\n",
    "arr[0, 0:2]"
   ]
  },
  {
   "cell_type": "code",
   "execution_count": 15,
   "metadata": {},
   "outputs": [
    {
     "data": {
      "text/plain": [
       "array([[82, 43, 17, 44, 32],\n",
       "       [88, 36, 90, 56, 18],\n",
       "       [67, 17, 29, 16, 27]])"
      ]
     },
     "execution_count": 15,
     "metadata": {},
     "output_type": "execute_result"
    }
   ],
   "source": [
    "#First row from all the arrays\n",
    "arr[::,0]"
   ]
  },
  {
   "cell_type": "code",
   "execution_count": 16,
   "metadata": {},
   "outputs": [
    {
     "data": {
      "text/plain": [
       "array([[82, 88, 59, 27],\n",
       "       [88, 82, 92, 84],\n",
       "       [67, 51, 87, 81]])"
      ]
     },
     "execution_count": 16,
     "metadata": {},
     "output_type": "execute_result"
    }
   ],
   "source": [
    "#First column from all the arrays\n",
    "\n",
    "arr[::, ::, 0]"
   ]
  },
  {
   "cell_type": "code",
   "execution_count": 22,
   "metadata": {},
   "outputs": [
    {
     "data": {
      "text/plain": [
       "array([[[44, 32],\n",
       "        [36, 41],\n",
       "        [16, 77],\n",
       "        [73, 33]],\n",
       "\n",
       "       [[56, 18],\n",
       "        [25, 47],\n",
       "        [85, 94],\n",
       "        [77, 16]]])"
      ]
     },
     "execution_count": 22,
     "metadata": {},
     "output_type": "execute_result"
    }
   ],
   "source": [
    "#Get the last 2 columns from first two arrays\n",
    "arr[0:2,::, 3:]"
   ]
  },
  {
   "attachments": {},
   "cell_type": "markdown",
   "metadata": {},
   "source": [
    "# Array of random values\n",
    "\n",
    "ranodm.random()\n",
    "-  It generates specified number of random values\n",
    "- the random value is always betweeen 0 and 1\n",
    "\n",
    "random.rand()\n",
    "- It returns array of random values of given shape\n",
    "- the random value is always betweeen 0 and 1\n",
    "\n",
    "random.randint()\n",
    "- It returns an array of random int values between a range\n",
    "\n",
    "random.seed() - For fixing random state\n",
    "- It is used to set the random state\n",
    "- If we fix the random state, then random will always return the same set of values always\n",
    "- Range 0 to 2**32-1 (2 power 23 minus 1)"
   ]
  },
  {
   "cell_type": "code",
   "execution_count": 23,
   "metadata": {},
   "outputs": [
    {
     "data": {
      "text/plain": [
       "array([0.49623274, 0.65734901, 0.18493905, 0.84173756, 0.27650669,\n",
       "       0.3907566 , 0.12928333, 0.43065145, 0.16333071, 0.59203537,\n",
       "       0.6741164 , 0.93160071, 0.54678787, 0.35847236, 0.27493592,\n",
       "       0.36637895, 0.07102667, 0.15222031, 0.21681641, 0.22476558])"
      ]
     },
     "execution_count": 23,
     "metadata": {},
     "output_type": "execute_result"
    }
   ],
   "source": [
    "np.random.random(20)"
   ]
  },
  {
   "cell_type": "code",
   "execution_count": 25,
   "metadata": {},
   "outputs": [
    {
     "data": {
      "text/plain": [
       "array([[0.18014571, 0.96258245, 0.12276912],\n",
       "       [0.12335971, 0.15563854, 0.19328482],\n",
       "       [0.16312674, 0.91704652, 0.45474198]])"
      ]
     },
     "execution_count": 25,
     "metadata": {},
     "output_type": "execute_result"
    }
   ],
   "source": [
    "#Create a 3X3 matrix of random values\n",
    "np.random.random(9).reshape(3,3)"
   ]
  },
  {
   "cell_type": "code",
   "execution_count": 26,
   "metadata": {},
   "outputs": [
    {
     "data": {
      "text/plain": [
       "array([[0.62560465, 0.71928699, 0.55431019],\n",
       "       [0.28393006, 0.16615092, 0.3170114 ],\n",
       "       [0.28790169, 0.46581386, 0.88314331]])"
      ]
     },
     "execution_count": 26,
     "metadata": {},
     "output_type": "execute_result"
    }
   ],
   "source": [
    "#Create a 3X3 matrix of random values\n",
    "np.random.rand(3,3)"
   ]
  },
  {
   "cell_type": "code",
   "execution_count": 27,
   "metadata": {},
   "outputs": [
    {
     "data": {
      "text/plain": [
       "array([[0.06879125, 0.72109949, 0.04893655, 0.54236191, 0.61896883,\n",
       "        0.3709638 ],\n",
       "       [0.06090265, 0.02264882, 0.31810274, 0.55108834, 0.47204431,\n",
       "        0.37796314],\n",
       "       [0.16764944, 0.83824661, 0.79218482, 0.33542319, 0.69867272,\n",
       "        0.13710592],\n",
       "       [0.70927255, 0.6202892 , 0.5814108 , 0.06213762, 0.72991383,\n",
       "        0.22090194],\n",
       "       [0.54870639, 0.07361161, 0.33844932, 0.42087744, 0.02969923,\n",
       "        0.12843234]])"
      ]
     },
     "execution_count": 27,
     "metadata": {},
     "output_type": "execute_result"
    }
   ],
   "source": [
    "#Both produces the same output\n",
    "np.random.random(30).reshape(5,6)\n",
    "\n",
    "np.random.rand(5,6)"
   ]
  },
  {
   "cell_type": "code",
   "execution_count": 35,
   "metadata": {},
   "outputs": [
    {
     "data": {
      "text/plain": [
       "array([44, 29, 26, 41, 37, 20, 35, 12, 22, 15])"
      ]
     },
     "execution_count": 35,
     "metadata": {},
     "output_type": "execute_result"
    }
   ],
   "source": [
    "#Generate 10 random integer numbers between 10 and 50\n",
    "np.random.randint(10,50, 10)"
   ]
  },
  {
   "cell_type": "code",
   "execution_count": 36,
   "metadata": {},
   "outputs": [
    {
     "data": {
      "text/plain": [
       "array([[73, 13, 30, 31],\n",
       "       [46, 77, 37, 22],\n",
       "       [64, 73, 39, 80],\n",
       "       [36, 92, 89, 57],\n",
       "       [46, 97, 89, 19]])"
      ]
     },
     "execution_count": 36,
     "metadata": {},
     "output_type": "execute_result"
    }
   ],
   "source": [
    "#Create a 5X4 matrix of random int nu,ners between 10 and 100\n",
    "#For a 5X4 matrix, we need 20 elements\n",
    "\n",
    "np.random.randint(10,100,20).reshape(5,4)"
   ]
  },
  {
   "cell_type": "code",
   "execution_count": 63,
   "metadata": {},
   "outputs": [
    {
     "data": {
      "text/plain": [
       "array([15, 29, 28, 21, 39, 37])"
      ]
     },
     "execution_count": 63,
     "metadata": {},
     "output_type": "execute_result"
    }
   ],
   "source": [
    "np.random.seed(46)\n",
    "np.random.randint(10,50,6)"
   ]
  },
  {
   "attachments": {},
   "cell_type": "markdown",
   "metadata": {},
   "source": [
    "Class record May 2\n",
    "\n",
    "random.normal()\n",
    "It returns a array of normal values whose valuea are normally distributed "
   ]
  },
  {
   "cell_type": "code",
   "execution_count": 1,
   "metadata": {},
   "outputs": [
    {
     "data": {
      "text/plain": [
       "array([100.29194216,  95.30214088,  93.99171864, 106.59532594,\n",
       "        88.23638138,  99.49738957,  93.75240204, 101.7536317 ,\n",
       "        89.74258843, 103.32773203,  97.28285419, 101.05550871,\n",
       "        90.56251911,  95.6097397 , 100.31577219,  97.21887722,\n",
       "        98.35219628, 101.23731522, 101.96110496, 101.24216592,\n",
       "        99.64278339,  97.93031401,  98.21059988, 112.58307167,\n",
       "       103.30717891, 102.00978429, 100.67316322,  97.91358257,\n",
       "       104.51688369, 104.84663181,  82.95906222, 102.76175869,\n",
       "       102.25475135,  91.04351779, 100.72596492, 100.83840414,\n",
       "        96.70434368,  96.83786857,  97.85917736, 104.91679254,\n",
       "        93.12473967,  98.83830798, 103.12811445, 109.73513545,\n",
       "       103.69259342, 102.68087097,  96.12289791, 105.46007523,\n",
       "       110.47177707, 103.16286073,  96.08787878, 101.3918999 ,\n",
       "       102.85965749, 105.33301056, 107.91379066, 103.27152168,\n",
       "       104.6734338 , 100.98363051,  91.56274428,  92.51808361,\n",
       "       101.47908208, 111.29980222,  98.4690419 ,  98.92751912,\n",
       "        94.19253542,  99.74274979,  90.48367336,  88.01302956,\n",
       "        95.7275497 ,  90.025155  , 107.57537052, 104.63269485,\n",
       "       103.31814581,  93.87139749, 100.70676672,  93.04907079,\n",
       "        95.9453166 ,  99.41097452, 106.2597234 ,  93.19636128,\n",
       "       109.15308619, 106.85079818,  97.5382965 ,  96.15981523,\n",
       "       100.45790231, 105.6101248 , 101.20146795,  95.32479069,\n",
       "       100.87082472,  90.42596387, 105.28510078,  91.06229071,\n",
       "        98.28480838, 104.06492729, 106.66925936,  99.26879153,\n",
       "        98.54436197,  93.49719842, 106.83836759,  99.35226302,\n",
       "       105.79937199, 105.9683182 , 110.18936679, 101.62609926,\n",
       "        92.21057053, 104.18862016, 101.12016078,  92.64299283,\n",
       "       101.7852881 ,  99.4807647 ,  92.58965403,  99.7130008 ,\n",
       "        94.13588587, 104.23879828, 100.11033552, 104.05215043,\n",
       "       101.18810216,  99.89125044, 106.8960832 , 104.62052018,\n",
       "       104.75227198,  98.88056387,  99.10919295,  93.37457158,\n",
       "        94.48205703, 102.77906839, 101.65522948,  96.11495795,\n",
       "        93.7822545 ,  95.90681918, 105.6343141 ,  98.00522488,\n",
       "        90.91904834, 100.7663361 ,  98.55620905,  92.8938148 ,\n",
       "       104.25927477,  98.6271655 ,  91.11968043,  95.30761147,\n",
       "        98.86391386,  95.73419051,  89.26430471, 105.16345282,\n",
       "       100.40009879,  97.24439239,  98.94745927,  96.51436485,\n",
       "        97.65633821,  93.40536857])"
      ]
     },
     "execution_count": 1,
     "metadata": {},
     "output_type": "execute_result"
    }
   ],
   "source": [
    "import numpy as np\n",
    "\n",
    "np.random.normal(100,5,150)\n"
   ]
  },
  {
   "attachments": {},
   "cell_type": "markdown",
   "metadata": {},
   "source": [
    "# Functions on arrays\n",
    "1. np.sum() It returns the sum of all the elements of the array\n",
    "\n",
    "when \n",
    "axis=0, (Intrepreter reads the array top to bottom, row wise operation) \n",
    "axis=1, (Intrepreter reads the array left to right, column wise operation)\n",
    "The axis parameter can be passes to all the functions \n",
    "\n",
    "2. np.mean()\n",
    "It returns the average of the array (mean in stats is avaerage in maths)\n",
    "\n",
    "3. np.median()\n",
    "It returns the median of the array\n",
    "np.median(array)\n",
    "\n",
    "4. np.std()\n",
    "It returns the standard deviation\n",
    "\n",
    "5. np.var()\n",
    "It returns the variance, it is the square of standard \n",
    "\n",
    "6. np.max()\n",
    "It returns the maximum of the array\n",
    "\n",
    "7. np.min()\n",
    "It returns the minimum of the array\n",
    "\n",
    "8. np.percentile()\n",
    "It returns the specified percentile value from the array.\n",
    "Percentile is the cutoff value\n",
    "np.percentile(array, percentile_value)"
   ]
  },
  {
   "cell_type": "code",
   "execution_count": 5,
   "metadata": {},
   "outputs": [
    {
     "data": {
      "text/plain": [
       "array([[61, 24, 81, 70],\n",
       "       [30, 92, 96, 84],\n",
       "       [84, 97, 33, 12]])"
      ]
     },
     "execution_count": 5,
     "metadata": {},
     "output_type": "execute_result"
    }
   ],
   "source": [
    "np.random.seed(42)\n",
    "x=np.random.randint(10,100,12).reshape(3,4)\n",
    "x"
   ]
  },
  {
   "cell_type": "code",
   "execution_count": 16,
   "metadata": {},
   "outputs": [
    {
     "name": "stdout",
     "output_type": "stream",
     "text": [
      "764\n",
      "236\n"
     ]
    }
   ],
   "source": [
    "print(np.sum(x))\n",
    "\n",
    "print(x[:1].sum())"
   ]
  },
  {
   "cell_type": "code",
   "execution_count": 7,
   "metadata": {},
   "outputs": [
    {
     "data": {
      "text/plain": [
       "array([236, 302, 226])"
      ]
     },
     "execution_count": 7,
     "metadata": {},
     "output_type": "execute_result"
    }
   ],
   "source": [
    "np.sum(x, axis=1) # 61+24+81+70, ..."
   ]
  },
  {
   "cell_type": "code",
   "execution_count": 8,
   "metadata": {},
   "outputs": [
    {
     "data": {
      "text/plain": [
       "array([175, 213, 210, 166])"
      ]
     },
     "execution_count": 8,
     "metadata": {},
     "output_type": "execute_result"
    }
   ],
   "source": [
    "np.sum(x, axis=0) #61+30+84, ..."
   ]
  },
  {
   "cell_type": "code",
   "execution_count": 9,
   "metadata": {},
   "outputs": [
    {
     "data": {
      "text/plain": [
       "63.666666666666664"
      ]
     },
     "execution_count": 9,
     "metadata": {},
     "output_type": "execute_result"
    }
   ],
   "source": [
    "x.mean()"
   ]
  },
  {
   "cell_type": "code",
   "execution_count": 17,
   "metadata": {},
   "outputs": [
    {
     "data": {
      "text/plain": [
       "75.5"
      ]
     },
     "execution_count": 17,
     "metadata": {},
     "output_type": "execute_result"
    }
   ],
   "source": [
    "#Median cannot be called on array, it should be called via np module\n",
    "np.median(x)"
   ]
  },
  {
   "cell_type": "code",
   "execution_count": 18,
   "metadata": {},
   "outputs": [
    {
     "data": {
      "text/plain": [
       "29.51082663852182"
      ]
     },
     "execution_count": 18,
     "metadata": {},
     "output_type": "execute_result"
    }
   ],
   "source": [
    "x.std()"
   ]
  },
  {
   "cell_type": "code",
   "execution_count": 19,
   "metadata": {},
   "outputs": [
    {
     "data": {
      "text/plain": [
       "array([21.41261311, 26.62235902, 35.10341864])"
      ]
     },
     "execution_count": 19,
     "metadata": {},
     "output_type": "execute_result"
    }
   ],
   "source": [
    "x.std(axis=1)"
   ]
  },
  {
   "cell_type": "code",
   "execution_count": 20,
   "metadata": {},
   "outputs": [
    {
     "data": {
      "text/plain": [
       "97"
      ]
     },
     "execution_count": 20,
     "metadata": {},
     "output_type": "execute_result"
    }
   ],
   "source": [
    "x.max()"
   ]
  },
  {
   "cell_type": "code",
   "execution_count": 21,
   "metadata": {},
   "outputs": [
    {
     "data": {
      "text/plain": [
       "array([84, 97, 96, 84])"
      ]
     },
     "execution_count": 21,
     "metadata": {},
     "output_type": "execute_result"
    }
   ],
   "source": [
    "x.max(axis=0)"
   ]
  },
  {
   "cell_type": "code",
   "execution_count": 22,
   "metadata": {},
   "outputs": [
    {
     "data": {
      "text/plain": [
       "96.89"
      ]
     },
     "execution_count": 22,
     "metadata": {},
     "output_type": "execute_result"
    }
   ],
   "source": [
    "np.percentile(x, 99)"
   ]
  },
  {
   "attachments": {},
   "cell_type": "markdown",
   "metadata": {},
   "source": [
    "# astype()\n",
    "\n",
    "It is used to change the datatype of the values the array contains"
   ]
  },
  {
   "cell_type": "code",
   "execution_count": 28,
   "metadata": {},
   "outputs": [
    {
     "name": "stdout",
     "output_type": "stream",
     "text": [
      "float64\n",
      "[ 2  7 45 56 23]\n",
      "float64\n"
     ]
    }
   ],
   "source": [
    "arr = np.array([2.5, 7, 45.345, 56, 23])\n",
    "print(arr.dtype)\n",
    "print(arr.astype(int))\n",
    "print(arr.dtype)\n"
   ]
  },
  {
   "attachments": {},
   "cell_type": "markdown",
   "metadata": {},
   "source": [
    "# Null values in Numpy\n",
    "\n",
    "python - None\n",
    "numpy -  np.nan\n",
    "\n",
    "In numpy the null values are represented by np.nan. \n",
    "The type of np.nan is float "
   ]
  },
  {
   "cell_type": "code",
   "execution_count": 31,
   "metadata": {},
   "outputs": [
    {
     "data": {
      "text/plain": [
       "array([[ 2.5,  7. ,  nan, 56. ],\n",
       "       [23. , 45. ,  nan, 67. ],\n",
       "       [ nan,  nan, 60. , 70. ]])"
      ]
     },
     "execution_count": 31,
     "metadata": {},
     "output_type": "execute_result"
    }
   ],
   "source": [
    "arr = np.array([2.5, 7, np.nan, 56, 23, 45, np.nan, 67, np.nan, np.nan, 60, 70]).reshape(3,4)\n",
    "arr"
   ]
  },
  {
   "cell_type": "code",
   "execution_count": 32,
   "metadata": {},
   "outputs": [
    {
     "data": {
      "text/plain": [
       "dtype('float64')"
      ]
     },
     "execution_count": 32,
     "metadata": {},
     "output_type": "execute_result"
    }
   ],
   "source": [
    "arr.dtype"
   ]
  },
  {
   "attachments": {},
   "cell_type": "markdown",
   "metadata": {},
   "source": [
    "# Operations on null values\n",
    "\n",
    "1. Count of null values\n",
    "2. Count of all non-null values\n",
    "3. Accessing the null values\n",
    "4. Accessing all the non-null values\n",
    "5. Replacing the null values"
   ]
  },
  {
   "attachments": {},
   "cell_type": "markdown",
   "metadata": {},
   "source": [
    "Count of null values"
   ]
  },
  {
   "cell_type": "code",
   "execution_count": 34,
   "metadata": {},
   "outputs": [
    {
     "data": {
      "text/plain": [
       "array([[False, False,  True, False],\n",
       "       [False, False,  True, False],\n",
       "       [ True,  True, False, False]])"
      ]
     },
     "execution_count": 34,
     "metadata": {},
     "output_type": "execute_result"
    }
   ],
   "source": [
    "np.isnan(arr)"
   ]
  },
  {
   "cell_type": "code",
   "execution_count": 35,
   "metadata": {},
   "outputs": [
    {
     "data": {
      "text/plain": [
       "4"
      ]
     },
     "execution_count": 35,
     "metadata": {},
     "output_type": "execute_result"
    }
   ],
   "source": [
    "np.isnan(arr).sum()"
   ]
  },
  {
   "attachments": {},
   "cell_type": "markdown",
   "metadata": {},
   "source": [
    "Accessing the indexed of all the null values"
   ]
  },
  {
   "cell_type": "code",
   "execution_count": 36,
   "metadata": {},
   "outputs": [
    {
     "data": {
      "text/plain": [
       "(array([0, 1, 2, 2]), array([2, 2, 0, 1]))"
      ]
     },
     "execution_count": 36,
     "metadata": {},
     "output_type": "execute_result"
    }
   ],
   "source": [
    "np.where(np.isnan(arr))\n",
    "# Returns row index and column index, intersection of row and column gives the position of null element"
   ]
  },
  {
   "attachments": {},
   "cell_type": "markdown",
   "metadata": {},
   "source": [
    "Accessing non-null values"
   ]
  },
  {
   "cell_type": "code",
   "execution_count": 37,
   "metadata": {},
   "outputs": [
    {
     "data": {
      "text/plain": [
       "array([ 2.5,  7. , 56. , 23. , 45. , 67. , 60. , 70. ])"
      ]
     },
     "execution_count": 37,
     "metadata": {},
     "output_type": "execute_result"
    }
   ],
   "source": [
    "arr[np.isnan(arr)==False]"
   ]
  },
  {
   "cell_type": "code",
   "execution_count": 38,
   "metadata": {},
   "outputs": [
    {
     "data": {
      "text/plain": [
       "array([[ True,  True, False,  True],\n",
       "       [ True,  True, False,  True],\n",
       "       [False, False,  True,  True]])"
      ]
     },
     "execution_count": 38,
     "metadata": {},
     "output_type": "execute_result"
    }
   ],
   "source": [
    "~(np.isnan(arr))"
   ]
  },
  {
   "attachments": {},
   "cell_type": "markdown",
   "metadata": {},
   "source": [
    "Replacing the null values"
   ]
  },
  {
   "cell_type": "code",
   "execution_count": 41,
   "metadata": {},
   "outputs": [
    {
     "data": {
      "text/plain": [
       "array([[ 2.5,  7. ,  0. , 56. ],\n",
       "       [23. , 45. ,  0. , 67. ],\n",
       "       [ 0. ,  0. , 60. , 70. ]])"
      ]
     },
     "execution_count": 41,
     "metadata": {},
     "output_type": "execute_result"
    }
   ],
   "source": [
    "#Replacing the null values by 0\n",
    "arr[np.isnan(arr)]=0\n",
    "arr"
   ]
  },
  {
   "cell_type": "code",
   "execution_count": 42,
   "metadata": {},
   "outputs": [
    {
     "data": {
      "text/plain": [
       "nan"
      ]
     },
     "execution_count": 42,
     "metadata": {},
     "output_type": "execute_result"
    }
   ],
   "source": [
    "# replace all the null values by mean value\n",
    "# Mean returns nan is any elements in array is null, remove all non-null values\n",
    "arr = np.array([2.5, 7, np.nan, 56, 23, 45, np.nan, 67, np.nan, np.nan, 60, 70]).reshape(3,4)\n",
    "arr.mean()"
   ]
  },
  {
   "cell_type": "code",
   "execution_count": 43,
   "metadata": {},
   "outputs": [
    {
     "data": {
      "text/plain": [
       "41.3125"
      ]
     },
     "execution_count": 43,
     "metadata": {},
     "output_type": "execute_result"
    }
   ],
   "source": [
    "m=arr[~(np.isnan(arr))].mean()\n",
    "m"
   ]
  },
  {
   "attachments": {},
   "cell_type": "markdown",
   "metadata": {},
   "source": [
    "# np.argwhere()\n",
    "It returns the indexes of all the non zero elements from the array"
   ]
  },
  {
   "cell_type": "code",
   "execution_count": 45,
   "metadata": {},
   "outputs": [
    {
     "data": {
      "text/plain": [
       "array([[0, 0],\n",
       "       [0, 1],\n",
       "       [0, 2],\n",
       "       [0, 3],\n",
       "       [1, 0],\n",
       "       [1, 1],\n",
       "       [1, 2],\n",
       "       [1, 3],\n",
       "       [2, 0],\n",
       "       [2, 1],\n",
       "       [2, 2],\n",
       "       [2, 3]])"
      ]
     },
     "execution_count": 45,
     "metadata": {},
     "output_type": "execute_result"
    }
   ],
   "source": [
    "np.argwhere(arr)"
   ]
  },
  {
   "cell_type": "code",
   "execution_count": 46,
   "metadata": {},
   "outputs": [
    {
     "data": {
      "text/plain": [
       "array([[0, 0],\n",
       "       [0, 1],\n",
       "       [0, 3],\n",
       "       [1, 0],\n",
       "       [1, 1],\n",
       "       [1, 3],\n",
       "       [2, 2],\n",
       "       [2, 3]])"
      ]
     },
     "execution_count": 46,
     "metadata": {},
     "output_type": "execute_result"
    }
   ],
   "source": [
    "np.argwhere(arr>=0)"
   ]
  },
  {
   "attachments": {},
   "cell_type": "markdown",
   "metadata": {},
   "source": [
    "# np.argmax()\n",
    "It returns the index of maximum number.\n",
    "It reads the nD array as 1-D array "
   ]
  },
  {
   "cell_type": "code",
   "execution_count": 48,
   "metadata": {},
   "outputs": [
    {
     "data": {
      "text/plain": [
       "array([ 2.5,  7. ,  nan, 56. , 23. , 45. ,  nan, 67. ,  nan,  nan, 60. ,\n",
       "       70. ])"
      ]
     },
     "execution_count": 48,
     "metadata": {},
     "output_type": "execute_result"
    }
   ],
   "source": [
    "#To convert nD array to 1D array \n",
    "np.ravel(arr)"
   ]
  },
  {
   "cell_type": "code",
   "execution_count": 47,
   "metadata": {},
   "outputs": [
    {
     "data": {
      "text/plain": [
       "2"
      ]
     },
     "execution_count": 47,
     "metadata": {},
     "output_type": "execute_result"
    }
   ],
   "source": [
    "np.argmax(arr) # Argmax converts nD array to 1D array"
   ]
  },
  {
   "attachments": {},
   "cell_type": "markdown",
   "metadata": {},
   "source": [
    "# np.argmin()\n",
    "It returns the undex of minimum number in the array\n",
    "It always returns the first element if we have multiple same min values"
   ]
  },
  {
   "attachments": {},
   "cell_type": "markdown",
   "metadata": {},
   "source": [
    "# np.where()"
   ]
  }
 ],
 "metadata": {
  "kernelspec": {
   "display_name": "Python 3",
   "language": "python",
   "name": "python3"
  },
  "language_info": {
   "codemirror_mode": {
    "name": "ipython",
    "version": 3
   },
   "file_extension": ".py",
   "mimetype": "text/x-python",
   "name": "python",
   "nbconvert_exporter": "python",
   "pygments_lexer": "ipython3",
   "version": "3.11.1"
  },
  "orig_nbformat": 4
 },
 "nbformat": 4,
 "nbformat_minor": 2
}
