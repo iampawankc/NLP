{
 "cells": [
  {
   "attachments": {},
   "cell_type": "markdown",
   "metadata": {},
   "source": [
    "# Numpy\n",
    "\n",
    "1. Numpy stands for numerical python\n",
    "2. Numpy is used to perform advanced numerical computations on large datasets\n",
    "3. Numpy can perform complex operations with less lines of code\n",
    "4. It provides a very useful datastructure called array\n",
    "\n",
    "syntax\n",
    "import numpy\n",
    "\n",
    "check version of numpy\n",
    "np.__version__\n",
    "\n",
    "Documentation available at numpy.org"
   ]
  },
  {
   "cell_type": "code",
   "execution_count": 2,
   "metadata": {},
   "outputs": [
    {
     "data": {
      "text/plain": [
       "'1.24.2'"
      ]
     },
     "execution_count": 2,
     "metadata": {},
     "output_type": "execute_result"
    }
   ],
   "source": [
    "import numpy as np\n",
    "\n",
    "np.__version__"
   ]
  },
  {
   "attachments": {},
   "cell_type": "markdown",
   "metadata": {},
   "source": [
    "# Array\n",
    "- Array is the collection of homohenous(same type) elements.\n",
    "\n",
    "# np.array\n",
    "Creation of array use np.array"
   ]
  },
  {
   "cell_type": "code",
   "execution_count": 5,
   "metadata": {},
   "outputs": [
    {
     "name": "stdout",
     "output_type": "stream",
     "text": [
      "[10 20 30 40 50] <class 'numpy.ndarray'>\n"
     ]
    }
   ],
   "source": [
    "lst = [10,20,30,40,50]\n",
    "arr = np.array(lst)\n",
    "print(arr, type(arr))"
   ]
  },
  {
   "attachments": {},
   "cell_type": "markdown",
   "metadata": {},
   "source": [
    "# List vs array\n",
    "- With list we have to apply loop to perform element by elemnt operation.\n",
    "    with array we can easily perform some operation rather than list\n",
    "- A list has to store a lot of information for each element seperately bacause each element behaves differently in a list(heterogenous elments). Array is a collection of homogenous elements, so no need to manage elements individually.\n",
    "- Arrays are faster than list"
   ]
  },
  {
   "cell_type": "code",
   "execution_count": 7,
   "metadata": {},
   "outputs": [
    {
     "name": "stdout",
     "output_type": "stream",
     "text": [
      "[10, 20, 30, 40, 50, 60] <class 'list'>\n",
      "[50, 100, 150, 200, 250, 300]\n"
     ]
    }
   ],
   "source": [
    "#Multiply each element of following list by 5\n",
    "\n",
    "#List approach\n",
    "lst=[10,20,30,40,50,60]\n",
    "print(lst, type(lst))\n",
    "for i in range(len(lst)):\n",
    "    lst[i]*=5\n",
    "print(lst)"
   ]
  },
  {
   "cell_type": "code",
   "execution_count": 8,
   "metadata": {},
   "outputs": [
    {
     "data": {
      "text/plain": [
       "array([ 50, 100, 150, 200, 250, 300])"
      ]
     },
     "execution_count": 8,
     "metadata": {},
     "output_type": "execute_result"
    }
   ],
   "source": [
    "#Array approach\n",
    "lst=[10,20,30,40,50,60]\n",
    "arr = np.array(lst)\n",
    "arr*5"
   ]
  },
  {
   "attachments": {},
   "cell_type": "markdown",
   "metadata": {},
   "source": [
    "# Why are array faster than list\n",
    "- On list we have to use loops to perform some operation. Loops make the process slow\n",
    "- Array's use vectorised operations by using array broadcasting and this process is much faster than loops.\n",
    "- A list is a caoolection of heterogenous elements, whereas array is a collection of homogenous elements.\n",
    "\n",
    "# Array upcasting\n",
    "When we pass heterogenous elements to an array, it converts them to one type. This process is known as array upcasting\n",
    "\n",
    "Array upcasting is using below hierarchy while upasting as below:\n",
    "int -> float -> complex -> string -> object"
   ]
  },
  {
   "cell_type": "code",
   "execution_count": 10,
   "metadata": {},
   "outputs": [
    {
     "data": {
      "text/plain": [
       "dtype('int64')"
      ]
     },
     "execution_count": 10,
     "metadata": {},
     "output_type": "execute_result"
    }
   ],
   "source": [
    "arr = np.array([10,20,30,40,50])\n",
    "arr.dtype"
   ]
  },
  {
   "cell_type": "code",
   "execution_count": 11,
   "metadata": {},
   "outputs": [
    {
     "data": {
      "text/plain": [
       "dtype('float64')"
      ]
     },
     "execution_count": 11,
     "metadata": {},
     "output_type": "execute_result"
    }
   ],
   "source": [
    "arr = np.array([10,20,30,40,50.0])\n",
    "arr.dtype"
   ]
  },
  {
   "cell_type": "code",
   "execution_count": 15,
   "metadata": {},
   "outputs": [
    {
     "name": "stdout",
     "output_type": "stream",
     "text": [
      "complex128\n",
      "[10. +0.j 20. +5.j 30. +0.j 40.7+0.j 50. +0.j]\n"
     ]
    }
   ],
   "source": [
    "arr = np.array([10,20+5j,30,40.7,50])\n",
    "print(arr.dtype)\n",
    "print(arr)"
   ]
  },
  {
   "cell_type": "code",
   "execution_count": 18,
   "metadata": {},
   "outputs": [
    {
     "name": "stdout",
     "output_type": "stream",
     "text": [
      "<U64\n",
      "['10.5' '(20+5j)' '30' '40.7' '50']\n"
     ]
    }
   ],
   "source": [
    "# In numpy, string are not available. It is represented by u representation. u=unicode\n",
    "arr = np.array([10.5,20+5j,30,40.7,'50'])\n",
    "print(arr.dtype)\n",
    "print(arr)"
   ]
  },
  {
   "cell_type": "code",
   "execution_count": 21,
   "metadata": {},
   "outputs": [
    {
     "ename": "ValueError",
     "evalue": "setting an array element with a sequence. The requested array has an inhomogeneous shape after 1 dimensions. The detected shape was (5,) + inhomogeneous part.",
     "output_type": "error",
     "traceback": [
      "\u001b[0;31m---------------------------------------------------------------------------\u001b[0m",
      "\u001b[0;31mValueError\u001b[0m                                Traceback (most recent call last)",
      "Cell \u001b[0;32mIn[21], line 2\u001b[0m\n\u001b[1;32m      1\u001b[0m \u001b[39m# In numpy, string are not available. It is represented by u representation. u=unicode\u001b[39;00m\n\u001b[0;32m----> 2\u001b[0m arr \u001b[39m=\u001b[39m np\u001b[39m.\u001b[39;49marray([\u001b[39m10.5\u001b[39;49m,\u001b[39m20\u001b[39;49m\u001b[39m+\u001b[39;49m\u001b[39m5\u001b[39;49mj,\u001b[39m30\u001b[39;49m,[\u001b[39m40.7\u001b[39;49m,\u001b[39m60.1\u001b[39;49m],\u001b[39m'\u001b[39;49m\u001b[39m50\u001b[39;49m\u001b[39m'\u001b[39;49m])\n\u001b[1;32m      3\u001b[0m \u001b[39mprint\u001b[39m(arr\u001b[39m.\u001b[39mdtype)\n\u001b[1;32m      4\u001b[0m \u001b[39mprint\u001b[39m(arr)\n",
      "\u001b[0;31mValueError\u001b[0m: setting an array element with a sequence. The requested array has an inhomogeneous shape after 1 dimensions. The detected shape was (5,) + inhomogeneous part."
     ]
    }
   ],
   "source": [
    "#When using derived datatype, compiler throws an array, to supress this defing dtype=object\n",
    "arr = np.array([10.5,20+5j,30,[40.7,60.1],'50'])\n",
    "print(arr.dtype)\n",
    "print(arr)"
   ]
  },
  {
   "cell_type": "code",
   "execution_count": 22,
   "metadata": {},
   "outputs": [
    {
     "name": "stdout",
     "output_type": "stream",
     "text": [
      "object\n",
      "[10.5 (20+5j) 30 list([40.7, 60.1]) '50']\n"
     ]
    }
   ],
   "source": [
    "arr = np.array([10.5,20+5j,30,[40.7,60.1],'50'], dtype=object)\n",
    "print(arr.dtype)\n",
    "print(arr)"
   ]
  },
  {
   "cell_type": "code",
   "execution_count": 24,
   "metadata": {},
   "outputs": [
    {
     "name": "stdout",
     "output_type": "stream",
     "text": [
      "object\n",
      "[10.5 (20+5j) 30 40.7 60 '50' None True]\n"
     ]
    }
   ],
   "source": [
    "arr = np.array([10.5,20+5j,30,40.7,60,'50',None, True])\n",
    "print(arr.dtype)\n",
    "print(arr)"
   ]
  },
  {
   "attachments": {},
   "cell_type": "markdown",
   "metadata": {},
   "source": [
    "# Attributes on arrays\n",
    "\n",
    "- dtype: Returns type of the elements an array contains\n",
    "- size: Returns the number of elements an array contains\n",
    "- shape: Returns a tuple. If tuple has single elements it represents number of elements\n",
    "        If tuple has two elements, then first element is number of rows and second is number of columns.\n",
    "- ndim : Returns the dimention of the array. 1d is called a vector"
   ]
  },
  {
   "cell_type": "code",
   "execution_count": 31,
   "metadata": {},
   "outputs": [
    {
     "name": "stdout",
     "output_type": "stream",
     "text": [
      "int64\n",
      "5\n",
      "(5,)\n",
      "1\n"
     ]
    }
   ],
   "source": [
    "arr = np.array([10,20,30,40,50])\n",
    "print(arr.dtype)\n",
    "print(arr.size)\n",
    "print(arr.shape)\n",
    "print(arr.ndim)"
   ]
  },
  {
   "cell_type": "code",
   "execution_count": 33,
   "metadata": {},
   "outputs": [
    {
     "name": "stdout",
     "output_type": "stream",
     "text": [
      "(2, 3)\n",
      "2\n"
     ]
    }
   ],
   "source": [
    "arr = np.array([[1,2,3],[4,5,6]])\n",
    "print(arr.shape)\n",
    "print(arr.ndim)"
   ]
  },
  {
   "attachments": {},
   "cell_type": "markdown",
   "metadata": {},
   "source": [
    "# Creating different types of arrays\n",
    "\n",
    "1. np.arange()\n",
    "syntax: np.arrange(start, stop, step)\n",
    "\n",
    "2. np.linspace()\n",
    "Used to create an array of equally spaced values within a range of values\n",
    "Difference between any two consequtive values is same across the elements of array \n",
    "syntax: np.linspace(start, stop, number of values)\n",
    "\n",
    "3. np.zeros()\n",
    "Returns an array of given shape where all elements of array is zero. The dimention of array needs to be passed in a tuple\n",
    "\n",
    "4. np.ones()\n",
    "Returns an array of given shape where all elements of array is one."
   ]
  },
  {
   "cell_type": "code",
   "execution_count": 37,
   "metadata": {},
   "outputs": [
    {
     "name": "stdout",
     "output_type": "stream",
     "text": [
      "[1 2 3 4 5 6 7 8 9]\n",
      "[ 1  2  3  4  5  6  7  8  9 10]\n",
      "[ 2  4  6  8 10 12 14 16 18 20]\n"
     ]
    }
   ],
   "source": [
    "#Create a array that has the number 1 to 10\n",
    "lst=[i for i in range(1,10)]\n",
    "print(np.array(lst))\n",
    "\n",
    "print(np.arange(1,11))\n",
    "\n",
    "#Create a array of even numbers frpm 2 to 20\n",
    "print(np.arange(2,21,2))"
   ]
  },
  {
   "cell_type": "code",
   "execution_count": 41,
   "metadata": {},
   "outputs": [
    {
     "name": "stdout",
     "output_type": "stream",
     "text": [
      "[1.  1.5 2.  2.5 3. ]\n",
      "[ 1.          1.47368421  1.94736842  2.42105263  2.89473684  3.36842105\n",
      "  3.84210526  4.31578947  4.78947368  5.26315789  5.73684211  6.21052632\n",
      "  6.68421053  7.15789474  7.63157895  8.10526316  8.57894737  9.05263158\n",
      "  9.52631579 10.        ]\n"
     ]
    }
   ],
   "source": [
    "# np.linspace()\n",
    "#Create  an array of 5 equally spaced values between 1 and 3\n",
    "\n",
    "print(np.linspace(1,3,5))\n",
    "\n",
    "print(np.linspace(1,10,20))"
   ]
  },
  {
   "cell_type": "code",
   "execution_count": 43,
   "metadata": {},
   "outputs": [
    {
     "data": {
      "text/plain": [
       "array([[0., 0., 0.],\n",
       "       [0., 0., 0.],\n",
       "       [0., 0., 0.]])"
      ]
     },
     "execution_count": 43,
     "metadata": {},
     "output_type": "execute_result"
    }
   ],
   "source": [
    "#Create a 3X3 matrix where all elements are 0\n",
    "np.zeros((3,3))"
   ]
  },
  {
   "cell_type": "code",
   "execution_count": 44,
   "metadata": {},
   "outputs": [
    {
     "data": {
      "text/plain": [
       "array([[0, 0, 0],\n",
       "       [0, 0, 0],\n",
       "       [0, 0, 0]])"
      ]
     },
     "execution_count": 44,
     "metadata": {},
     "output_type": "execute_result"
    }
   ],
   "source": [
    "np.zeros((3,3), dtype=int)"
   ]
  },
  {
   "cell_type": "code",
   "execution_count": 47,
   "metadata": {},
   "outputs": [
    {
     "name": "stdout",
     "output_type": "stream",
     "text": [
      "int64\n",
      "[[1 1 1]\n",
      " [1 1 1]\n",
      " [1 1 1]]\n"
     ]
    }
   ],
   "source": [
    "x= np.ones((3,3), dtype=int)\n",
    "print(x.dtype)\n",
    "print(x)"
   ]
  }
 ],
 "metadata": {
  "kernelspec": {
   "display_name": "Python 3",
   "language": "python",
   "name": "python3"
  },
  "language_info": {
   "codemirror_mode": {
    "name": "ipython",
    "version": 3
   },
   "file_extension": ".py",
   "mimetype": "text/x-python",
   "name": "python",
   "nbconvert_exporter": "python",
   "pygments_lexer": "ipython3",
   "version": "3.11.1"
  },
  "orig_nbformat": 4
 },
 "nbformat": 4,
 "nbformat_minor": 2
}
