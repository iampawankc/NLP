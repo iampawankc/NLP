{
 "cells": [
  {
   "cell_type": "markdown",
   "id": "88c87613",
   "metadata": {},
   "source": [
    "# EDA"
   ]
  },
  {
   "cell_type": "markdown",
   "id": "dc9e1266",
   "metadata": {},
   "source": [
    "#### Exploratory Data Analysis"
   ]
  },
  {
   "cell_type": "markdown",
   "id": "52e10446",
   "metadata": {},
   "source": [
    "- It is the process to know more about the data.\n",
    "- It is exploring the data.\n",
    "- It is the process to have a look upon the data from different angles and perspectives.\n",
    "- It is the process to understand the different aspects of the data. "
   ]
  },
  {
   "cell_type": "markdown",
   "id": "11f9ab3b",
   "metadata": {},
   "source": [
    "- bullet point"
   ]
  },
  {
   "cell_type": "markdown",
   "id": "6e551686",
   "metadata": {},
   "source": [
    "# Steps"
   ]
  },
  {
   "cell_type": "markdown",
   "id": "74bab8a1",
   "metadata": {},
   "source": [
    "- Shape\n",
    "- Basic information (datatypes)\n",
    "- Column name\n",
    "- Statistical summary\n",
    "- Check for the null values\n",
    "- Check for the duplicate values\n",
    "- Check for the outliers\n",
    "- Treat the null values\n",
    "- Treat the duplicate values\n",
    "- Treat the outliers\n",
    "- Check for coorelation\n",
    "- Analysis"
   ]
  },
  {
   "cell_type": "markdown",
   "id": "3f3aff55",
   "metadata": {},
   "source": [
    "# Importing the libraries"
   ]
  },
  {
   "cell_type": "code",
   "execution_count": 1,
   "id": "6f9c55d1",
   "metadata": {},
   "outputs": [],
   "source": [
    "import numpy as np\n",
    "import pandas as pd\n",
    "import matplotlib.pyplot as plt\n",
    "import seaborn as sns"
   ]
  },
  {
   "cell_type": "markdown",
   "id": "c99f0e62",
   "metadata": {},
   "source": [
    "# Loading the dataset"
   ]
  },
  {
   "cell_type": "code",
   "execution_count": 5,
   "id": "b387c109",
   "metadata": {},
   "outputs": [],
   "source": [
    "dt=pd.read_csv(r\"C:\\Users\\Dell\\OneDrive\\Desktop\\Data Science\\DS Projects\\Bangalore House Price Prediction\\Bengaluru_House_Data.csv\")"
   ]
  },
  {
   "cell_type": "code",
   "execution_count": 3,
   "id": "528afe1a",
   "metadata": {},
   "outputs": [
    {
     "data": {
      "text/html": [
       "<div>\n",
       "<style scoped>\n",
       "    .dataframe tbody tr th:only-of-type {\n",
       "        vertical-align: middle;\n",
       "    }\n",
       "\n",
       "    .dataframe tbody tr th {\n",
       "        vertical-align: top;\n",
       "    }\n",
       "\n",
       "    .dataframe thead th {\n",
       "        text-align: right;\n",
       "    }\n",
       "</style>\n",
       "<table border=\"1\" class=\"dataframe\">\n",
       "  <thead>\n",
       "    <tr style=\"text-align: right;\">\n",
       "      <th></th>\n",
       "      <th>area_type</th>\n",
       "      <th>availability</th>\n",
       "      <th>location</th>\n",
       "      <th>size</th>\n",
       "      <th>society</th>\n",
       "      <th>total_sqft</th>\n",
       "      <th>bath</th>\n",
       "      <th>balcony</th>\n",
       "      <th>price</th>\n",
       "    </tr>\n",
       "  </thead>\n",
       "  <tbody>\n",
       "    <tr>\n",
       "      <th>0</th>\n",
       "      <td>Super built-up  Area</td>\n",
       "      <td>19-Dec</td>\n",
       "      <td>Electronic City Phase II</td>\n",
       "      <td>2 BHK</td>\n",
       "      <td>Coomee</td>\n",
       "      <td>1056</td>\n",
       "      <td>2.0</td>\n",
       "      <td>1.0</td>\n",
       "      <td>39.07</td>\n",
       "    </tr>\n",
       "    <tr>\n",
       "      <th>1</th>\n",
       "      <td>Plot  Area</td>\n",
       "      <td>Ready To Move</td>\n",
       "      <td>Chikka Tirupathi</td>\n",
       "      <td>4 Bedroom</td>\n",
       "      <td>Theanmp</td>\n",
       "      <td>2600</td>\n",
       "      <td>5.0</td>\n",
       "      <td>3.0</td>\n",
       "      <td>120.00</td>\n",
       "    </tr>\n",
       "    <tr>\n",
       "      <th>2</th>\n",
       "      <td>Built-up  Area</td>\n",
       "      <td>Ready To Move</td>\n",
       "      <td>Uttarahalli</td>\n",
       "      <td>3 BHK</td>\n",
       "      <td>NaN</td>\n",
       "      <td>1440</td>\n",
       "      <td>2.0</td>\n",
       "      <td>3.0</td>\n",
       "      <td>62.00</td>\n",
       "    </tr>\n",
       "    <tr>\n",
       "      <th>3</th>\n",
       "      <td>Super built-up  Area</td>\n",
       "      <td>Ready To Move</td>\n",
       "      <td>Lingadheeranahalli</td>\n",
       "      <td>3 BHK</td>\n",
       "      <td>Soiewre</td>\n",
       "      <td>1521</td>\n",
       "      <td>3.0</td>\n",
       "      <td>1.0</td>\n",
       "      <td>95.00</td>\n",
       "    </tr>\n",
       "    <tr>\n",
       "      <th>4</th>\n",
       "      <td>Super built-up  Area</td>\n",
       "      <td>Ready To Move</td>\n",
       "      <td>Kothanur</td>\n",
       "      <td>2 BHK</td>\n",
       "      <td>NaN</td>\n",
       "      <td>1200</td>\n",
       "      <td>2.0</td>\n",
       "      <td>1.0</td>\n",
       "      <td>51.00</td>\n",
       "    </tr>\n",
       "  </tbody>\n",
       "</table>\n",
       "</div>"
      ],
      "text/plain": [
       "              area_type   availability                  location       size  \\\n",
       "0  Super built-up  Area         19-Dec  Electronic City Phase II      2 BHK   \n",
       "1            Plot  Area  Ready To Move          Chikka Tirupathi  4 Bedroom   \n",
       "2        Built-up  Area  Ready To Move               Uttarahalli      3 BHK   \n",
       "3  Super built-up  Area  Ready To Move        Lingadheeranahalli      3 BHK   \n",
       "4  Super built-up  Area  Ready To Move                  Kothanur      2 BHK   \n",
       "\n",
       "   society total_sqft  bath  balcony   price  \n",
       "0  Coomee        1056   2.0      1.0   39.07  \n",
       "1  Theanmp       2600   5.0      3.0  120.00  \n",
       "2      NaN       1440   2.0      3.0   62.00  \n",
       "3  Soiewre       1521   3.0      1.0   95.00  \n",
       "4      NaN       1200   2.0      1.0   51.00  "
      ]
     },
     "execution_count": 3,
     "metadata": {},
     "output_type": "execute_result"
    }
   ],
   "source": [
    "dt.head()"
   ]
  },
  {
   "cell_type": "markdown",
   "id": "5326b7e5",
   "metadata": {},
   "source": [
    "# Shape"
   ]
  },
  {
   "cell_type": "code",
   "execution_count": 6,
   "id": "79083cfd",
   "metadata": {},
   "outputs": [
    {
     "data": {
      "text/plain": [
       "(13320, 9)"
      ]
     },
     "execution_count": 6,
     "metadata": {},
     "output_type": "execute_result"
    }
   ],
   "source": [
    "dt.shape"
   ]
  },
  {
   "cell_type": "code",
   "execution_count": 8,
   "id": "f8a12a5e",
   "metadata": {},
   "outputs": [],
   "source": [
    "# - We have 13320 rows and 9 columns"
   ]
  },
  {
   "cell_type": "markdown",
   "id": "73071e96",
   "metadata": {},
   "source": [
    "# Columns"
   ]
  },
  {
   "cell_type": "code",
   "execution_count": 9,
   "id": "beb74888",
   "metadata": {},
   "outputs": [
    {
     "data": {
      "text/plain": [
       "Index(['area_type', 'availability', 'location', 'size', 'society',\n",
       "       'total_sqft', 'bath', 'balcony', 'price'],\n",
       "      dtype='object')"
      ]
     },
     "execution_count": 9,
     "metadata": {},
     "output_type": "execute_result"
    }
   ],
   "source": [
    "dt.columns"
   ]
  },
  {
   "cell_type": "markdown",
   "id": "f40049e1",
   "metadata": {},
   "source": [
    "# Basic Information"
   ]
  },
  {
   "cell_type": "code",
   "execution_count": 10,
   "id": "b8940b6d",
   "metadata": {},
   "outputs": [
    {
     "name": "stdout",
     "output_type": "stream",
     "text": [
      "<class 'pandas.core.frame.DataFrame'>\n",
      "RangeIndex: 13320 entries, 0 to 13319\n",
      "Data columns (total 9 columns):\n",
      " #   Column        Non-Null Count  Dtype  \n",
      "---  ------        --------------  -----  \n",
      " 0   area_type     13320 non-null  object \n",
      " 1   availability  13320 non-null  object \n",
      " 2   location      13319 non-null  object \n",
      " 3   size          13304 non-null  object \n",
      " 4   society       7818 non-null   object \n",
      " 5   total_sqft    13320 non-null  object \n",
      " 6   bath          13247 non-null  float64\n",
      " 7   balcony       12711 non-null  float64\n",
      " 8   price         13320 non-null  float64\n",
      "dtypes: float64(3), object(6)\n",
      "memory usage: 936.7+ KB\n"
     ]
    }
   ],
   "source": [
    "dt.info()"
   ]
  },
  {
   "cell_type": "code",
   "execution_count": 11,
   "id": "59aef8b6",
   "metadata": {},
   "outputs": [],
   "source": [
    "# - Object columns- 6\n",
    "# - Numeric columns- 3"
   ]
  },
  {
   "cell_type": "markdown",
   "id": "d1c55617",
   "metadata": {},
   "source": [
    "# Statistical summary"
   ]
  },
  {
   "cell_type": "code",
   "execution_count": 19,
   "id": "daed95b1",
   "metadata": {},
   "outputs": [
    {
     "data": {
      "text/html": [
       "<style type=\"text/css\">\n",
       "#T_adfd6_row0_col0 {\n",
       "  background-color: #f6563d;\n",
       "  color: #f1f1f1;\n",
       "}\n",
       "#T_adfd6_row0_col1, #T_adfd6_row1_col1, #T_adfd6_row2_col0, #T_adfd6_row2_col1, #T_adfd6_row3_col1, #T_adfd6_row4_col1, #T_adfd6_row5_col0, #T_adfd6_row5_col1, #T_adfd6_row6_col1, #T_adfd6_row7_col1 {\n",
       "  background-color: #fdcab5;\n",
       "  color: #000000;\n",
       "}\n",
       "#T_adfd6_row0_col2, #T_adfd6_row1_col2, #T_adfd6_row2_col2, #T_adfd6_row3_col2, #T_adfd6_row4_col2, #T_adfd6_row5_col2, #T_adfd6_row6_col2, #T_adfd6_row7_col2 {\n",
       "  background-color: #f14432;\n",
       "  color: #f1f1f1;\n",
       "}\n",
       "#T_adfd6_row1_col0, #T_adfd6_row6_col0, #T_adfd6_row7_col0 {\n",
       "  background-color: #fdc9b3;\n",
       "  color: #000000;\n",
       "}\n",
       "#T_adfd6_row3_col0 {\n",
       "  background-color: #fcbba1;\n",
       "  color: #000000;\n",
       "}\n",
       "#T_adfd6_row4_col0 {\n",
       "  background-color: #fdc7b2;\n",
       "  color: #000000;\n",
       "}\n",
       "</style>\n",
       "<table id=\"T_adfd6\">\n",
       "  <thead>\n",
       "    <tr>\n",
       "      <th class=\"blank level0\" >&nbsp;</th>\n",
       "      <th id=\"T_adfd6_level0_col0\" class=\"col_heading level0 col0\" >bath</th>\n",
       "      <th id=\"T_adfd6_level0_col1\" class=\"col_heading level0 col1\" >balcony</th>\n",
       "      <th id=\"T_adfd6_level0_col2\" class=\"col_heading level0 col2\" >price</th>\n",
       "    </tr>\n",
       "  </thead>\n",
       "  <tbody>\n",
       "    <tr>\n",
       "      <th id=\"T_adfd6_level0_row0\" class=\"row_heading level0 row0\" >count</th>\n",
       "      <td id=\"T_adfd6_row0_col0\" class=\"data row0 col0\" >13247.000000</td>\n",
       "      <td id=\"T_adfd6_row0_col1\" class=\"data row0 col1\" >12711.000000</td>\n",
       "      <td id=\"T_adfd6_row0_col2\" class=\"data row0 col2\" >13320.000000</td>\n",
       "    </tr>\n",
       "    <tr>\n",
       "      <th id=\"T_adfd6_level0_row1\" class=\"row_heading level0 row1\" >mean</th>\n",
       "      <td id=\"T_adfd6_row1_col0\" class=\"data row1 col0\" >2.692610</td>\n",
       "      <td id=\"T_adfd6_row1_col1\" class=\"data row1 col1\" >1.584376</td>\n",
       "      <td id=\"T_adfd6_row1_col2\" class=\"data row1 col2\" >112.565627</td>\n",
       "    </tr>\n",
       "    <tr>\n",
       "      <th id=\"T_adfd6_level0_row2\" class=\"row_heading level0 row2\" >std</th>\n",
       "      <td id=\"T_adfd6_row2_col0\" class=\"data row2 col0\" >1.341458</td>\n",
       "      <td id=\"T_adfd6_row2_col1\" class=\"data row2 col1\" >0.817263</td>\n",
       "      <td id=\"T_adfd6_row2_col2\" class=\"data row2 col2\" >148.971674</td>\n",
       "    </tr>\n",
       "    <tr>\n",
       "      <th id=\"T_adfd6_level0_row3\" class=\"row_heading level0 row3\" >min</th>\n",
       "      <td id=\"T_adfd6_row3_col0\" class=\"data row3 col0\" >1.000000</td>\n",
       "      <td id=\"T_adfd6_row3_col1\" class=\"data row3 col1\" >0.000000</td>\n",
       "      <td id=\"T_adfd6_row3_col2\" class=\"data row3 col2\" >8.000000</td>\n",
       "    </tr>\n",
       "    <tr>\n",
       "      <th id=\"T_adfd6_level0_row4\" class=\"row_heading level0 row4\" >25%</th>\n",
       "      <td id=\"T_adfd6_row4_col0\" class=\"data row4 col0\" >2.000000</td>\n",
       "      <td id=\"T_adfd6_row4_col1\" class=\"data row4 col1\" >1.000000</td>\n",
       "      <td id=\"T_adfd6_row4_col2\" class=\"data row4 col2\" >50.000000</td>\n",
       "    </tr>\n",
       "    <tr>\n",
       "      <th id=\"T_adfd6_level0_row5\" class=\"row_heading level0 row5\" >50%</th>\n",
       "      <td id=\"T_adfd6_row5_col0\" class=\"data row5 col0\" >2.000000</td>\n",
       "      <td id=\"T_adfd6_row5_col1\" class=\"data row5 col1\" >2.000000</td>\n",
       "      <td id=\"T_adfd6_row5_col2\" class=\"data row5 col2\" >72.000000</td>\n",
       "    </tr>\n",
       "    <tr>\n",
       "      <th id=\"T_adfd6_level0_row6\" class=\"row_heading level0 row6\" >75%</th>\n",
       "      <td id=\"T_adfd6_row6_col0\" class=\"data row6 col0\" >3.000000</td>\n",
       "      <td id=\"T_adfd6_row6_col1\" class=\"data row6 col1\" >2.000000</td>\n",
       "      <td id=\"T_adfd6_row6_col2\" class=\"data row6 col2\" >120.000000</td>\n",
       "    </tr>\n",
       "    <tr>\n",
       "      <th id=\"T_adfd6_level0_row7\" class=\"row_heading level0 row7\" >max</th>\n",
       "      <td id=\"T_adfd6_row7_col0\" class=\"data row7 col0\" >40.000000</td>\n",
       "      <td id=\"T_adfd6_row7_col1\" class=\"data row7 col1\" >3.000000</td>\n",
       "      <td id=\"T_adfd6_row7_col2\" class=\"data row7 col2\" >3600.000000</td>\n",
       "    </tr>\n",
       "  </tbody>\n",
       "</table>\n"
      ],
      "text/plain": [
       "<pandas.io.formats.style.Styler at 0x1bae545b790>"
      ]
     },
     "execution_count": 19,
     "metadata": {},
     "output_type": "execute_result"
    }
   ],
   "source": [
    "dt.describe().style.background_gradient(cmap='Reds',low=0.5,high=1.0,axis=1)"
   ]
  },
  {
   "cell_type": "markdown",
   "id": "c3b17180",
   "metadata": {},
   "source": [
    "# Check for the null values"
   ]
  },
  {
   "cell_type": "code",
   "execution_count": 20,
   "id": "9274c661",
   "metadata": {},
   "outputs": [
    {
     "data": {
      "text/plain": [
       "area_type          0\n",
       "availability       0\n",
       "location           1\n",
       "size              16\n",
       "society         5502\n",
       "total_sqft         0\n",
       "bath              73\n",
       "balcony          609\n",
       "price              0\n",
       "dtype: int64"
      ]
     },
     "execution_count": 20,
     "metadata": {},
     "output_type": "execute_result"
    }
   ],
   "source": [
    "dt.isna().sum()"
   ]
  },
  {
   "cell_type": "markdown",
   "id": "22a44783",
   "metadata": {},
   "source": [
    "- Location, size, society, bat, balcony columns have the null values"
   ]
  },
  {
   "cell_type": "markdown",
   "id": "6949d862",
   "metadata": {},
   "source": [
    "# Check for the duplicate values"
   ]
  },
  {
   "cell_type": "code",
   "execution_count": 22,
   "id": "c18cc458",
   "metadata": {},
   "outputs": [
    {
     "data": {
      "text/plain": [
       "529"
      ]
     },
     "execution_count": 22,
     "metadata": {},
     "output_type": "execute_result"
    }
   ],
   "source": [
    "dt.duplicated().sum()"
   ]
  },
  {
   "cell_type": "code",
   "execution_count": 24,
   "id": "05cdb1ba",
   "metadata": {},
   "outputs": [
    {
     "data": {
      "text/html": [
       "<div>\n",
       "<style scoped>\n",
       "    .dataframe tbody tr th:only-of-type {\n",
       "        vertical-align: middle;\n",
       "    }\n",
       "\n",
       "    .dataframe tbody tr th {\n",
       "        vertical-align: top;\n",
       "    }\n",
       "\n",
       "    .dataframe thead th {\n",
       "        text-align: right;\n",
       "    }\n",
       "</style>\n",
       "<table border=\"1\" class=\"dataframe\">\n",
       "  <thead>\n",
       "    <tr style=\"text-align: right;\">\n",
       "      <th></th>\n",
       "      <th>area_type</th>\n",
       "      <th>availability</th>\n",
       "      <th>location</th>\n",
       "      <th>size</th>\n",
       "      <th>society</th>\n",
       "      <th>total_sqft</th>\n",
       "      <th>bath</th>\n",
       "      <th>balcony</th>\n",
       "      <th>price</th>\n",
       "    </tr>\n",
       "  </thead>\n",
       "  <tbody>\n",
       "    <tr>\n",
       "      <th>971</th>\n",
       "      <td>Super built-up  Area</td>\n",
       "      <td>Ready To Move</td>\n",
       "      <td>Haralur Road</td>\n",
       "      <td>3 BHK</td>\n",
       "      <td>NRowse</td>\n",
       "      <td>1464</td>\n",
       "      <td>3.0</td>\n",
       "      <td>2.0</td>\n",
       "      <td>56.0</td>\n",
       "    </tr>\n",
       "    <tr>\n",
       "      <th>1115</th>\n",
       "      <td>Super built-up  Area</td>\n",
       "      <td>Ready To Move</td>\n",
       "      <td>Haralur Road</td>\n",
       "      <td>2 BHK</td>\n",
       "      <td>NaN</td>\n",
       "      <td>1027</td>\n",
       "      <td>2.0</td>\n",
       "      <td>2.0</td>\n",
       "      <td>44.0</td>\n",
       "    </tr>\n",
       "    <tr>\n",
       "      <th>1143</th>\n",
       "      <td>Super built-up  Area</td>\n",
       "      <td>Ready To Move</td>\n",
       "      <td>Vittasandra</td>\n",
       "      <td>2 BHK</td>\n",
       "      <td>Prlla C</td>\n",
       "      <td>1246</td>\n",
       "      <td>2.0</td>\n",
       "      <td>1.0</td>\n",
       "      <td>64.5</td>\n",
       "    </tr>\n",
       "    <tr>\n",
       "      <th>1290</th>\n",
       "      <td>Super built-up  Area</td>\n",
       "      <td>Ready To Move</td>\n",
       "      <td>Haralur Road</td>\n",
       "      <td>2 BHK</td>\n",
       "      <td>NaN</td>\n",
       "      <td>1194</td>\n",
       "      <td>2.0</td>\n",
       "      <td>2.0</td>\n",
       "      <td>47.0</td>\n",
       "    </tr>\n",
       "    <tr>\n",
       "      <th>1394</th>\n",
       "      <td>Super built-up  Area</td>\n",
       "      <td>Ready To Move</td>\n",
       "      <td>Haralur Road</td>\n",
       "      <td>2 BHK</td>\n",
       "      <td>NaN</td>\n",
       "      <td>1027</td>\n",
       "      <td>2.0</td>\n",
       "      <td>2.0</td>\n",
       "      <td>44.0</td>\n",
       "    </tr>\n",
       "    <tr>\n",
       "      <th>...</th>\n",
       "      <td>...</td>\n",
       "      <td>...</td>\n",
       "      <td>...</td>\n",
       "      <td>...</td>\n",
       "      <td>...</td>\n",
       "      <td>...</td>\n",
       "      <td>...</td>\n",
       "      <td>...</td>\n",
       "      <td>...</td>\n",
       "    </tr>\n",
       "    <tr>\n",
       "      <th>13285</th>\n",
       "      <td>Super built-up  Area</td>\n",
       "      <td>Ready To Move</td>\n",
       "      <td>VHBCS Layout</td>\n",
       "      <td>2 BHK</td>\n",
       "      <td>OlarkLa</td>\n",
       "      <td>1353</td>\n",
       "      <td>2.0</td>\n",
       "      <td>2.0</td>\n",
       "      <td>110.0</td>\n",
       "    </tr>\n",
       "    <tr>\n",
       "      <th>13299</th>\n",
       "      <td>Super built-up  Area</td>\n",
       "      <td>18-Dec</td>\n",
       "      <td>Whitefield</td>\n",
       "      <td>4 BHK</td>\n",
       "      <td>Prtates</td>\n",
       "      <td>2830 - 2882</td>\n",
       "      <td>5.0</td>\n",
       "      <td>0.0</td>\n",
       "      <td>154.5</td>\n",
       "    </tr>\n",
       "    <tr>\n",
       "      <th>13311</th>\n",
       "      <td>Plot  Area</td>\n",
       "      <td>Ready To Move</td>\n",
       "      <td>Ramamurthy Nagar</td>\n",
       "      <td>7 Bedroom</td>\n",
       "      <td>NaN</td>\n",
       "      <td>1500</td>\n",
       "      <td>9.0</td>\n",
       "      <td>2.0</td>\n",
       "      <td>250.0</td>\n",
       "    </tr>\n",
       "    <tr>\n",
       "      <th>13313</th>\n",
       "      <td>Super built-up  Area</td>\n",
       "      <td>Ready To Move</td>\n",
       "      <td>Uttarahalli</td>\n",
       "      <td>3 BHK</td>\n",
       "      <td>Aklia R</td>\n",
       "      <td>1345</td>\n",
       "      <td>2.0</td>\n",
       "      <td>1.0</td>\n",
       "      <td>57.0</td>\n",
       "    </tr>\n",
       "    <tr>\n",
       "      <th>13319</th>\n",
       "      <td>Super built-up  Area</td>\n",
       "      <td>Ready To Move</td>\n",
       "      <td>Doddathoguru</td>\n",
       "      <td>1 BHK</td>\n",
       "      <td>NaN</td>\n",
       "      <td>550</td>\n",
       "      <td>1.0</td>\n",
       "      <td>1.0</td>\n",
       "      <td>17.0</td>\n",
       "    </tr>\n",
       "  </tbody>\n",
       "</table>\n",
       "<p>529 rows × 9 columns</p>\n",
       "</div>"
      ],
      "text/plain": [
       "                  area_type   availability          location       size  \\\n",
       "971    Super built-up  Area  Ready To Move      Haralur Road      3 BHK   \n",
       "1115   Super built-up  Area  Ready To Move      Haralur Road      2 BHK   \n",
       "1143   Super built-up  Area  Ready To Move       Vittasandra      2 BHK   \n",
       "1290   Super built-up  Area  Ready To Move      Haralur Road      2 BHK   \n",
       "1394   Super built-up  Area  Ready To Move      Haralur Road      2 BHK   \n",
       "...                     ...            ...               ...        ...   \n",
       "13285  Super built-up  Area  Ready To Move      VHBCS Layout      2 BHK   \n",
       "13299  Super built-up  Area         18-Dec        Whitefield      4 BHK   \n",
       "13311            Plot  Area  Ready To Move  Ramamurthy Nagar  7 Bedroom   \n",
       "13313  Super built-up  Area  Ready To Move       Uttarahalli      3 BHK   \n",
       "13319  Super built-up  Area  Ready To Move      Doddathoguru      1 BHK   \n",
       "\n",
       "       society   total_sqft  bath  balcony  price  \n",
       "971    NRowse          1464   3.0      2.0   56.0  \n",
       "1115       NaN         1027   2.0      2.0   44.0  \n",
       "1143   Prlla C         1246   2.0      1.0   64.5  \n",
       "1290       NaN         1194   2.0      2.0   47.0  \n",
       "1394       NaN         1027   2.0      2.0   44.0  \n",
       "...        ...          ...   ...      ...    ...  \n",
       "13285  OlarkLa         1353   2.0      2.0  110.0  \n",
       "13299  Prtates  2830 - 2882   5.0      0.0  154.5  \n",
       "13311      NaN         1500   9.0      2.0  250.0  \n",
       "13313  Aklia R         1345   2.0      1.0   57.0  \n",
       "13319      NaN          550   1.0      1.0   17.0  \n",
       "\n",
       "[529 rows x 9 columns]"
      ]
     },
     "execution_count": 24,
     "metadata": {},
     "output_type": "execute_result"
    }
   ],
   "source": [
    "dt[dt.duplicated()]"
   ]
  },
  {
   "cell_type": "markdown",
   "id": "46478cfc",
   "metadata": {},
   "source": [
    "- We have 529 rows as duplicate rows."
   ]
  },
  {
   "cell_type": "markdown",
   "id": "0440dee8",
   "metadata": {},
   "source": [
    "# Dropping the duplicates"
   ]
  },
  {
   "cell_type": "code",
   "execution_count": 26,
   "id": "6f88fcaa",
   "metadata": {},
   "outputs": [],
   "source": [
    "dt.drop_duplicates(inplace=True)"
   ]
  },
  {
   "cell_type": "code",
   "execution_count": 27,
   "id": "fd91526d",
   "metadata": {},
   "outputs": [
    {
     "data": {
      "text/plain": [
       "0"
      ]
     },
     "execution_count": 27,
     "metadata": {},
     "output_type": "execute_result"
    }
   ],
   "source": [
    "dt.duplicated().sum()"
   ]
  },
  {
   "cell_type": "markdown",
   "id": "b4f9dcf3",
   "metadata": {},
   "source": [
    "- We have successfully removed the duplicates."
   ]
  },
  {
   "cell_type": "markdown",
   "id": "0d70a12a",
   "metadata": {},
   "source": [
    "# Treating the null values"
   ]
  },
  {
   "cell_type": "markdown",
   "id": "4639f4a2",
   "metadata": {},
   "source": [
    "- 1- We can drop the null values\n",
    "- 2- We can impute the null values (filling the null values with some other values)\n",
    "- Before filling the null values we have to check whether a column is discrete or cataegorical"
   ]
  },
  {
   "cell_type": "code",
   "execution_count": 28,
   "id": "2aa8a835",
   "metadata": {},
   "outputs": [
    {
     "data": {
      "text/plain": [
       "area_type          0\n",
       "availability       0\n",
       "location           1\n",
       "size              16\n",
       "society         5328\n",
       "total_sqft         0\n",
       "bath              73\n",
       "balcony          605\n",
       "price              0\n",
       "dtype: int64"
      ]
     },
     "execution_count": 28,
     "metadata": {},
     "output_type": "execute_result"
    }
   ],
   "source": [
    "dt.isna().sum()"
   ]
  },
  {
   "cell_type": "code",
   "execution_count": 29,
   "id": "f087939c",
   "metadata": {},
   "outputs": [
    {
     "data": {
      "text/plain": [
       "area_type          4\n",
       "availability      81\n",
       "location        1305\n",
       "size              31\n",
       "society         2688\n",
       "total_sqft      2117\n",
       "bath              19\n",
       "balcony            4\n",
       "price           1994\n",
       "dtype: int64"
      ]
     },
     "execution_count": 29,
     "metadata": {},
     "output_type": "execute_result"
    }
   ],
   "source": [
    "dt.nunique()"
   ]
  },
  {
   "cell_type": "code",
   "execution_count": 30,
   "id": "5854fb8f",
   "metadata": {},
   "outputs": [],
   "source": [
    "# Object column will be treaed as categorical.\n",
    "# Numerical column may be discrete or categorical"
   ]
  },
  {
   "cell_type": "code",
   "execution_count": 31,
   "id": "37a42271",
   "metadata": {},
   "outputs": [],
   "source": [
    "# If the column is categorical then we generally fill the null values with the mmode value.\n",
    "# If the column is discrete then we generally fill the null values with mean or median."
   ]
  },
  {
   "cell_type": "markdown",
   "id": "a75bcb61",
   "metadata": {},
   "source": [
    "# Loaction"
   ]
  },
  {
   "cell_type": "code",
   "execution_count": 33,
   "id": "b3f93986",
   "metadata": {},
   "outputs": [
    {
     "data": {
      "text/plain": [
       "dtype('O')"
      ]
     },
     "execution_count": 33,
     "metadata": {},
     "output_type": "execute_result"
    }
   ],
   "source": [
    "dt.location.dtype"
   ]
  },
  {
   "cell_type": "code",
   "execution_count": 45,
   "id": "5bd7bdad",
   "metadata": {},
   "outputs": [],
   "source": [
    "dt.location.fillna(dt.location.mode()[0],inplace=True)"
   ]
  },
  {
   "cell_type": "code",
   "execution_count": 46,
   "id": "2af1328d",
   "metadata": {},
   "outputs": [
    {
     "data": {
      "text/plain": [
       "0"
      ]
     },
     "execution_count": 46,
     "metadata": {},
     "output_type": "execute_result"
    }
   ],
   "source": [
    "dt.location.isna().sum()"
   ]
  },
  {
   "cell_type": "code",
   "execution_count": 43,
   "id": "a94fb289",
   "metadata": {},
   "outputs": [
    {
     "data": {
      "text/plain": [
       "'Whitefield'"
      ]
     },
     "execution_count": 43,
     "metadata": {},
     "output_type": "execute_result"
    }
   ],
   "source": [
    "dt.location.mode()[0]"
   ]
  },
  {
   "cell_type": "markdown",
   "id": "b233daf7",
   "metadata": {},
   "source": [
    "# Size"
   ]
  },
  {
   "cell_type": "code",
   "execution_count": 50,
   "id": "caf6fa62",
   "metadata": {},
   "outputs": [
    {
     "data": {
      "text/plain": [
       "dtype('O')"
      ]
     },
     "execution_count": 50,
     "metadata": {},
     "output_type": "execute_result"
    }
   ],
   "source": [
    "dt['size'].dtype"
   ]
  },
  {
   "cell_type": "code",
   "execution_count": 51,
   "id": "adff003f",
   "metadata": {},
   "outputs": [],
   "source": [
    "# Mode"
   ]
  },
  {
   "cell_type": "code",
   "execution_count": 60,
   "id": "ea296ca8",
   "metadata": {},
   "outputs": [
    {
     "name": "stdout",
     "output_type": "stream",
     "text": [
      "0    2 BHK\n",
      "Name: size, dtype: object <class 'pandas.core.series.Series'>\n",
      "2 BHK\n"
     ]
    }
   ],
   "source": [
    "x=dt['size'].mode()\n",
    "print(x,type(x))\n",
    "print(x[0])"
   ]
  },
  {
   "cell_type": "code",
   "execution_count": 54,
   "id": "01f53f9f",
   "metadata": {},
   "outputs": [],
   "source": [
    "dt['size'].fillna(dt['size'].mode()[0],inplace=True)"
   ]
  },
  {
   "cell_type": "code",
   "execution_count": 55,
   "id": "264d91a7",
   "metadata": {},
   "outputs": [
    {
     "data": {
      "text/plain": [
       "area_type          0\n",
       "availability       0\n",
       "location           0\n",
       "size               0\n",
       "society         5328\n",
       "total_sqft         0\n",
       "bath              73\n",
       "balcony          605\n",
       "price              0\n",
       "dtype: int64"
      ]
     },
     "execution_count": 55,
     "metadata": {},
     "output_type": "execute_result"
    }
   ],
   "source": [
    "dt.isna().sum()"
   ]
  },
  {
   "cell_type": "code",
   "execution_count": 61,
   "id": "c2579922",
   "metadata": {},
   "outputs": [],
   "source": [
    "# size- column name\n",
    "# size- attribute"
   ]
  },
  {
   "cell_type": "code",
   "execution_count": 64,
   "id": "19df3d5e",
   "metadata": {},
   "outputs": [
    {
     "data": {
      "text/plain": [
       "115119"
      ]
     },
     "execution_count": 64,
     "metadata": {},
     "output_type": "execute_result"
    }
   ],
   "source": [
    "dt.size"
   ]
  },
  {
   "cell_type": "markdown",
   "id": "a94af961",
   "metadata": {},
   "source": [
    "# Society"
   ]
  },
  {
   "cell_type": "markdown",
   "id": "f41903de",
   "metadata": {},
   "source": [
    "- If any column has more than 30% values as null values we drop that column."
   ]
  },
  {
   "cell_type": "code",
   "execution_count": 69,
   "id": "66106c85",
   "metadata": {},
   "outputs": [
    {
     "data": {
      "text/plain": [
       "41.654288171370496"
      ]
     },
     "execution_count": 69,
     "metadata": {},
     "output_type": "execute_result"
    }
   ],
   "source": [
    "dt.society.isna().sum()*100/len(dt)"
   ]
  },
  {
   "cell_type": "code",
   "execution_count": 70,
   "id": "c1692b3c",
   "metadata": {},
   "outputs": [],
   "source": [
    "# Since 41% values are null values so we can drop the societ column."
   ]
  },
  {
   "cell_type": "code",
   "execution_count": 72,
   "id": "97810a9e",
   "metadata": {},
   "outputs": [],
   "source": [
    "dt.drop('society',axis=1,inplace=True)"
   ]
  },
  {
   "cell_type": "code",
   "execution_count": 73,
   "id": "cff43265",
   "metadata": {},
   "outputs": [
    {
     "data": {
      "text/html": [
       "<div>\n",
       "<style scoped>\n",
       "    .dataframe tbody tr th:only-of-type {\n",
       "        vertical-align: middle;\n",
       "    }\n",
       "\n",
       "    .dataframe tbody tr th {\n",
       "        vertical-align: top;\n",
       "    }\n",
       "\n",
       "    .dataframe thead th {\n",
       "        text-align: right;\n",
       "    }\n",
       "</style>\n",
       "<table border=\"1\" class=\"dataframe\">\n",
       "  <thead>\n",
       "    <tr style=\"text-align: right;\">\n",
       "      <th></th>\n",
       "      <th>area_type</th>\n",
       "      <th>availability</th>\n",
       "      <th>location</th>\n",
       "      <th>size</th>\n",
       "      <th>total_sqft</th>\n",
       "      <th>bath</th>\n",
       "      <th>balcony</th>\n",
       "      <th>price</th>\n",
       "    </tr>\n",
       "  </thead>\n",
       "  <tbody>\n",
       "    <tr>\n",
       "      <th>0</th>\n",
       "      <td>Super built-up  Area</td>\n",
       "      <td>19-Dec</td>\n",
       "      <td>Electronic City Phase II</td>\n",
       "      <td>2 BHK</td>\n",
       "      <td>1056</td>\n",
       "      <td>2.0</td>\n",
       "      <td>1.0</td>\n",
       "      <td>39.07</td>\n",
       "    </tr>\n",
       "    <tr>\n",
       "      <th>1</th>\n",
       "      <td>Plot  Area</td>\n",
       "      <td>Ready To Move</td>\n",
       "      <td>Chikka Tirupathi</td>\n",
       "      <td>4 Bedroom</td>\n",
       "      <td>2600</td>\n",
       "      <td>5.0</td>\n",
       "      <td>3.0</td>\n",
       "      <td>120.00</td>\n",
       "    </tr>\n",
       "    <tr>\n",
       "      <th>2</th>\n",
       "      <td>Built-up  Area</td>\n",
       "      <td>Ready To Move</td>\n",
       "      <td>Uttarahalli</td>\n",
       "      <td>3 BHK</td>\n",
       "      <td>1440</td>\n",
       "      <td>2.0</td>\n",
       "      <td>3.0</td>\n",
       "      <td>62.00</td>\n",
       "    </tr>\n",
       "    <tr>\n",
       "      <th>3</th>\n",
       "      <td>Super built-up  Area</td>\n",
       "      <td>Ready To Move</td>\n",
       "      <td>Lingadheeranahalli</td>\n",
       "      <td>3 BHK</td>\n",
       "      <td>1521</td>\n",
       "      <td>3.0</td>\n",
       "      <td>1.0</td>\n",
       "      <td>95.00</td>\n",
       "    </tr>\n",
       "    <tr>\n",
       "      <th>4</th>\n",
       "      <td>Super built-up  Area</td>\n",
       "      <td>Ready To Move</td>\n",
       "      <td>Kothanur</td>\n",
       "      <td>2 BHK</td>\n",
       "      <td>1200</td>\n",
       "      <td>2.0</td>\n",
       "      <td>1.0</td>\n",
       "      <td>51.00</td>\n",
       "    </tr>\n",
       "  </tbody>\n",
       "</table>\n",
       "</div>"
      ],
      "text/plain": [
       "              area_type   availability                  location       size  \\\n",
       "0  Super built-up  Area         19-Dec  Electronic City Phase II      2 BHK   \n",
       "1            Plot  Area  Ready To Move          Chikka Tirupathi  4 Bedroom   \n",
       "2        Built-up  Area  Ready To Move               Uttarahalli      3 BHK   \n",
       "3  Super built-up  Area  Ready To Move        Lingadheeranahalli      3 BHK   \n",
       "4  Super built-up  Area  Ready To Move                  Kothanur      2 BHK   \n",
       "\n",
       "  total_sqft  bath  balcony   price  \n",
       "0       1056   2.0      1.0   39.07  \n",
       "1       2600   5.0      3.0  120.00  \n",
       "2       1440   2.0      3.0   62.00  \n",
       "3       1521   3.0      1.0   95.00  \n",
       "4       1200   2.0      1.0   51.00  "
      ]
     },
     "execution_count": 73,
     "metadata": {},
     "output_type": "execute_result"
    }
   ],
   "source": [
    "dt.head()"
   ]
  },
  {
   "cell_type": "code",
   "execution_count": 74,
   "id": "1c94b9b2",
   "metadata": {},
   "outputs": [
    {
     "data": {
      "text/plain": [
       "area_type         0\n",
       "availability      0\n",
       "location          0\n",
       "size              0\n",
       "total_sqft        0\n",
       "bath             73\n",
       "balcony         605\n",
       "price             0\n",
       "dtype: int64"
      ]
     },
     "execution_count": 74,
     "metadata": {},
     "output_type": "execute_result"
    }
   ],
   "source": [
    "dt.isna().sum()"
   ]
  },
  {
   "cell_type": "markdown",
   "id": "71842fff",
   "metadata": {},
   "source": [
    "# bath"
   ]
  },
  {
   "cell_type": "code",
   "execution_count": 75,
   "id": "6e479ce1",
   "metadata": {},
   "outputs": [
    {
     "data": {
      "text/plain": [
       "dtype('float64')"
      ]
     },
     "execution_count": 75,
     "metadata": {},
     "output_type": "execute_result"
    }
   ],
   "source": [
    "dt.bath.dtype"
   ]
  },
  {
   "cell_type": "code",
   "execution_count": 76,
   "id": "14c81c2b",
   "metadata": {},
   "outputs": [
    {
     "data": {
      "text/plain": [
       "area_type          4\n",
       "availability      81\n",
       "location        1305\n",
       "size              31\n",
       "total_sqft      2117\n",
       "bath              19\n",
       "balcony            4\n",
       "price           1994\n",
       "dtype: int64"
      ]
     },
     "execution_count": 76,
     "metadata": {},
     "output_type": "execute_result"
    }
   ],
   "source": [
    "dt.nunique()"
   ]
  },
  {
   "cell_type": "code",
   "execution_count": 78,
   "id": "34c5dd40",
   "metadata": {},
   "outputs": [],
   "source": [
    "dt.bath.fillna(dt.bath.mode()[0],inplace=True)"
   ]
  },
  {
   "cell_type": "code",
   "execution_count": 79,
   "id": "c7d3fe54",
   "metadata": {},
   "outputs": [
    {
     "data": {
      "text/plain": [
       "area_type         0\n",
       "availability      0\n",
       "location          0\n",
       "size              0\n",
       "total_sqft        0\n",
       "bath              0\n",
       "balcony         605\n",
       "price             0\n",
       "dtype: int64"
      ]
     },
     "execution_count": 79,
     "metadata": {},
     "output_type": "execute_result"
    }
   ],
   "source": [
    "dt.isna().sum()"
   ]
  },
  {
   "cell_type": "markdown",
   "id": "08308fbf",
   "metadata": {},
   "source": [
    "# balcony"
   ]
  },
  {
   "cell_type": "code",
   "execution_count": 81,
   "id": "c7b3cbba",
   "metadata": {},
   "outputs": [
    {
     "data": {
      "text/plain": [
       "dtype('float64')"
      ]
     },
     "execution_count": 81,
     "metadata": {},
     "output_type": "execute_result"
    }
   ],
   "source": [
    "dt.balcony.dtype"
   ]
  },
  {
   "cell_type": "code",
   "execution_count": 82,
   "id": "2a3266e7",
   "metadata": {},
   "outputs": [],
   "source": [
    "dt.balcony.fillna(dt.balcony.mode()[0],inplace=True)"
   ]
  },
  {
   "cell_type": "code",
   "execution_count": 83,
   "id": "5a2f1d90",
   "metadata": {},
   "outputs": [
    {
     "data": {
      "text/plain": [
       "area_type       0\n",
       "availability    0\n",
       "location        0\n",
       "size            0\n",
       "total_sqft      0\n",
       "bath            0\n",
       "balcony         0\n",
       "price           0\n",
       "dtype: int64"
      ]
     },
     "execution_count": 83,
     "metadata": {},
     "output_type": "execute_result"
    }
   ],
   "source": [
    "dt.isna().sum()"
   ]
  },
  {
   "cell_type": "markdown",
   "id": "74def9ab",
   "metadata": {},
   "source": [
    "- We have successfully treated the null values."
   ]
  },
  {
   "cell_type": "code",
   "execution_count": 85,
   "id": "05cabc9b",
   "metadata": {},
   "outputs": [],
   "source": [
    "# data- algorithm"
   ]
  },
  {
   "cell_type": "code",
   "execution_count": 88,
   "id": "d6f26218",
   "metadata": {},
   "outputs": [],
   "source": [
    "# x=dt.location.mode()\n",
    "# x.iloc[0]"
   ]
  },
  {
   "cell_type": "code",
   "execution_count": null,
   "id": "fc409921",
   "metadata": {},
   "outputs": [],
   "source": []
  }
 ],
 "metadata": {
  "kernelspec": {
   "display_name": "Python 3 (ipykernel)",
   "language": "python",
   "name": "python3"
  },
  "language_info": {
   "codemirror_mode": {
    "name": "ipython",
    "version": 3
   },
   "file_extension": ".py",
   "mimetype": "text/x-python",
   "name": "python",
   "nbconvert_exporter": "python",
   "pygments_lexer": "ipython3",
   "version": "3.9.13"
  }
 },
 "nbformat": 4,
 "nbformat_minor": 5
}
