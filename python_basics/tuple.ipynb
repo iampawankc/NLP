{
 "cells": [
  {
   "attachments": {},
   "cell_type": "markdown",
   "metadata": {},
   "source": [
    "Creation of Tuples\n",
    "#case 2\n",
    "When we pass a single element inside () then it is not a tuple but the element itself.\n",
    "To convert this into a tuple we have to put a comma after the element"
   ]
  },
  {
   "cell_type": "code",
   "execution_count": 3,
   "metadata": {},
   "outputs": [
    {
     "name": "stdout",
     "output_type": "stream",
     "text": [
      "5 <class 'int'>\n"
     ]
    }
   ],
   "source": [
    "a=(5)\n",
    "print(a,type(a))"
   ]
  },
  {
   "cell_type": "code",
   "execution_count": 2,
   "metadata": {},
   "outputs": [
    {
     "name": "stdout",
     "output_type": "stream",
     "text": [
      "(5,) <class 'tuple'>\n"
     ]
    }
   ],
   "source": [
    "a=(5,)\n",
    "print(a, type(a))"
   ]
  },
  {
   "attachments": {},
   "cell_type": "markdown",
   "metadata": {},
   "source": [
    "#Packing and Unpacking\n",
    "Assigning multiple values to single variable is called packing\n",
    "In python tuple supports packing\n",
    "Unpacking values to multiple variables from a single variable\n",
    "Unpacking is supported by tuple, list and other data structures also"
   ]
  },
  {
   "cell_type": "code",
   "execution_count": 5,
   "metadata": {},
   "outputs": [
    {
     "name": "stdout",
     "output_type": "stream",
     "text": [
      "('Pawan', 10000000, 'Bangalore', 'Manager') <class 'tuple'>\n",
      "Pawan 10000000 10000000 Manager\n"
     ]
    }
   ],
   "source": [
    "#Passing multiple values to string, this will automatically get coverted to tuple\n",
    "emp_details = 'Pawan', 10000000, 'Bangalore', 'Manager'\n",
    "print(emp_details, type(emp_details))\n",
    "emp_nae, emp_sal, Emp_loca, emp_desg = emp_details\n",
    "print(emp_nae, emp_sal, emp_sal, emp_desg)"
   ]
  },
  {
   "attachments": {},
   "cell_type": "markdown",
   "metadata": {},
   "source": [
    "#Creating a tuple using loop\n",
    "Create a tuple on even number from 2 to 20 using loops"
   ]
  },
  {
   "cell_type": "code",
   "execution_count": 8,
   "metadata": {},
   "outputs": [
    {
     "name": "stdout",
     "output_type": "stream",
     "text": [
      "(2,) 4632970720\n",
      "(2, 4) 4630306304\n",
      "(2, 4, 6) 4633073728\n",
      "(2, 4, 6, 8) 4633095408\n",
      "(2, 4, 6, 8, 10) 4632915424\n",
      "(2, 4, 6, 8, 10, 12) 4632859008\n",
      "(2, 4, 6, 8, 10, 12, 14) 4630417120\n",
      "(2, 4, 6, 8, 10, 12, 14, 16) 4575984688\n",
      "(2, 4, 6, 8, 10, 12, 14, 16, 18) 4632310528\n",
      "(2, 4, 6, 8, 10, 12, 14, 16, 18, 20) 4632901696\n",
      "(2, 4, 6, 8, 10, 12, 14, 16, 18, 20) <class 'tuple'>\n"
     ]
    }
   ],
   "source": [
    "t=()\n",
    "for i in range(2,21,2):\n",
    "    t=t+(i,)\n",
    "    print(t, id(t))\n",
    "print(t, type(t))\n",
    "#Everytime when we append a value to tuple a new tuple is created in memory, hence tuples are immutable"
   ]
  },
  {
   "attachments": {},
   "cell_type": "markdown",
   "metadata": {},
   "source": [
    "#Tuple Methods"
   ]
  },
  {
   "cell_type": "code",
   "execution_count": 9,
   "metadata": {},
   "outputs": [
    {
     "name": "stdout",
     "output_type": "stream",
     "text": [
      "['__add__', '__class__', '__class_getitem__', '__contains__', '__delattr__', '__dir__', '__doc__', '__eq__', '__format__', '__ge__', '__getattribute__', '__getitem__', '__getnewargs__', '__getstate__', '__gt__', '__hash__', '__init__', '__init_subclass__', '__iter__', '__le__', '__len__', '__lt__', '__mul__', '__ne__', '__new__', '__reduce__', '__reduce_ex__', '__repr__', '__rmul__', '__setattr__', '__sizeof__', '__str__', '__subclasshook__', 'count', 'index']\n"
     ]
    }
   ],
   "source": [
    "print(dir(tuple))\n",
    "#Gives all the methods/functions associated with tuple"
   ]
  },
  {
   "cell_type": "code",
   "execution_count": 13,
   "metadata": {},
   "outputs": [
    {
     "name": "stdout",
     "output_type": "stream",
     "text": [
      "9\n",
      "2\n",
      "3\n",
      "0\n"
     ]
    }
   ],
   "source": [
    "t=(10,20,20,30,40,41,50,50,50)\n",
    "print(len(t))\n",
    "\n",
    "print(t.count(20))\n",
    "print(t.count(50))\n",
    "print(t.count(100))"
   ]
  },
  {
   "cell_type": "code",
   "execution_count": 17,
   "metadata": {},
   "outputs": [
    {
     "name": "stdout",
     "output_type": "stream",
     "text": [
      "6\n"
     ]
    },
    {
     "ename": "ValueError",
     "evalue": "tuple.index(x): x not in tuple",
     "output_type": "error",
     "traceback": [
      "\u001b[0;31m---------------------------------------------------------------------------\u001b[0m",
      "\u001b[0;31mValueError\u001b[0m                                Traceback (most recent call last)",
      "Cell \u001b[0;32mIn[17], line 3\u001b[0m\n\u001b[1;32m      1\u001b[0m \u001b[39m#Index method returns index of first occurance of element from left to right, if element not found value error is thrown\u001b[39;00m\n\u001b[1;32m      2\u001b[0m \u001b[39mprint\u001b[39m(t\u001b[39m.\u001b[39mindex(\u001b[39m50\u001b[39m))\n\u001b[0;32m----> 3\u001b[0m \u001b[39mprint\u001b[39m(t\u001b[39m.\u001b[39;49mindex(\u001b[39m50\u001b[39;49m, \u001b[39m0\u001b[39;49m,\u001b[39m3\u001b[39;49m))\n",
      "\u001b[0;31mValueError\u001b[0m: tuple.index(x): x not in tuple"
     ]
    }
   ],
   "source": [
    "#Index method returns index of first occurance of element from left to right, if element not found value error is thrown\n",
    "print(t.index(50))\n",
    "print(t.index(50, 0,3))\n",
    "#Searching index with startt and stop index"
   ]
  }
 ],
 "metadata": {
  "kernelspec": {
   "display_name": "Python 3",
   "language": "python",
   "name": "python3"
  },
  "language_info": {
   "codemirror_mode": {
    "name": "ipython",
    "version": 3
   },
   "file_extension": ".py",
   "mimetype": "text/x-python",
   "name": "python",
   "nbconvert_exporter": "python",
   "pygments_lexer": "ipython3",
   "version": "3.11.1"
  },
  "orig_nbformat": 4
 },
 "nbformat": 4,
 "nbformat_minor": 2
}
