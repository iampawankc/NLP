{
 "cells": [
  {
   "attachments": {},
   "cell_type": "markdown",
   "metadata": {},
   "source": [
    "# Exception handling\n",
    "class Date: 19 April"
   ]
  },
  {
   "cell_type": "code",
   "execution_count": 2,
   "metadata": {},
   "outputs": [
    {
     "name": "stdout",
     "output_type": "stream",
     "text": [
      "Try block\n",
      "Else block\n",
      "Finally block\n"
     ]
    }
   ],
   "source": [
    "try:\n",
    "    print('Try block')\n",
    "    #Use raise keyword to raise exception\n",
    "except ValueError:\n",
    "    print('Valueerror Except block')\n",
    "    #Specific type of error\n",
    "except:\n",
    "    print('Default Except block')\n",
    "    #Using except without Exception as e will avoid python defined error messages\n",
    "    #and allow to display user defined messages\n",
    "else:\n",
    "    print('Else block')\n",
    "    # Else block is executed if there are no exceptions raised in try block\n",
    "    # If except is executed, else will not be executed\n",
    "finally:\n",
    "    print('Finally block')\n",
    "    # Irrespective of try except, this block always gets executed\n",
    "    # Corrective code, code termination/cleanup codes goes here"
   ]
  },
  {
   "cell_type": "code",
   "execution_count": null,
   "metadata": {},
   "outputs": [],
   "source": []
  }
 ],
 "metadata": {
  "kernelspec": {
   "display_name": "Python 3",
   "language": "python",
   "name": "python3"
  },
  "language_info": {
   "codemirror_mode": {
    "name": "ipython",
    "version": 3
   },
   "file_extension": ".py",
   "mimetype": "text/x-python",
   "name": "python",
   "nbconvert_exporter": "python",
   "pygments_lexer": "ipython3",
   "version": "3.11.1"
  },
  "orig_nbformat": 4
 },
 "nbformat": 4,
 "nbformat_minor": 2
}
