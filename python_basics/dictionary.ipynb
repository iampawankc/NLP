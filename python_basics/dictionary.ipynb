{
 "cells": [
  {
   "attachments": {},
   "cell_type": "markdown",
   "metadata": {},
   "source": [
    "# Dictionary\n",
    "A dictionary is a collection of key:value pairs placed inside curly bracket {}\n",
    "Each key:value pair is known as element/item of a dictionary\n",
    "Keys cannot be duplicaited, we can have deplicate values for values\n",
    "If we have duplicate keys, then key is updated with latest value"
   ]
  },
  {
   "cell_type": "code",
   "execution_count": 1,
   "metadata": {},
   "outputs": [
    {
     "name": "stdout",
     "output_type": "stream",
     "text": [
      "{1: 100, 2: 200, 3: 300, 4: 400} <class 'dict'>\n"
     ]
    }
   ],
   "source": [
    "d={1:100, 2:200, 3:300, 4:400}\n",
    "print(d, type(d))"
   ]
  },
  {
   "cell_type": "code",
   "execution_count": 3,
   "metadata": {},
   "outputs": [
    {
     "name": "stdout",
     "output_type": "stream",
     "text": [
      "{1: 100, 2: 200, 3: 300, 4: 500} <class 'dict'>\n"
     ]
    }
   ],
   "source": [
    "#If we have duplicate keys, then key is updated with latest value\n",
    "d={1:100, 2:200, 3:300, 4:400, 4:500}\n",
    "print(d, type(d))"
   ]
  },
  {
   "attachments": {},
   "cell_type": "markdown",
   "metadata": {},
   "source": [
    "A dictionary is a container type that can contain multiple elements\n",
    "Dictionary does not folllow indexing method, hence it is not ordered collection\n",
    "Here, values are mapped to keys and we can access any value using keys\n",
    "Concatination, Repetition, Indexing and Slicing operations are not possible with dictionary"
   ]
  },
  {
   "cell_type": "code",
   "execution_count": 6,
   "metadata": {},
   "outputs": [
    {
     "name": "stdout",
     "output_type": "stream",
     "text": [
      "{'name': 'Pawan', 'age': 31, 'id': 12345, 'city': 'Bangalore', 'company': 'KPMG'} <class 'dict'>\n"
     ]
    }
   ],
   "source": [
    "emp={'name':'Pawan', 'age':31, 'id': 12345, 'city':'Bangalore', 'company':'KPMG'}\n",
    "print(emp, type(emp))"
   ]
  },
  {
   "cell_type": "code",
   "execution_count": 7,
   "metadata": {},
   "outputs": [
    {
     "ename": "KeyError",
     "evalue": "'SomeKey'",
     "output_type": "error",
     "traceback": [
      "\u001b[0;31m---------------------------------------------------------------------------\u001b[0m",
      "\u001b[0;31mKeyError\u001b[0m                                  Traceback (most recent call last)",
      "Cell \u001b[0;32mIn[7], line 3\u001b[0m\n\u001b[1;32m      1\u001b[0m \u001b[39m#Accessing by key\u001b[39;00m\n\u001b[1;32m      2\u001b[0m emp[\u001b[39m'\u001b[39m\u001b[39mcity\u001b[39m\u001b[39m'\u001b[39m]\n\u001b[0;32m----> 3\u001b[0m emp[\u001b[39m'\u001b[39;49m\u001b[39mSomeKey\u001b[39;49m\u001b[39m'\u001b[39;49m]\n",
      "\u001b[0;31mKeyError\u001b[0m: 'SomeKey'"
     ]
    }
   ],
   "source": [
    "#Accessing by key, if key not found KeyError is raised\n",
    "emp['city']\n",
    "emp['SomeKey']"
   ]
  },
  {
   "attachments": {},
   "cell_type": "markdown",
   "metadata": {},
   "source": [
    "# Creation of dictionry\n",
    "Case 1: When we already know the elements of dictionary"
   ]
  },
  {
   "cell_type": "code",
   "execution_count": 8,
   "metadata": {},
   "outputs": [
    {
     "data": {
      "text/plain": [
       "{'Name': 'Pawan', 'ID': None, 'City': 'Bangalore'}"
      ]
     },
     "execution_count": 8,
     "metadata": {},
     "output_type": "execute_result"
    }
   ],
   "source": [
    "{'Name':'Pawan', 'ID':None, 'City': 'Bangalore'}"
   ]
  },
  {
   "attachments": {},
   "cell_type": "markdown",
   "metadata": {},
   "source": [
    "Case 2: using dict()\n",
    "Dict function takes an iterable.\n",
    "The iterable that we pass insode the dict() should have one more iterable inside it.\n",
    "The inner iterable should have two elements, the first element becomes the key, second is value of the dictionary\n",
    "\n",
    "List of list\n",
    "List of tuple\n",
    "Tuple of lists\n",
    "tuple of tuples"
   ]
  },
  {
   "cell_type": "code",
   "execution_count": 12,
   "metadata": {},
   "outputs": [
    {
     "name": "stdout",
     "output_type": "stream",
     "text": [
      "{'Name': 'Pawan', 'Age': 31}\n",
      "{'Name': 'Pawan', 'Age': 31}\n",
      "{'Name': 'Pawan', 'Age': 31}\n"
     ]
    }
   ],
   "source": [
    "list_of_list = [['Name', 'Pawan'], ['Age',31]]\n",
    "print(dict(list_of_list))\n",
    "list_of_tuples = [('Name', 'Pawan'), ('Age',31)]\n",
    "print(dict(list_of_tuples))\n",
    "tuple_of_tuple=(('Name', 'Pawan'), ('Age', 31))\n",
    "print(dict(tuple_of_tuple))"
   ]
  },
  {
   "attachments": {},
   "cell_type": "markdown",
   "metadata": {},
   "source": [
    "#enumerate()\n",
    "It takes an iterable as an argument\n",
    "It returns an inumerate object\n",
    "Matches element of the iterable from 0 to len(iterable)-1"
   ]
  },
  {
   "cell_type": "code",
   "execution_count": 15,
   "metadata": {},
   "outputs": [
    {
     "name": "stdout",
     "output_type": "stream",
     "text": [
      "<enumerate object at 0x108072ca0>\n",
      "[(0, 'p'), (1, 'y'), (2, 't'), (3, 'h'), (4, 'o'), (5, 'n')]\n"
     ]
    }
   ],
   "source": [
    "a='python'\n",
    "e=enumerate(a)\n",
    "print(e)\n",
    "print(list(e))"
   ]
  },
  {
   "cell_type": "code",
   "execution_count": 14,
   "metadata": {},
   "outputs": [
    {
     "name": "stdout",
     "output_type": "stream",
     "text": [
      "<enumerate object at 0x103b19f30>\n",
      "((0, 'p'), (1, 'y'), (2, 't'), (3, 'h'), (4, 'o'), (5, 'n'))\n"
     ]
    }
   ],
   "source": [
    "a='python'\n",
    "e=enumerate(a)\n",
    "print(e)\n",
    "print(tuple(e))"
   ]
  },
  {
   "cell_type": "code",
   "execution_count": 18,
   "metadata": {},
   "outputs": [
    {
     "name": "stdout",
     "output_type": "stream",
     "text": [
      "4429655200\n"
     ]
    },
    {
     "data": {
      "text/plain": [
       "4356939568"
      ]
     },
     "execution_count": 18,
     "metadata": {},
     "output_type": "execute_result"
    }
   ],
   "source": [
    "print(id(e))\n",
    "int(0x103b19f30)"
   ]
  },
  {
   "cell_type": "code",
   "execution_count": 20,
   "metadata": {},
   "outputs": [
    {
     "data": {
      "text/plain": [
       "{0: True, 1: 'Python', 2: 10, 3: False, 4: None, 5: (1, 2, 3)}"
      ]
     },
     "execution_count": 20,
     "metadata": {},
     "output_type": "execute_result"
    }
   ],
   "source": [
    "#Create a dict where index is the key and elements of list are values\n",
    "list_1 = [True, 'Python', 10, False, None, (1,2,3)]\n",
    "dict(enumerate(list_1))"
   ]
  },
  {
   "attachments": {},
   "cell_type": "markdown",
   "metadata": {},
   "source": [
    "#Zip()\n",
    "It takes 2 or more iterables as arguments\n",
    "It maps all the elements of all iterables one by one in sequence and returns a zip of it\n",
    "To fetch values, we can pass zip object to list(), tuple(), dict()\n",
    "*Note*: While creating a dict, the zip() should have only 2 iterables to map for key and value \n",
    "\n",
    "Element by element mapping, use zip()"
   ]
  },
  {
   "cell_type": "code",
   "execution_count": 23,
   "metadata": {},
   "outputs": [
    {
     "name": "stdout",
     "output_type": "stream",
     "text": [
      "<zip object at 0x108078980> <class 'zip'>\n",
      "(('a', 10), ('b', 20), ('c', 30), ('d', 40), ('e', 50)) <class 'tuple'>\n",
      "{} <class 'dict'>\n"
     ]
    }
   ],
   "source": [
    "a='abcde'\n",
    "lst=[10,20,30,40,50]\n",
    "z = zip(a, lst)\n",
    "print(z, type(z))\n",
    "t = tuple(z)\n",
    "print(t, type(t))\n",
    "\n"
   ]
  },
  {
   "cell_type": "code",
   "execution_count": 25,
   "metadata": {},
   "outputs": [
    {
     "name": "stdout",
     "output_type": "stream",
     "text": [
      "<zip object at 0x1080786c0> <class 'zip'>\n",
      "{'a': 10, 'b': 20, 'c': 30, 'd': 40, 'e': 50} <class 'dict'>\n"
     ]
    }
   ],
   "source": [
    "a='abcde'\n",
    "lst=[10,20,30,40,50]\n",
    "z = zip(a, lst)\n",
    "print(z, type(z))\n",
    "d = dict(z)\n",
    "print(d, type(d))"
   ]
  },
  {
   "cell_type": "code",
   "execution_count": 26,
   "metadata": {},
   "outputs": [
    {
     "name": "stdout",
     "output_type": "stream",
     "text": [
      "[('a', 10, 1000), ('b', 20, 2000), ('c', 30, 3000), ('d', 40, 4000)]\n"
     ]
    }
   ],
   "source": [
    "a='abcd'\n",
    "b=[10, 20, 30, 40]\n",
    "c=(1000, 2000, 3000, 4000)\n",
    "z = zip(a,b,c)\n",
    "print(list(z))"
   ]
  },
  {
   "attachments": {},
   "cell_type": "markdown",
   "metadata": {},
   "source": [
    "# EVAL()\n",
    "Using eval makes it easier to take inouts from user"
   ]
  },
  {
   "cell_type": "code",
   "execution_count": 1,
   "metadata": {},
   "outputs": [
    {
     "name": "stdout",
     "output_type": "stream",
     "text": [
      "{1, 2, 3} <class 'set'>\n"
     ]
    }
   ],
   "source": [
    "a=eval('{1,2,3}')\n",
    "print(a, type(a))"
   ]
  },
  {
   "cell_type": "code",
   "execution_count": 2,
   "metadata": {},
   "outputs": [
    {
     "name": "stdout",
     "output_type": "stream",
     "text": [
      "{1: 100, 2: 200, 3: 300} <class 'dict'>\n"
     ]
    }
   ],
   "source": [
    "d=eval(input(\"Enter a dictionary - \"))\n",
    "print(d, type(d))"
   ]
  },
  {
   "cell_type": "code",
   "execution_count": 5,
   "metadata": {},
   "outputs": [
    {
     "name": "stdout",
     "output_type": "stream",
     "text": [
      "{1: 100, 2: 200, 3: 300, 4: 400} <class 'dict'>\n"
     ]
    }
   ],
   "source": [
    "keys =[]\n",
    "value =[]\n",
    "\n",
    "for i in range(4):\n",
    "    a = eval(input(\"Enter a key - \"))\n",
    "    keys += [a]\n",
    "\n",
    "    b = eval(input(\"Enter a value - \"))\n",
    "    value += [b]\n",
    "\n",
    "d = dict(zip(keys,value))\n",
    "print(d, type(d))"
   ]
  },
  {
   "attachments": {},
   "cell_type": "markdown",
   "metadata": {},
   "source": [
    "# Case 4: Dictionary Comprehension\n",
    "It is a easier way to create a dictionary using loops\n",
    "{for loop} - dict Comprehension\n",
    "{key:value for loop}"
   ]
  },
  {
   "cell_type": "code",
   "execution_count": 9,
   "metadata": {},
   "outputs": [
    {
     "data": {
      "text/plain": [
       "{1: 1, 2: 4, 3: 9, 4: 16, 5: 25, 6: 36, 7: 49, 8: 64, 9: 81, 10: 100}"
      ]
     },
     "execution_count": 9,
     "metadata": {},
     "output_type": "execute_result"
    }
   ],
   "source": [
    "#Create dict where 1-10 are keys, theier squares are values\n",
    "{i:i**2 for i in range(1,11)}"
   ]
  },
  {
   "cell_type": "code",
   "execution_count": 12,
   "metadata": {},
   "outputs": [
    {
     "name": "stdout",
     "output_type": "stream",
     "text": [
      "{1: 1, 4: 2, 9: 3, 16: 4, 25: 5, 36: 6, 49: 7, 64: 8, 81: 9, 100: 10} <class 'dict'>\n"
     ]
    }
   ],
   "source": [
    "#Create dict where 1-10 are values, theier squares are keys\n",
    "d1 = {i**2:i for i in range(1,11)}\n",
    "print(d1, type(d1))\n"
   ]
  },
  {
   "cell_type": "code",
   "execution_count": 13,
   "metadata": {},
   "outputs": [
    {
     "data": {
      "text/plain": [
       "{15: 3375}"
      ]
     },
     "execution_count": 13,
     "metadata": {},
     "output_type": "execute_result"
    }
   ],
   "source": [
    "#Create dit, where keys are numbers divisible by 3 not by 5 from 1 to 20 and their cubes are values\n",
    "\n",
    "{i:i**3 for i in range(1,21) if i%3==0 and i%5==0}"
   ]
  },
  {
   "cell_type": "code",
   "execution_count": 15,
   "metadata": {},
   "outputs": [
    {
     "data": {
      "text/plain": [
       "{1: 1, 2: 4, 3: 27, 4: 16, 5: 125, 6: 36, 7: 343, 8: 64, 9: 729, 10: 100}"
      ]
     },
     "execution_count": 15,
     "metadata": {},
     "output_type": "execute_result"
    }
   ],
   "source": [
    "#{ternary operator for loop}\n",
    "# Create dict, where numbers (1,10) are keys, values are squares of even keys and cubes of odd keys\n",
    "\n",
    "{ i:i**2 if i%2==0 else i**3 for i in range(1,11) }"
   ]
  },
  {
   "cell_type": "code",
   "execution_count": 17,
   "metadata": {},
   "outputs": [
    {
     "data": {
      "text/plain": [
       "{1: 1, 4: 2, 27: 3, 16: 4, 125: 5, 36: 6, 343: 7, 64: 8, 729: 9, 100: 10}"
      ]
     },
     "execution_count": 17,
     "metadata": {},
     "output_type": "execute_result"
    }
   ],
   "source": [
    "#Reverse scenario\n",
    "{ i**2 if i%2==0 else i**3:i for i in range(1,11) }"
   ]
  },
  {
   "cell_type": "code",
   "execution_count": 18,
   "metadata": {},
   "outputs": [
    {
     "data": {
      "text/plain": [
       "{65: 'A', 69: 'E', 73: 'I', 79: 'O', 85: 'U'}"
      ]
     },
     "execution_count": 18,
     "metadata": {},
     "output_type": "execute_result"
    }
   ],
   "source": [
    "{i: chr(i) for i in range(65,91) if chr(i) in 'AEIOU'}"
   ]
  },
  {
   "cell_type": "code",
   "execution_count": 21,
   "metadata": {},
   "outputs": [
    {
     "data": {
      "text/plain": [
       "{66: 'B',\n",
       " 67: 'C',\n",
       " 68: 'D',\n",
       " 70: 'F',\n",
       " 71: 'G',\n",
       " 72: 'H',\n",
       " 74: 'J',\n",
       " 75: 'K',\n",
       " 76: 'L',\n",
       " 77: 'M',\n",
       " 78: 'N',\n",
       " 80: 'P',\n",
       " 81: 'Q',\n",
       " 82: 'R',\n",
       " 83: 'S',\n",
       " 84: 'T',\n",
       " 86: 'V',\n",
       " 87: 'W',\n",
       " 88: 'X',\n",
       " 89: 'Y',\n",
       " 90: 'Z'}"
      ]
     },
     "execution_count": 21,
     "metadata": {},
     "output_type": "execute_result"
    }
   ],
   "source": [
    "#Print all consonents\n",
    "{ i:chr(i) for i in range(65,91) if chr(i) not in ['A','E','I','O','U'] }"
   ]
  },
  {
   "cell_type": "code",
   "execution_count": 29,
   "metadata": {},
   "outputs": [
    {
     "name": "stdout",
     "output_type": "stream",
     "text": [
      "{81: 'Q', 83: 'S', 85: 'U', 87: 'W', 89: 'Y', 91: '[', 93: ']', 95: '_', 97: 'a', 99: 'c'}\n",
      "{80: 'P', 82: 'R', 84: 'T', 86: 'V', 88: 'X', 90: 'Z', 92: '\\\\', 94: '^', 96: '`', 98: 'b', 100: 'd'}\n"
     ]
    }
   ],
   "source": [
    "#Create dict, where keys are odd ASCII values between 80 to 100 and values are characters at those ASCII values\n",
    "d1 = { i:chr(i) for i in range(80,101) if i%2==1 }\n",
    "\n",
    "d2 = { i:chr(i) for i in range(80,101,2) }\n",
    "\n",
    "print(d1)\n",
    "print(d2)"
   ]
  },
  {
   "attachments": {},
   "cell_type": "markdown",
   "metadata": {},
   "source": [
    "# Mapping multiple values to a key in dict"
   ]
  },
  {
   "cell_type": "code",
   "execution_count": 32,
   "metadata": {},
   "outputs": [
    {
     "data": {
      "text/html": [
       "<div>\n",
       "<style scoped>\n",
       "    .dataframe tbody tr th:only-of-type {\n",
       "        vertical-align: middle;\n",
       "    }\n",
       "\n",
       "    .dataframe tbody tr th {\n",
       "        vertical-align: top;\n",
       "    }\n",
       "\n",
       "    .dataframe thead th {\n",
       "        text-align: right;\n",
       "    }\n",
       "</style>\n",
       "<table border=\"1\" class=\"dataframe\">\n",
       "  <thead>\n",
       "    <tr style=\"text-align: right;\">\n",
       "      <th></th>\n",
       "      <th>a</th>\n",
       "      <th>b</th>\n",
       "      <th>c</th>\n",
       "    </tr>\n",
       "  </thead>\n",
       "  <tbody>\n",
       "    <tr>\n",
       "      <th>0</th>\n",
       "      <td>A</td>\n",
       "      <td>1</td>\n",
       "      <td>1000</td>\n",
       "    </tr>\n",
       "    <tr>\n",
       "      <th>1</th>\n",
       "      <td>B</td>\n",
       "      <td>2</td>\n",
       "      <td>2000</td>\n",
       "    </tr>\n",
       "    <tr>\n",
       "      <th>2</th>\n",
       "      <td>C</td>\n",
       "      <td>3</td>\n",
       "      <td>3000</td>\n",
       "    </tr>\n",
       "  </tbody>\n",
       "</table>\n",
       "</div>"
      ],
      "text/plain": [
       "   a  b     c\n",
       "0  A  1  1000\n",
       "1  B  2  2000\n",
       "2  C  3  3000"
      ]
     },
     "execution_count": 32,
     "metadata": {},
     "output_type": "execute_result"
    }
   ],
   "source": [
    "d ={\n",
    "    'a':['A','B','C'],\n",
    "    'b':[1,2,3],\n",
    "    'c':[1000,2000,3000]\n",
    "}\n",
    "\n",
    "import pandas as pd\n",
    "pd.DataFrame(d)"
   ]
  },
  {
   "attachments": {},
   "cell_type": "markdown",
   "metadata": {},
   "source": [
    "# Nested Dictionaries"
   ]
  },
  {
   "cell_type": "code",
   "execution_count": 33,
   "metadata": {},
   "outputs": [
    {
     "name": "stdout",
     "output_type": "stream",
     "text": [
      "{'emp1': {35000, 'Pawan', 'HR'}, 'emp2': {45000, 'HR1', 'Pawan2'}, 'emp3': {55000, 'HR2', 'Pawan3'}}\n"
     ]
    }
   ],
   "source": [
    "emp_details = {'emp1':{'Pawan', 'HR', 35000},\n",
    "               'emp2':{'Pawan2', 'HR1', 45000},\n",
    "               'emp3':{'Pawan3', 'HR2', 55000},}\n",
    "print(emp_details)"
   ]
  }
 ],
 "metadata": {
  "kernelspec": {
   "display_name": "Python 3",
   "language": "python",
   "name": "python3"
  },
  "language_info": {
   "codemirror_mode": {
    "name": "ipython",
    "version": 3
   },
   "file_extension": ".py",
   "mimetype": "text/x-python",
   "name": "python",
   "nbconvert_exporter": "python",
   "pygments_lexer": "ipython3",
   "version": "3.11.1"
  },
  "orig_nbformat": 4
 },
 "nbformat": 4,
 "nbformat_minor": 2
}
