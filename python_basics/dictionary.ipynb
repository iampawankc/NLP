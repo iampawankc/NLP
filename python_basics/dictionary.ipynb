{
 "cells": [
  {
   "attachments": {},
   "cell_type": "markdown",
   "metadata": {},
   "source": [
    "#Dictionary\n",
    "A dictionary is a collection of key:value pairs placed inside curly bracket {}\n",
    "Each key:value pair is known as element/item of a dictionary\n",
    "Keys cannot be duplicaited, we can have deplicate values for values\n",
    "If we have duplicate keys, then key is updated with latest value"
   ]
  },
  {
   "cell_type": "code",
   "execution_count": 1,
   "metadata": {},
   "outputs": [
    {
     "name": "stdout",
     "output_type": "stream",
     "text": [
      "{1: 100, 2: 200, 3: 300, 4: 400} <class 'dict'>\n"
     ]
    }
   ],
   "source": [
    "d={1:100, 2:200, 3:300, 4:400}\n",
    "print(d, type(d))"
   ]
  },
  {
   "cell_type": "code",
   "execution_count": 3,
   "metadata": {},
   "outputs": [
    {
     "name": "stdout",
     "output_type": "stream",
     "text": [
      "{1: 100, 2: 200, 3: 300, 4: 500} <class 'dict'>\n"
     ]
    }
   ],
   "source": [
    "#If we have duplicate keys, then key is updated with latest value\n",
    "d={1:100, 2:200, 3:300, 4:400, 4:500}\n",
    "print(d, type(d))"
   ]
  },
  {
   "attachments": {},
   "cell_type": "markdown",
   "metadata": {},
   "source": [
    "A dictionary is a container type that can contain multiple elements\n",
    "Dictionary does not folllow indexing method, hence it is not ordered collection\n",
    "Here, values are mapped to keys and we can access any value using keys\n",
    "Concatination, Repetition, Indexing and Slicing operations are not possible with dictionary"
   ]
  },
  {
   "cell_type": "code",
   "execution_count": 6,
   "metadata": {},
   "outputs": [
    {
     "name": "stdout",
     "output_type": "stream",
     "text": [
      "{'name': 'Pawan', 'age': 31, 'id': 12345, 'city': 'Bangalore', 'company': 'KPMG'} <class 'dict'>\n"
     ]
    }
   ],
   "source": [
    "emp={'name':'Pawan', 'age':31, 'id': 12345, 'city':'Bangalore', 'company':'KPMG'}\n",
    "print(emp, type(emp))"
   ]
  },
  {
   "cell_type": "code",
   "execution_count": 7,
   "metadata": {},
   "outputs": [
    {
     "ename": "KeyError",
     "evalue": "'SomeKey'",
     "output_type": "error",
     "traceback": [
      "\u001b[0;31m---------------------------------------------------------------------------\u001b[0m",
      "\u001b[0;31mKeyError\u001b[0m                                  Traceback (most recent call last)",
      "Cell \u001b[0;32mIn[7], line 3\u001b[0m\n\u001b[1;32m      1\u001b[0m \u001b[39m#Accessing by key\u001b[39;00m\n\u001b[1;32m      2\u001b[0m emp[\u001b[39m'\u001b[39m\u001b[39mcity\u001b[39m\u001b[39m'\u001b[39m]\n\u001b[0;32m----> 3\u001b[0m emp[\u001b[39m'\u001b[39;49m\u001b[39mSomeKey\u001b[39;49m\u001b[39m'\u001b[39;49m]\n",
      "\u001b[0;31mKeyError\u001b[0m: 'SomeKey'"
     ]
    }
   ],
   "source": [
    "#Accessing by key, if key not found KeyError is raised\n",
    "emp['city']\n",
    "emp['SomeKey']"
   ]
  },
  {
   "attachments": {},
   "cell_type": "markdown",
   "metadata": {},
   "source": [
    "Creation of dictionry\n",
    "Case 1: When we already know the elements of dictionary"
   ]
  },
  {
   "cell_type": "code",
   "execution_count": 8,
   "metadata": {},
   "outputs": [
    {
     "data": {
      "text/plain": [
       "{'Name': 'Pawan', 'ID': None, 'City': 'Bangalore'}"
      ]
     },
     "execution_count": 8,
     "metadata": {},
     "output_type": "execute_result"
    }
   ],
   "source": [
    "{'Name':'Pawan', 'ID':None, 'City': 'Bangalore'}"
   ]
  },
  {
   "attachments": {},
   "cell_type": "markdown",
   "metadata": {},
   "source": [
    "Case 2: using dict()\n",
    "Dict function takes an iterable.\n",
    "The iterable that we pass insode the dict() should have one more iterable inside it.\n",
    "The inner iterable should have two elements, the first element becomes the key, second is value of the dictionary\n",
    "\n",
    "List of list\n",
    "List of tuple\n",
    "Tuple of lists\n",
    "tuple of tuples"
   ]
  },
  {
   "cell_type": "code",
   "execution_count": 12,
   "metadata": {},
   "outputs": [
    {
     "name": "stdout",
     "output_type": "stream",
     "text": [
      "{'Name': 'Pawan', 'Age': 31}\n",
      "{'Name': 'Pawan', 'Age': 31}\n",
      "{'Name': 'Pawan', 'Age': 31}\n"
     ]
    }
   ],
   "source": [
    "list_of_list = [['Name', 'Pawan'], ['Age',31]]\n",
    "print(dict(list_of_list))\n",
    "list_of_tuples = [('Name', 'Pawan'), ('Age',31)]\n",
    "print(dict(list_of_tuples))\n",
    "tuple_of_tuple=(('Name', 'Pawan'), ('Age', 31))\n",
    "print(dict(tuple_of_tuple))"
   ]
  },
  {
   "attachments": {},
   "cell_type": "markdown",
   "metadata": {},
   "source": [
    "#enumerate()\n",
    "It takes an iterable as an argument\n",
    "It returns an inumerate object\n",
    "Matches element of the iterable from 0 to len(iterable)-1"
   ]
  },
  {
   "cell_type": "code",
   "execution_count": 15,
   "metadata": {},
   "outputs": [
    {
     "name": "stdout",
     "output_type": "stream",
     "text": [
      "<enumerate object at 0x108072ca0>\n",
      "[(0, 'p'), (1, 'y'), (2, 't'), (3, 'h'), (4, 'o'), (5, 'n')]\n"
     ]
    }
   ],
   "source": [
    "a='python'\n",
    "e=enumerate(a)\n",
    "print(e)\n",
    "print(list(e))"
   ]
  },
  {
   "cell_type": "code",
   "execution_count": 14,
   "metadata": {},
   "outputs": [
    {
     "name": "stdout",
     "output_type": "stream",
     "text": [
      "<enumerate object at 0x103b19f30>\n",
      "((0, 'p'), (1, 'y'), (2, 't'), (3, 'h'), (4, 'o'), (5, 'n'))\n"
     ]
    }
   ],
   "source": [
    "a='python'\n",
    "e=enumerate(a)\n",
    "print(e)\n",
    "print(tuple(e))"
   ]
  },
  {
   "cell_type": "code",
   "execution_count": 18,
   "metadata": {},
   "outputs": [
    {
     "name": "stdout",
     "output_type": "stream",
     "text": [
      "4429655200\n"
     ]
    },
    {
     "data": {
      "text/plain": [
       "4356939568"
      ]
     },
     "execution_count": 18,
     "metadata": {},
     "output_type": "execute_result"
    }
   ],
   "source": [
    "print(id(e))\n",
    "int(0x103b19f30)"
   ]
  },
  {
   "cell_type": "code",
   "execution_count": 20,
   "metadata": {},
   "outputs": [
    {
     "data": {
      "text/plain": [
       "{0: True, 1: 'Python', 2: 10, 3: False, 4: None, 5: (1, 2, 3)}"
      ]
     },
     "execution_count": 20,
     "metadata": {},
     "output_type": "execute_result"
    }
   ],
   "source": [
    "#Create a dict where index is the key and elements of list are values\n",
    "list_1 = [True, 'Python', 10, False, None, (1,2,3)]\n",
    "dict(enumerate(list_1))"
   ]
  },
  {
   "attachments": {},
   "cell_type": "markdown",
   "metadata": {},
   "source": [
    "#Zip()\n",
    "It takes 2 or more iterables as arguments\n",
    "It maps all the elements of all iterables one by one in sequence and returns a zip of it\n",
    "To fetch values, we can pass zip object to list(), tuple(), dict()\n",
    "*Note*: While creating a dict, the zip() should have only 2 iterables to map for key and value \n",
    "\n",
    "Element by element mapping, use zip()"
   ]
  },
  {
   "cell_type": "code",
   "execution_count": 23,
   "metadata": {},
   "outputs": [
    {
     "name": "stdout",
     "output_type": "stream",
     "text": [
      "<zip object at 0x108078980> <class 'zip'>\n",
      "(('a', 10), ('b', 20), ('c', 30), ('d', 40), ('e', 50)) <class 'tuple'>\n",
      "{} <class 'dict'>\n"
     ]
    }
   ],
   "source": [
    "a='abcde'\n",
    "lst=[10,20,30,40,50]\n",
    "z = zip(a, lst)\n",
    "print(z, type(z))\n",
    "t = tuple(z)\n",
    "print(t, type(t))\n",
    "\n"
   ]
  },
  {
   "cell_type": "code",
   "execution_count": 25,
   "metadata": {},
   "outputs": [
    {
     "name": "stdout",
     "output_type": "stream",
     "text": [
      "<zip object at 0x1080786c0> <class 'zip'>\n",
      "{'a': 10, 'b': 20, 'c': 30, 'd': 40, 'e': 50} <class 'dict'>\n"
     ]
    }
   ],
   "source": [
    "a='abcde'\n",
    "lst=[10,20,30,40,50]\n",
    "z = zip(a, lst)\n",
    "print(z, type(z))\n",
    "d = dict(z)\n",
    "print(d, type(d))"
   ]
  },
  {
   "cell_type": "code",
   "execution_count": 26,
   "metadata": {},
   "outputs": [
    {
     "name": "stdout",
     "output_type": "stream",
     "text": [
      "[('a', 10, 1000), ('b', 20, 2000), ('c', 30, 3000), ('d', 40, 4000)]\n"
     ]
    }
   ],
   "source": [
    "a='abcd'\n",
    "b=[10, 20, 30, 40]\n",
    "c=(1000, 2000, 3000, 4000)\n",
    "z = zip(a,b,c)\n",
    "print(list(z))"
   ]
  }
 ],
 "metadata": {
  "kernelspec": {
   "display_name": "Python 3",
   "language": "python",
   "name": "python3"
  },
  "language_info": {
   "codemirror_mode": {
    "name": "ipython",
    "version": 3
   },
   "file_extension": ".py",
   "mimetype": "text/x-python",
   "name": "python",
   "nbconvert_exporter": "python",
   "pygments_lexer": "ipython3",
   "version": "3.11.1"
  },
  "orig_nbformat": 4
 },
 "nbformat": 4,
 "nbformat_minor": 2
}
