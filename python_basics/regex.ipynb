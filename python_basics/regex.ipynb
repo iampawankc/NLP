{
 "cells": [
  {
   "attachments": {},
   "cell_type": "markdown",
   "metadata": {},
   "source": [
    "Class date: April 24\n",
    "# regex \n",
    "\n",
    "Methods\n",
    "1. match()\n",
    "2. Search()\n",
    "3. findall()\n",
    "4. finditer()\n",
    "5. group()\n",
    "\n",
    "# Functions and attrubutes in match() method:\n",
    "1 group() : It returns the pattern matched from the match object\n",
    "2 span() : Returns tuple of two elements. 1st = start index, 2= stop index\n",
    "3 start() : Returns start index\n",
    "4 end() : Returns stop index\n",
    "5 None : Stop index is always excluded."
   ]
  },
  {
   "cell_type": "code",
   "execution_count": 47,
   "metadata": {},
   "outputs": [
    {
     "name": "stdout",
     "output_type": "stream",
     "text": [
      "<regex.Match object; span=(0, 5), match='India'>\n"
     ]
    }
   ],
   "source": [
    "import regex as re\n",
    "\n",
    "text='India is my country, India'\n",
    "pat=r'India'\n",
    "\n",
    "x=re.match(pat, text)\n",
    "print(x)"
   ]
  },
  {
   "cell_type": "code",
   "execution_count": 48,
   "metadata": {},
   "outputs": [
    {
     "name": "stdout",
     "output_type": "stream",
     "text": [
      "India\n",
      "(0, 5)\n",
      "0\n",
      "5\n"
     ]
    }
   ],
   "source": [
    "print(x.group())\n",
    "print(x.span())\n",
    "print(x.start())\n",
    "print(x.end())"
   ]
  },
  {
   "attachments": {},
   "cell_type": "markdown",
   "metadata": {},
   "source": [
    "# search() : It matches the first occurance of pattern from left to right. If pattern is found, it returns match object. If pattern not found then it returns Null."
   ]
  },
  {
   "cell_type": "code",
   "execution_count": 49,
   "metadata": {},
   "outputs": [
    {
     "name": "stdout",
     "output_type": "stream",
     "text": [
      "<regex.Match object; span=(14, 19), match='India'>\n",
      "India\n",
      "(14, 19)\n",
      "14\n",
      "19\n"
     ]
    }
   ],
   "source": [
    "text = 'My country is India, I love my India'\n",
    "pat=r'India'\n",
    "\n",
    "x=re.search(pat, text)\n",
    "print(x)\n",
    "\n",
    "print(x.group())\n",
    "print(x.span())\n",
    "print(x.start())\n",
    "print(x.end())"
   ]
  },
  {
   "attachments": {},
   "cell_type": "markdown",
   "metadata": {},
   "source": [
    "# findall(): It matches all the occurances in the string and return the list. If pattern is not found, it returns empty list."
   ]
  },
  {
   "cell_type": "code",
   "execution_count": 50,
   "metadata": {},
   "outputs": [
    {
     "name": "stdout",
     "output_type": "stream",
     "text": [
      "['India', 'India']\n"
     ]
    }
   ],
   "source": [
    "text = 'My country is India, I love my India'\n",
    "pat=r'India'\n",
    "\n",
    "x=re.findall(pat, text)\n",
    "print(x)"
   ]
  },
  {
   "attachments": {},
   "cell_type": "markdown",
   "metadata": {},
   "source": [
    "# finditer() : \n",
    "1. It matches all occurances of pattern in the string \n",
    "2. It returns iterator object where each element in iterator object is a match object. \n",
    "3. To fetch the elements from an iterator object, we use for loop\n",
    "4. If pattern is not found, it returns empty iterator\n",
    "\n",
    "syntax: re.finditer(pattern, string)"
   ]
  },
  {
   "cell_type": "code",
   "execution_count": 51,
   "metadata": {},
   "outputs": [
    {
     "name": "stdout",
     "output_type": "stream",
     "text": [
      "<_regex.Scanner object at 0x1285899f0>\n",
      "<regex.Match object; span=(14, 19), match='India'>\n",
      "<regex.Match object; span=(31, 36), match='India'>\n"
     ]
    }
   ],
   "source": [
    "text = 'My country is India, I love my India'\n",
    "pat=r'India'\n",
    "\n",
    "x=re.finditer(pat, text)\n",
    "print(x)\n",
    "\n",
    "for i in x:\n",
    "    print(i)"
   ]
  },
  {
   "attachments": {},
   "cell_type": "markdown",
   "metadata": {},
   "source": [
    "# Metacharacters: \n",
    "Are special characters in Regex\n",
    "They carry special meaning and used for specific purpose\n",
    "\n",
    "[] set: \n",
    "[A] : It will match all A's in the string.\n",
    "[AB] : It will match A abd B seperately one by one in the string\n",
    "[A-B] : Range, It will match all uppercase letters from A to B one by one \n",
    "[a-z] : It will match all lower case letters from a to z\n",
    "[0-9] : It will match all digits between 0 to 9\n",
    "[A-Za-z0-9] : Passing multiple search patterns!! It finds all uppercase, lowercase and digits.\n",
    "\n",
    "# Carat has 2 behaviors, within set and outside of set operator\n",
    "# Carat symbol (^) (within set operator)\n",
    "[^A] : It will match everything in string except A. \n",
    "[^A-B]: Matches everything except upper case characters\n",
    "\n",
    "# ^ carat (Outside set operator)\n",
    "It matches the pattern at the beginning of the string. It is similar to match()\n",
    "\n",
    "# $ dollar\n",
    "It matches the pattern at the end of the string\n",
    "To be used after the string (ex: pat$)\n",
    "\n",
    "# . dot\n",
    "It matches all the characters except new line(\\n) character\n",
    "\n",
    "# | or\n",
    "abc|xyz\n",
    "Ot matches either abc or eyz\n",
    "\n",
    "(): group\n",
    "^: Carat\n",
    "|: or\n"
   ]
  },
  {
   "cell_type": "code",
   "execution_count": 52,
   "metadata": {},
   "outputs": [
    {
     "name": "stdout",
     "output_type": "stream",
     "text": [
      "<regex.Match object; span=(20, 21), match='B'>\n",
      "<regex.Match object; span=(41, 42), match='B'>\n",
      "<regex.Match object; span=(42, 43), match='B'>\n",
      "***************\n",
      "<regex.Match object; span=(6, 7), match='A'>\n",
      "<regex.Match object; span=(7, 8), match='A'>\n",
      "<regex.Match object; span=(16, 17), match='A'>\n",
      "<regex.Match object; span=(20, 21), match='B'>\n",
      "<regex.Match object; span=(40, 41), match='A'>\n",
      "<regex.Match object; span=(41, 42), match='B'>\n",
      "<regex.Match object; span=(42, 43), match='B'>\n"
     ]
    }
   ],
   "source": [
    "text = 'da 19 AA@# 43@$ AIj Bsk fjwu! @@%$@%1234ABB'\n",
    "pat='[B]'\n",
    "pat2='[AB]'\n",
    "\n",
    "x=re.finditer(pat, text)\n",
    "for i in x:\n",
    "    print(i)\n",
    "print('***************')\n",
    "x=re.finditer(pat2, text)\n",
    "for i in x:\n",
    "    print(i)"
   ]
  },
  {
   "cell_type": "code",
   "execution_count": 53,
   "metadata": {},
   "outputs": [
    {
     "name": "stdout",
     "output_type": "stream",
     "text": [
      "<regex.Match object; span=(6, 7), match='A'>\n",
      "<regex.Match object; span=(7, 8), match='A'>\n",
      "<regex.Match object; span=(16, 17), match='A'>\n",
      "<regex.Match object; span=(20, 21), match='B'>\n",
      "<regex.Match object; span=(40, 41), match='A'>\n",
      "<regex.Match object; span=(41, 42), match='B'>\n",
      "<regex.Match object; span=(42, 43), match='B'>\n",
      "<regex.Match object; span=(44, 45), match='A'>\n",
      "<regex.Match object; span=(46, 47), match='A'>\n",
      "<regex.Match object; span=(48, 49), match='D'>\n",
      "<regex.Match object; span=(50, 51), match='D'>\n",
      "<regex.Match object; span=(69, 70), match='D'>\n"
     ]
    }
   ],
   "source": [
    "text = 'da 19 AA@# 43@$ AIj Bsk fjwu! @@%$@%1234ABB ASAFDSDFGtgsgva2544$%@#$SDFGS'\n",
    "pat='[A-D]'\n",
    "\n",
    "x=re.finditer(pat, text)\n",
    "for i in x:\n",
    "    print(i)\n"
   ]
  },
  {
   "cell_type": "code",
   "execution_count": 54,
   "metadata": {},
   "outputs": [
    {
     "name": "stdout",
     "output_type": "stream",
     "text": [
      "<regex.Match object; span=(0, 1), match='d'>\n",
      "<regex.Match object; span=(1, 2), match='a'>\n",
      "<regex.Match object; span=(3, 4), match='1'>\n",
      "<regex.Match object; span=(4, 5), match='9'>\n",
      "<regex.Match object; span=(6, 7), match='A'>\n",
      "<regex.Match object; span=(7, 8), match='A'>\n",
      "<regex.Match object; span=(11, 12), match='4'>\n",
      "<regex.Match object; span=(12, 13), match='3'>\n",
      "<regex.Match object; span=(16, 17), match='A'>\n",
      "<regex.Match object; span=(17, 18), match='I'>\n",
      "<regex.Match object; span=(18, 19), match='j'>\n",
      "<regex.Match object; span=(20, 21), match='B'>\n",
      "<regex.Match object; span=(21, 22), match='s'>\n",
      "<regex.Match object; span=(22, 23), match='k'>\n",
      "<regex.Match object; span=(24, 25), match='f'>\n",
      "<regex.Match object; span=(25, 26), match='j'>\n",
      "<regex.Match object; span=(26, 27), match='w'>\n",
      "<regex.Match object; span=(27, 28), match='u'>\n",
      "<regex.Match object; span=(36, 37), match='1'>\n",
      "<regex.Match object; span=(37, 38), match='2'>\n",
      "<regex.Match object; span=(38, 39), match='3'>\n",
      "<regex.Match object; span=(39, 40), match='4'>\n",
      "<regex.Match object; span=(40, 41), match='A'>\n",
      "<regex.Match object; span=(41, 42), match='B'>\n",
      "<regex.Match object; span=(42, 43), match='B'>\n"
     ]
    }
   ],
   "source": [
    "text = 'da 19 AA@# 43@$ AIj Bsk fjwu! @@%$@%1234ABB'\n",
    "pat='[A-Za-z0-9]'\n",
    "\n",
    "x=re.finditer(pat, text)\n",
    "for i in x:\n",
    "    print(i)"
   ]
  },
  {
   "cell_type": "code",
   "execution_count": 55,
   "metadata": {},
   "outputs": [
    {
     "name": "stdout",
     "output_type": "stream",
     "text": [
      "<regex.Match object; span=(8, 9), match='@'>\n",
      "<regex.Match object; span=(9, 10), match='#'>\n",
      "<regex.Match object; span=(13, 14), match='@'>\n",
      "<regex.Match object; span=(14, 15), match='$'>\n",
      "<regex.Match object; span=(28, 29), match='!'>\n",
      "<regex.Match object; span=(30, 31), match='@'>\n",
      "<regex.Match object; span=(31, 32), match='@'>\n",
      "<regex.Match object; span=(32, 33), match='%'>\n",
      "<regex.Match object; span=(33, 34), match='$'>\n",
      "<regex.Match object; span=(34, 35), match='@'>\n",
      "<regex.Match object; span=(35, 36), match='%'>\n"
     ]
    }
   ],
   "source": [
    "text = 'da 19 AA@# 43@$ AIj Bsk fjwu! @@%$@%1234ABB'\n",
    "pat='[^A-Za-z 0-9]'\n",
    "\n",
    "x=re.finditer(pat, text)\n",
    "for i in x:\n",
    "    print(i)"
   ]
  },
  {
   "cell_type": "code",
   "execution_count": 56,
   "metadata": {},
   "outputs": [
    {
     "name": "stdout",
     "output_type": "stream",
     "text": [
      "<regex.Match object; span=(0, 2), match='da'>\n"
     ]
    }
   ],
   "source": [
    "text = 'da 19 AA@# 43@$ AIj Bsk fjwu! @@%$@%1234ABB'\n",
    "pat=r'^da'\n",
    "\n",
    "x=re.finditer(pat, text)\n",
    "for i in x:\n",
    "    print(i)\n"
   ]
  },
  {
   "cell_type": "code",
   "execution_count": 57,
   "metadata": {},
   "outputs": [
    {
     "name": "stdout",
     "output_type": "stream",
     "text": [
      "<regex.Match object; span=(42, 43), match='B'>\n"
     ]
    }
   ],
   "source": [
    "text = 'da 19 AA@# 43@$ AIj Bsk fjwu! @@%$@%1234ABB'\n",
    "pat=r'B$'\n",
    "\n",
    "x=re.finditer(pat, text)\n",
    "for i in x:\n",
    "    print(i)"
   ]
  },
  {
   "attachments": {},
   "cell_type": "markdown",
   "metadata": {},
   "source": [
    "# () group:\n",
    "It is used to group the pattern"
   ]
  },
  {
   "cell_type": "code",
   "execution_count": 58,
   "metadata": {},
   "outputs": [
    {
     "name": "stdout",
     "output_type": "stream",
     "text": [
      "<regex.Match object; span=(0, 3), match='abc'>\n",
      "<regex.Match object; span=(8, 15), match='xyz.com'>\n",
      "<regex.Match object; span=(32, 35), match='abc'>\n",
      "<regex.Match object; span=(40, 47), match='xyz.com'>\n",
      "******************\n",
      "<regex.Match object; span=(0, 7), match='abc.com'>\n",
      "<regex.Match object; span=(8, 15), match='xyz.com'>\n",
      "<regex.Match object; span=(32, 39), match='abc.com'>\n",
      "<regex.Match object; span=(40, 47), match='xyz.com'>\n"
     ]
    }
   ],
   "source": [
    "text='abc.com xyz.com jkl.com mno.com abc.com xyz.com'\n",
    "pat='abc|xyz.com'\n",
    "pat2= '(abc|xyz).com'\n",
    "\n",
    "x=re.finditer(pat, text)\n",
    "for i in x:\n",
    "    print(i)\n",
    "\n",
    "print('******************')\n",
    "\n",
    "x=re.finditer(pat2, text)\n",
    "for i in x:\n",
    "    print(i)"
   ]
  },
  {
   "cell_type": "code",
   "execution_count": 59,
   "metadata": {},
   "outputs": [
    {
     "name": "stdout",
     "output_type": "stream",
     "text": [
      "<regex.Match object; span=(0, 3), match='bat'>\n",
      "<regex.Match object; span=(4, 7), match='cat'>\n",
      "<regex.Match object; span=(16, 19), match='mat'>\n",
      "<regex.Match object; span=(24, 27), match='rat'>\n",
      "<regex.Match object; span=(32, 35), match='hat'>\n"
     ]
    }
   ],
   "source": [
    "text='bat cat set bed mat pet rat sat hat'\n",
    "pat=r'(b|m|r|c|h)at'\n",
    "\n",
    "x=re.finditer(pat, text)\n",
    "for i in x:\n",
    "    print(i)"
   ]
  },
  {
   "attachments": {},
   "cell_type": "markdown",
   "metadata": {},
   "source": [
    "Class record 25 Apr\n",
    "# Special sqeuences\n",
    "\n",
    "\\w : It matches all alpha-numeric characters\n",
    "\\W : Matches everything except alpha-numeric characters\n",
    "\\d : Matches all digits\n",
    "\\D : Matches everything except digits\n",
    "\\s : Matches Space characters and (\\n, \\t, etc)\n",
    "\\S : Matches everything except space characters\n",
    "\\b : Matches a boundry character or word\n",
    "\\B : Matches all characters where boundary words are not there"
   ]
  },
  {
   "cell_type": "code",
   "execution_count": 60,
   "metadata": {},
   "outputs": [
    {
     "name": "stdout",
     "output_type": "stream",
     "text": [
      "<regex.Match object; span=(14, 15), match=' '>\n",
      "<regex.Match object; span=(24, 25), match=' '>\n",
      "<regex.Match object; span=(30, 31), match=' '>\n"
     ]
    }
   ],
   "source": [
    "text = 'dsvawrihjogwih 242485192 #%@!$ SDFS@$%!1!@$'\n",
    "\n",
    "import regex as re\n",
    "pat=r'\\s'\n",
    "x=re.finditer(pat,text)\n",
    "for i in x:\n",
    "    print(i)"
   ]
  },
  {
   "cell_type": "code",
   "execution_count": 61,
   "metadata": {},
   "outputs": [
    {
     "name": "stdout",
     "output_type": "stream",
     "text": [
      "<regex.Match object; span=(0, 3), match='cat'>\n",
      "<regex.Match object; span=(19, 22), match='cat'>\n",
      "<regex.Match object; span=(27, 30), match='cat'>\n",
      "<regex.Match object; span=(55, 58), match='cat'>\n"
     ]
    }
   ],
   "source": [
    "text = 'cathelene bought a cat and cathelene takes care of the cat well and named it Tom'\n",
    "\n",
    "pat=r'\\bcat'\n",
    "x=re.finditer(pat,text)\n",
    "for i in x:\n",
    "    print(i)"
   ]
  },
  {
   "cell_type": "code",
   "execution_count": 62,
   "metadata": {},
   "outputs": [
    {
     "name": "stdout",
     "output_type": "stream",
     "text": [
      "<regex.Match object; span=(19, 22), match='cat'>\n",
      "<regex.Match object; span=(55, 58), match='cat'>\n",
      "<regex.Match object; span=(80, 83), match='cat'>\n"
     ]
    }
   ],
   "source": [
    "text = 'cathelene bought a cat and cathelene takes care of the cat well and named it Tomcat'\n",
    "\n",
    "pat=r'cat\\b'\n",
    "x=re.finditer(pat,text)\n",
    "for i in x:\n",
    "    print(i)"
   ]
  },
  {
   "cell_type": "code",
   "execution_count": 63,
   "metadata": {},
   "outputs": [
    {
     "name": "stdout",
     "output_type": "stream",
     "text": [
      "<regex.Match object; span=(19, 22), match='cat'>\n",
      "<regex.Match object; span=(55, 58), match='cat'>\n"
     ]
    }
   ],
   "source": [
    "text = 'cathelene bought a cat and cathelene takes care of the cat well and named it Tom'\n",
    "\n",
    "pat=r'\\bcat\\b'\n",
    "x=re.finditer(pat,text)\n",
    "for i in x:\n",
    "    print(i)"
   ]
  },
  {
   "cell_type": "code",
   "execution_count": 64,
   "metadata": {},
   "outputs": [
    {
     "name": "stdout",
     "output_type": "stream",
     "text": [
      "<regex.Match object; span=(0, 3), match='cat'>\n",
      "<regex.Match object; span=(27, 30), match='cat'>\n"
     ]
    }
   ],
   "source": [
    "text = 'cathelene bought a cat and cathelene takes care of the cat well and named it Tom'\n",
    "\n",
    "pat=r'cat\\B'\n",
    "x=re.finditer(pat,text)\n",
    "for i in x:\n",
    "    print(i)"
   ]
  },
  {
   "attachments": {},
   "cell_type": "markdown",
   "metadata": {},
   "source": [
    "# Quantifiers\n",
    "{2} : It matches 2 repetitions of the pattern\n",
    "{2,3} : Matches the repetitions in range\n",
    "? : It returns onle one repetition if found, else returns empty string\n",
    "* : It matches 0 or n repetitions (Returns all repetitions if pattern us found, else returns empty string if pattern not found)\n",
    "+ : It matches one or more than one repetition"
   ]
  },
  {
   "cell_type": "code",
   "execution_count": 65,
   "metadata": {},
   "outputs": [
    {
     "name": "stdout",
     "output_type": "stream",
     "text": [
      "<regex.Match object; span=(9, 11), match='go'>\n",
      "<regex.Match object; span=(18, 20), match='to'>\n"
     ]
    }
   ],
   "source": [
    "#Match all the words of lenght 2\n",
    "text='Joy Amit go happy to sleep ME'\n",
    "pat=r'\\b[a-z]{2}\\b'\n",
    "\n",
    "x=re.finditer(pat,text)\n",
    "for i in x:\n",
    "    print(i)"
   ]
  },
  {
   "cell_type": "code",
   "execution_count": 66,
   "metadata": {},
   "outputs": [
    {
     "name": "stdout",
     "output_type": "stream",
     "text": [
      "<regex.Match object; span=(0, 3), match='123'>\n",
      "<regex.Match object; span=(4, 9), match='23543'>\n",
      "<regex.Match object; span=(11, 16), match='56345'>\n",
      "<regex.Match object; span=(18, 23), match='32152'>\n",
      "<regex.Match object; span=(23, 26), match='345'>\n",
      "<regex.Match object; span=(40, 44), match='5666'>\n"
     ]
    }
   ],
   "source": [
    "text='123 235434 563456 32152345 3$%#@$ 34 $3 5666'\n",
    "pat=r'[0-9]{3,5}'\n",
    "\n",
    "x=re.finditer(pat,text)\n",
    "for i in x:\n",
    "    print(i)"
   ]
  },
  {
   "cell_type": "code",
   "execution_count": 67,
   "metadata": {},
   "outputs": [
    {
     "name": "stdout",
     "output_type": "stream",
     "text": [
      "<regex.Match object; span=(0, 1), match='a'>\n",
      "<regex.Match object; span=(1, 2), match='b'>\n",
      "<regex.Match object; span=(2, 3), match='c'>\n",
      "<regex.Match object; span=(3, 4), match='d'>\n",
      "<regex.Match object; span=(4, 4), match=''>\n",
      "<regex.Match object; span=(5, 5), match=''>\n",
      "<regex.Match object; span=(6, 7), match='m'>\n",
      "<regex.Match object; span=(7, 8), match='n'>\n",
      "<regex.Match object; span=(8, 8), match=''>\n",
      "<regex.Match object; span=(9, 9), match=''>\n"
     ]
    }
   ],
   "source": [
    "text='abcd#$mn1'\n",
    "pat=r'[a-z]?'\n",
    "\n",
    "x=re.finditer(pat,text)\n",
    "for i in x:\n",
    "    print(i)\n",
    "\n",
    "#There will always be one empty string at the last of the result"
   ]
  },
  {
   "cell_type": "code",
   "execution_count": 68,
   "metadata": {},
   "outputs": [
    {
     "name": "stdout",
     "output_type": "stream",
     "text": [
      "<regex.Match object; span=(0, 3), match='123'>\n",
      "<regex.Match object; span=(3, 3), match=''>\n",
      "<regex.Match object; span=(4, 10), match='235434'>\n",
      "<regex.Match object; span=(10, 10), match=''>\n",
      "<regex.Match object; span=(11, 17), match='563456'>\n",
      "<regex.Match object; span=(17, 17), match=''>\n",
      "<regex.Match object; span=(18, 26), match='32152345'>\n",
      "<regex.Match object; span=(26, 26), match=''>\n",
      "<regex.Match object; span=(27, 28), match='3'>\n",
      "<regex.Match object; span=(28, 28), match=''>\n",
      "<regex.Match object; span=(29, 29), match=''>\n",
      "<regex.Match object; span=(30, 30), match=''>\n",
      "<regex.Match object; span=(31, 31), match=''>\n",
      "<regex.Match object; span=(32, 32), match=''>\n",
      "<regex.Match object; span=(33, 33), match=''>\n",
      "<regex.Match object; span=(34, 36), match='34'>\n",
      "<regex.Match object; span=(36, 36), match=''>\n",
      "<regex.Match object; span=(37, 37), match=''>\n",
      "<regex.Match object; span=(38, 39), match='3'>\n",
      "<regex.Match object; span=(39, 39), match=''>\n",
      "<regex.Match object; span=(40, 44), match='5666'>\n",
      "<regex.Match object; span=(44, 44), match=''>\n"
     ]
    }
   ],
   "source": [
    "text='123 235434 563456 32152345 3$%#@$ 34 $3 5666'\n",
    "pat=r'[0-9]*'\n",
    "\n",
    "x=re.finditer(pat,text)\n",
    "for i in x:\n",
    "    print(i)"
   ]
  },
  {
   "cell_type": "code",
   "execution_count": 69,
   "metadata": {},
   "outputs": [
    {
     "name": "stdout",
     "output_type": "stream",
     "text": [
      "<regex.Match object; span=(0, 3), match='123'>\n",
      "<regex.Match object; span=(4, 10), match='235434'>\n",
      "<regex.Match object; span=(11, 17), match='563456'>\n",
      "<regex.Match object; span=(18, 26), match='32152345'>\n",
      "<regex.Match object; span=(27, 28), match='3'>\n",
      "<regex.Match object; span=(34, 36), match='34'>\n",
      "<regex.Match object; span=(38, 39), match='3'>\n",
      "<regex.Match object; span=(40, 44), match='5666'>\n"
     ]
    }
   ],
   "source": [
    "text='123 235434 563456 32152345 3$%#@$ 34 $3 5666'\n",
    "pat=r'[0-9]+'\n",
    "\n",
    "x=re.finditer(pat,text)\n",
    "for i in x:\n",
    "    print(i)"
   ]
  },
  {
   "attachments": {},
   "cell_type": "markdown",
   "metadata": {},
   "source": [
    " # Exercises"
   ]
  },
  {
   "cell_type": "code",
   "execution_count": 70,
   "metadata": {},
   "outputs": [
    {
     "name": "stdout",
     "output_type": "stream",
     "text": [
      "<regex.Match object; span=(0, 5), match='Pawan'>\n",
      "<regex.Match object; span=(21, 23), match='He'>\n",
      "<regex.Match object; span=(41, 47), match='Ramesh'>\n"
     ]
    }
   ],
   "source": [
    "#Match all the words that begin with capital words\n",
    "text='Pawan is a good boy, He is the friend of Ramesh'\n",
    "\n",
    "pat=r'[A-Z][a-z]+'\n",
    "\n",
    "x=re.finditer(pat,text)\n",
    "for i in x:\n",
    "    print(i)"
   ]
  },
  {
   "cell_type": "code",
   "execution_count": 71,
   "metadata": {},
   "outputs": [
    {
     "name": "stdout",
     "output_type": "stream",
     "text": [
      "<regex.Match object; span=(1, 2), match='$'>\n",
      "<regex.Match object; span=(8, 9), match='$'>\n",
      "<regex.Match object; span=(11, 12), match='$'>\n",
      "<regex.Match object; span=(15, 16), match='$'>\n"
     ]
    }
   ],
   "source": [
    "#Match $\n",
    "#$ is a special character. Use escape sequence to convert any special character into normal character\n",
    "\n",
    "text='a$fgsdf#$43$gfg$'\n",
    "pat='\\$'\n",
    "\n",
    "x=re.finditer(pat,text)\n",
    "for i in x:\n",
    "    print(i)"
   ]
  },
  {
   "cell_type": "code",
   "execution_count": 91,
   "metadata": {},
   "outputs": [
    {
     "name": "stdout",
     "output_type": "stream",
     "text": [
      "<regex.Match object; span=(0, 9), match='Mr. Pawan'>\n",
      "<regex.Match object; span=(10, 18), match='Ms. Tina'>\n",
      "<regex.Match object; span=(19, 28), match='Mrs_Sarah'>\n",
      "<regex.Match object; span=(34, 44), match='Mr._Rajesh'>\n",
      "<regex.Match object; span=(79, 89), match='Mr Sarvesh'>\n"
     ]
    }
   ],
   "source": [
    "text='''Mr. Pawan\n",
    "Ms. Tina\n",
    "Mrs_Sarah\n",
    "Amit\n",
    "Mr._Rajesh\n",
    "4523532523refgasfgs\n",
    "A#@$%DGFE#$%4\n",
    "Mr Sarvesh\n",
    "Sam\n",
    "Pater\n",
    "K\n",
    "P\n",
    "M\n",
    "G\n",
    "'''\n",
    "\n",
    "#Match all names with Salutation\n",
    "pat=r'M(rs|r|s)\\.?_? ?[A-Z][a-z]+'\n",
    "\n",
    "#Use ? to match optional characters\n",
    "#Use + when the characters to match are mandatory\n",
    "x=re.finditer(pat,text)\n",
    "for i in x:\n",
    "    print(i)\n"
   ]
  },
  {
   "cell_type": "code",
   "execution_count": 100,
   "metadata": {},
   "outputs": [
    {
     "name": "stdout",
     "output_type": "stream",
     "text": [
      "<regex.Match object; span=(0, 21), match='ashishsom@learnbay.co'>\n",
      "<regex.Match object; span=(67, 85), match='amit_123@gmail.com'>\n",
      "<regex.Match object; span=(86, 97), match='info@gov.in'>\n",
      "<regex.Match object; span=(113, 131), match='mail@amityuniv.edu'>\n"
     ]
    }
   ],
   "source": [
    "#Match valid email ID\n",
    "\n",
    "emails='''ashishsom@learnbay.co\n",
    "123_amit.com\n",
    "xyz.com\n",
    "sdfga45q43wrfaf243%@#%$\n",
    "amit_123@gmail.com\n",
    "info@gov.in\n",
    "@go.in\n",
    "abc.com\n",
    "mail@amityuniv.edu\n",
    "dfwe$@#$@#$@#$SDGEG\n",
    "rajesh_mba.123@yahoo.com\n",
    "'''\n",
    "\n",
    "pat=r'[a-z]+_?[a-z]*[0-9]*\\.?[a-z]*@[a-z]+(.com|.in|.edu|.co|.org)'\n",
    "\n",
    "#mandatory +\n",
    "#optional *\n",
    "\n",
    "x=re.finditer(pat,emails)\n",
    "for i in x:\n",
    "    print(i)"
   ]
  },
  {
   "attachments": {},
   "cell_type": "markdown",
   "metadata": {},
   "source": [
    "# sub()\n",
    "It replaces a pattern with some other string"
   ]
  },
  {
   "cell_type": "code",
   "execution_count": 102,
   "metadata": {},
   "outputs": [
    {
     "name": "stdout",
     "output_type": "stream",
     "text": [
      "This is Python class\n"
     ]
    }
   ],
   "source": [
    "#Each word should be seperated by a space\n",
    "text='This!is@Python#class'\n",
    "\n",
    "pat=r'[!@#]'\n",
    "\n",
    "x=re.sub(pat, ' ', text)\n",
    "print(x)"
   ]
  },
  {
   "attachments": {},
   "cell_type": "markdown",
   "metadata": {},
   "source": [
    "Class record Apr 26\n",
    "# Split()\n",
    "It splits the string from the pattern that we pass\n",
    "\n",
    "# fullmatch()\n",
    "It matches the complete pattern in a string"
   ]
  },
  {
   "cell_type": "code",
   "execution_count": 1,
   "metadata": {},
   "outputs": [
    {
     "name": "stdout",
     "output_type": "stream",
     "text": [
      "['Hello', 'goodMorning']\n"
     ]
    }
   ],
   "source": [
    "text = 'Hello1goodMorning'\n",
    "\n",
    "import regex as re\n",
    "\n",
    "x = re.split('\\d',text)\n",
    "print(x)"
   ]
  },
  {
   "cell_type": "code",
   "execution_count": 2,
   "metadata": {},
   "outputs": [
    {
     "name": "stdout",
     "output_type": "stream",
     "text": [
      "None\n"
     ]
    }
   ],
   "source": [
    "username='Pawan@1232134213412fgergav'\n",
    "pat=r'Pawan@123'\n",
    "\n",
    "print(re.fullmatch(pat,username))"
   ]
  },
  {
   "attachments": {},
   "cell_type": "markdown",
   "metadata": {},
   "source": [
    "# Complie function\n",
    "It is used to create a regex pattern\n",
    "It returns a re.pattern object\n",
    "We can call any regex function on re.pattern"
   ]
  },
  {
   "cell_type": "code",
   "execution_count": null,
   "metadata": {},
   "outputs": [],
   "source": []
  }
 ],
 "metadata": {
  "kernelspec": {
   "display_name": "Python 3",
   "language": "python",
   "name": "python3"
  },
  "language_info": {
   "codemirror_mode": {
    "name": "ipython",
    "version": 3
   },
   "file_extension": ".py",
   "mimetype": "text/x-python",
   "name": "python",
   "nbconvert_exporter": "python",
   "pygments_lexer": "ipython3",
   "version": "3.11.1"
  },
  "orig_nbformat": 4
 },
 "nbformat": 4,
 "nbformat_minor": 2
}
