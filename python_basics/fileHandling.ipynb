{
 "cells": [
  {
   "attachments": {},
   "cell_type": "markdown",
   "metadata": {},
   "source": [
    "Class date: April 13\n",
    "# File Handling\n",
    "\n",
    "Types of files\n",
    "1. Text files (.py, .txt, .pdf, .csv)\n",
    "2. Binary files: Any files apart from text files are binary files (eg:.dat, .bin, image, audio, video)\n",
    "\n",
    "# File operations\n"
   ]
  }
 ],
 "metadata": {
  "kernelspec": {
   "display_name": "Python 3",
   "language": "python",
   "name": "python3"
  },
  "language_info": {
   "name": "python",
   "version": "3.11.1"
  },
  "orig_nbformat": 4
 },
 "nbformat": 4,
 "nbformat_minor": 2
}
