{
 "cells": [
  {
   "attachments": {},
   "cell_type": "markdown",
   "metadata": {},
   "source": [
    "# Functions\n",
    "1. Inbuilt functions\n",
    "2. User-defined functions\n",
    "    a. Parameterised Functions\n",
    "    b. Non-parameterised functions"
   ]
  },
  {
   "attachments": {},
   "cell_type": "markdown",
   "metadata": {},
   "source": [
    "# Local and global variables"
   ]
  },
  {
   "cell_type": "code",
   "execution_count": 2,
   "metadata": {},
   "outputs": [
    {
     "name": "stdout",
     "output_type": "stream",
     "text": [
      "['In', 'Out', '_', '__', '___', '__builtin__', '__builtins__', '__doc__', '__loader__', '__name__', '__package__', '__spec__', '__vsc_ipynb_file__', '_dh', '_i', '_i1', '_i2', '_ih', '_ii', '_iii', '_oh', 'a', 'dummy', 'exit', 'get_ipython', 'open', 'quit']\n"
     ]
    }
   ],
   "source": [
    "a=10\n",
    "def dummy():\n",
    "    print(\"Insede dunction\")\n",
    "    x=10\n",
    "\n",
    "print(dir())\n",
    "#When printing the dir(), the global variable 'a' will be present"
   ]
  },
  {
   "attachments": {},
   "cell_type": "markdown",
   "metadata": {},
   "source": [
    "- Stack area: Variables are stored here. \n",
    "\n",
    "- Heap area: Values are stored here."
   ]
  },
  {
   "attachments": {},
   "cell_type": "markdown",
   "metadata": {},
   "source": [
    "Types of Arguments\n",
    "1. \n",
    "\n",
    "\n",
    "# 4. Variable length arguments\n",
    "- If you don't know the number of arguments then we can use variable length arguments\n",
    "- It stores the values inside a tuple"
   ]
  },
  {
   "cell_type": "code",
   "execution_count": 1,
   "metadata": {},
   "outputs": [],
   "source": [
    "def course(*a):\n",
    "    print(a, type(a))"
   ]
  },
  {
   "cell_type": "code",
   "execution_count": 2,
   "metadata": {},
   "outputs": [
    {
     "name": "stdout",
     "output_type": "stream",
     "text": [
      "('BCA', 'MCA', 'BE') <class 'tuple'>\n"
     ]
    }
   ],
   "source": [
    "course('BCA','MCA','BE')"
   ]
  },
  {
   "attachments": {},
   "cell_type": "markdown",
   "metadata": {},
   "source": [
    "# 5. Keyworded variable length arguments\n",
    "- When we dont know how many keyworded arguments are there, then we use this concept\n",
    "- It stires the values in a dictionary\n",
    "- The variables becomes keys, values are values of dict.\n",
    "\n",
    "def function_name(**a):  #a is a keyworded variable length arguments\n",
    "    code\n",
    "    code"
   ]
  },
  {
   "cell_type": "code",
   "execution_count": 6,
   "metadata": {},
   "outputs": [],
   "source": [
    "def course(**a):\n",
    "    print(a, type(a))"
   ]
  },
  {
   "cell_type": "code",
   "execution_count": 7,
   "metadata": {},
   "outputs": [
    {
     "name": "stdout",
     "output_type": "stream",
     "text": [
      "{'a': 10, 'b': 20, 'c': 30} <class 'dict'>\n"
     ]
    }
   ],
   "source": [
    "course(a=10,b=20,c=30)"
   ]
  },
  {
   "attachments": {},
   "cell_type": "markdown",
   "metadata": {},
   "source": [
    "What is the purpose of these types of arguments, why can’t we use tuple and dict directly?"
   ]
  },
  {
   "attachments": {},
   "cell_type": "markdown",
   "metadata": {},
   "source": [
    "# Anonymous Function (lambda functions)\n",
    "- Function without any name is anonymous function\n",
    "- Lanbda keyword is used to define anon function\n",
    "\n",
    "syntax:\n",
    "(lambda arguments:operation) (call)"
   ]
  },
  {
   "cell_type": "code",
   "execution_count": 10,
   "metadata": {},
   "outputs": [
    {
     "data": {
      "text/plain": [
       "<function __main__.<lambda>(a, b)>"
      ]
     },
     "execution_count": 10,
     "metadata": {},
     "output_type": "execute_result"
    }
   ],
   "source": [
    "#Create lambda that adds 2 numbers\n",
    "(lambda a, b: a+b) "
   ]
  },
  {
   "cell_type": "code",
   "execution_count": 11,
   "metadata": {},
   "outputs": [
    {
     "data": {
      "text/plain": [
       "30"
      ]
     },
     "execution_count": 11,
     "metadata": {},
     "output_type": "execute_result"
    }
   ],
   "source": [
    "(lambda a, b: a+b) (10,20)"
   ]
  },
  {
   "cell_type": "code",
   "execution_count": 12,
   "metadata": {},
   "outputs": [
    {
     "name": "stdout",
     "output_type": "stream",
     "text": [
      "200\n"
     ]
    }
   ],
   "source": [
    "x=(lambda x,y:x*y) (10,20)\n",
    "print(x)"
   ]
  },
  {
   "cell_type": "code",
   "execution_count": 14,
   "metadata": {},
   "outputs": [
    {
     "data": {
      "text/plain": [
       "30"
      ]
     },
     "execution_count": 14,
     "metadata": {},
     "output_type": "execute_result"
    }
   ],
   "source": [
    "# We can assign the lambda() to a variable and call that variable\n",
    "var = lambda a,b:(a+b)\n",
    "var(10,20)"
   ]
  },
  {
   "attachments": {},
   "cell_type": "markdown",
   "metadata": {},
   "source": [
    "lambda arguments:operation ternary operator"
   ]
  },
  {
   "cell_type": "code",
   "execution_count": 17,
   "metadata": {},
   "outputs": [],
   "source": [
    "#take 2 numbers and return max using anon function\n",
    "max = lambda a,b: a if a>b else b"
   ]
  },
  {
   "cell_type": "code",
   "execution_count": 18,
   "metadata": {},
   "outputs": [
    {
     "data": {
      "text/plain": [
       "10"
      ]
     },
     "execution_count": 18,
     "metadata": {},
     "output_type": "execute_result"
    }
   ],
   "source": [
    "max(5,10)"
   ]
  },
  {
   "cell_type": "code",
   "execution_count": 19,
   "metadata": {},
   "outputs": [
    {
     "data": {
      "text/plain": [
       "30"
      ]
     },
     "execution_count": 19,
     "metadata": {},
     "output_type": "execute_result"
    }
   ],
   "source": [
    "#take 3 numbers and return max using anon function\n",
    "max = lambda a,b,c: a if a>b and a>c else b if b>a and b>c else c\n",
    "max(10,20,30)"
   ]
  },
  {
   "cell_type": "code",
   "execution_count": 22,
   "metadata": {},
   "outputs": [
    {
     "data": {
      "text/plain": [
       "'odd'"
      ]
     },
     "execution_count": 22,
     "metadata": {},
     "output_type": "execute_result"
    }
   ],
   "source": [
    "#code to check if given number is even or odd\n",
    "num = lambda x:'even' if x%2==0 else 'odd'\n",
    "num(9)"
   ]
  },
  {
   "attachments": {},
   "cell_type": "markdown",
   "metadata": {},
   "source": [
    "# Filter()\n",
    "- Takes 2 arguments, first is a function, second is an iterable\n",
    "- It filters the values from iterables on basis of condition\n",
    "- It returns a filter object\n",
    "- Typecase to list() tuple() finally\n",
    "\n",
    "syntax: \n",
    "- filter(function, iterable)\n",
    "- filter(lambda function, iterable)\n",
    "- filter(lambda argument:condition, iterable)"
   ]
  },
  {
   "cell_type": "code",
   "execution_count": 24,
   "metadata": {},
   "outputs": [
    {
     "name": "stdout",
     "output_type": "stream",
     "text": [
      "<filter object at 0x108a7aa10>\n"
     ]
    },
    {
     "data": {
      "text/plain": [
       "[2, 4, 6, 8, 10, 12]"
      ]
     },
     "execution_count": 24,
     "metadata": {},
     "output_type": "execute_result"
    }
   ],
   "source": [
    "lst=[1,2,3,4,5,6,7,8,9,10,11,12]\n",
    "f= filter(lambda x:x%2==0, lst)\n",
    "print(f)\n",
    "list(f)"
   ]
  },
  {
   "cell_type": "code",
   "execution_count": 26,
   "metadata": {},
   "outputs": [
    {
     "name": "stdout",
     "output_type": "stream",
     "text": [
      "['e', 'o', 'e', 'e', 'o', 'e', 'I', 'o', 'o', 'u', 'e', 'a', 'i', 'i', 'o', 'i', 'e']\n"
     ]
    },
    {
     "data": {
      "text/plain": [
       "17"
      ]
     },
     "execution_count": 26,
     "metadata": {},
     "output_type": "execute_result"
    }
   ],
   "source": [
    "# Ftech all the vowels from text using filters()\n",
    "text='Hello everyone. I hopw your learning is going well'\n",
    "\n",
    "# f= filter(lambda x: x in 'AEIOUaeiou', text)\n",
    "# list(f)\n",
    "\n",
    "lst = list(filter(lambda x: x in 'AEIOUaeiou', text))\n",
    "print(lst)\n",
    "len(lst)"
   ]
  },
  {
   "attachments": {},
   "cell_type": "markdown",
   "metadata": {},
   "source": [
    "# Map()\n",
    "Date:Class of 11 April\n",
    "Takes 2 arguments, \n",
    "The function that we pass inside map() function should have 1 argument only as map func can fetch only one value at a time"
   ]
  },
  {
   "cell_type": "code",
   "execution_count": 2,
   "metadata": {},
   "outputs": [
    {
     "name": "stdout",
     "output_type": "stream",
     "text": [
      "[5, 10, 15, 20, 25, 30]\n"
     ]
    }
   ],
   "source": [
    "lst=[1,2,3,4,5,6]\n",
    "\n",
    "res = list(map(lambda x:x*5, lst))\n",
    "print(res)"
   ]
  },
  {
   "cell_type": "code",
   "execution_count": 3,
   "metadata": {},
   "outputs": [
    {
     "data": {
      "text/plain": [
       "[1, 2, 9, 4, 25, 6, 49]"
      ]
     },
     "execution_count": 3,
     "metadata": {},
     "output_type": "execute_result"
    }
   ],
   "source": [
    "#Create a new list that has the squares of the odd numbers from the list\n",
    "\n",
    "lst=[1,2,3,4,5,6,7]\n",
    "\n",
    "list(map(lambda x:x**2 if x%2!=0 else x, lst))"
   ]
  },
  {
   "cell_type": "code",
   "execution_count": 4,
   "metadata": {},
   "outputs": [
    {
     "data": {
      "text/plain": [
       "[1, 9, 25, 49]"
      ]
     },
     "execution_count": 4,
     "metadata": {},
     "output_type": "execute_result"
    }
   ],
   "source": [
    "list(map(lambda x:x**2, filter(lambda x:x%2!=0, lst)))"
   ]
  },
  {
   "attachments": {},
   "cell_type": "markdown",
   "metadata": {},
   "source": [
    "# Reduce()\n",
    "It is available in functools module in python\n",
    "It is used to perform aggregation operation on values of an iterable \n",
    "It takes 2 arguments, 1 is a function, 2 is an iterable\n",
    "It always return a single object\n",
    "The function that we pass indide the reduce() should always have 2 arguments(we need to have 2 arguments to apply any aggregations)\n",
    "\n",
    "Note:\n",
    "Filters and map takes 1 argument only for lambda expression, whereas reduce takes 2 arguments for lambda\n",
    "\n",
    "reduce(func, iterable)\n",
    "reduce(lambda x,y: operation, iterable)"
   ]
  },
  {
   "cell_type": "code",
   "execution_count": 6,
   "metadata": {},
   "outputs": [
    {
     "data": {
      "text/plain": [
       "55"
      ]
     },
     "execution_count": 6,
     "metadata": {},
     "output_type": "execute_result"
    }
   ],
   "source": [
    "#Sum of all elemets of a list using reduce\n",
    "from functools import reduce\n",
    "lst=[1,2,3,4,5,6,7,8,9,10]\n",
    "#lambda func here always need to have 2 arguments\n",
    "reduce(lambda x,y:x+y, lst)"
   ]
  },
  {
   "attachments": {},
   "cell_type": "markdown",
   "metadata": {},
   "source": [
    "# Map vs Reduce\n",
    "map() will perform the operation on each element of the iterable seperately\n",
    "reduce() perform aggregation on all elements (Not one by one seperately)"
   ]
  },
  {
   "attachments": {},
   "cell_type": "markdown",
   "metadata": {},
   "source": [
    "# Recersive functions\n",
    "function calling itself again and again\n",
    "We need to have a stopping condition to break the recursive function"
   ]
  },
  {
   "attachments": {},
   "cell_type": "markdown",
   "metadata": {},
   "source": [
    "# function properties\n",
    "Function aliasing \n",
    "Function can be passed as an argument to another function \n",
    "Function definition can be written in another function (Nested func)\n",
    "Function can be called inside another function \n",
    "Function may return another function"
   ]
  },
  {
   "cell_type": "code",
   "execution_count": 8,
   "metadata": {},
   "outputs": [
    {
     "name": "stdout",
     "output_type": "stream",
     "text": [
      "<function add at 0x1074d8f40> <class 'function'>\n",
      "<function add at 0x1074d8f40> <class 'function'>\n"
     ]
    },
    {
     "data": {
      "text/plain": [
       "3"
      ]
     },
     "execution_count": 8,
     "metadata": {},
     "output_type": "execute_result"
    }
   ],
   "source": [
    "#Assigning a function to a variable to known as function aliasing\n",
    "#Giving some other name to an existing function \n",
    "#name = function_name\n",
    "\n",
    "def add(x,y):\n",
    "    return x+y\n",
    "\n",
    "x=add #Function aliasing\n",
    "# x=add() #Function calling\n",
    "print(add, type(add))\n",
    "print(x, type(x))\n",
    "\n",
    "add(1,2)\n",
    "x(1,2)\n"
   ]
  }
 ],
 "metadata": {
  "kernelspec": {
   "display_name": "Python 3",
   "language": "python",
   "name": "python3"
  },
  "language_info": {
   "codemirror_mode": {
    "name": "ipython",
    "version": 3
   },
   "file_extension": ".py",
   "mimetype": "text/x-python",
   "name": "python",
   "nbconvert_exporter": "python",
   "pygments_lexer": "ipython3",
   "version": "3.11.1"
  },
  "orig_nbformat": 4
 },
 "nbformat": 4,
 "nbformat_minor": 2
}
